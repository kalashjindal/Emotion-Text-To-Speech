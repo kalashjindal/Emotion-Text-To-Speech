{
 "cells": [
  {
   "cell_type": "markdown",
   "metadata": {
    "_uuid": "92b885dd147dac19bd0a33db3cd0da100bd5bc23"
   },
   "source": [
    "# Sentiment Analysis"
   ]
  },
  {
   "cell_type": "code",
   "execution_count": 5,
   "metadata": {
    "_uuid": "303e72966af732ddef0bd8108a321095314e44af",
    "execution": {
     "iopub.execute_input": "2023-03-16T12:54:20.765995Z",
     "iopub.status.busy": "2023-03-16T12:54:20.765693Z",
     "iopub.status.idle": "2023-03-16T12:54:21.529959Z",
     "shell.execute_reply": "2023-03-16T12:54:21.529111Z",
     "shell.execute_reply.started": "2023-03-16T12:54:20.765941Z"
    }
   },
   "outputs": [],
   "source": [
    "import pandas as pd\n",
    "import matplotlib.pyplot as plt\n",
    "%matplotlib inline\n",
    "from sklearn.model_selection import train_test_split\n",
    "from sklearn.preprocessing import LabelEncoder\n",
    "from sklearn.metrics import confusion_matrix, classification_report, accuracy_score\n",
    "from sklearn.manifold import TSNE\n",
    "from sklearn.feature_extraction.text import TfidfVectorizer\n",
    "from tensorflow.keras.preprocessing.text import Tokenizer\n",
    "from tensorflow.keras.preprocessing.sequence import pad_sequences\n",
    "from tensorflow.keras.models import Sequential\n",
    "from tensorflow.keras.layers import Activation, Dense, Dropout, Embedding, Flatten, Conv1D, MaxPooling1D, LSTM\n",
    "from tensorflow.keras import utils\n",
    "from tensorflow.keras.callbacks import ReduceLROnPlateau, EarlyStopping\n",
    "import nltk\n",
    "from nltk.corpus import stopwords\n",
    "from  nltk.stem import SnowballStemmer\n",
    "import gensim\n",
    "import re\n",
    "import numpy as np\n",
    "import os\n",
    "from collections import Counter\n",
    "import logging\n",
    "import time\n",
    "import pickle\n",
    "import itertools\n",
    "logging.basicConfig(format='%(asctime)s : %(levelname)s : %(message)s', level=logging.INFO)"
   ]
  },
  {
   "cell_type": "code",
   "execution_count": 6,
   "metadata": {
    "_uuid": "35e1a89dead5fd160e4c9a024a21d2e569fc89ff",
    "execution": {
     "iopub.execute_input": "2023-03-16T12:54:21.799433Z",
     "iopub.status.busy": "2023-03-16T12:54:21.799160Z",
     "iopub.status.idle": "2023-03-16T12:54:21.923959Z",
     "shell.execute_reply": "2023-03-16T12:54:21.923099Z",
     "shell.execute_reply.started": "2023-03-16T12:54:21.799380Z"
    }
   },
   "outputs": [
    {
     "name": "stdout",
     "output_type": "stream",
     "text": [
      "[nltk_data] Downloading package stopwords to /usr/share/nltk_data...\n",
      "[nltk_data]   Unzipping corpora/stopwords.zip.\n"
     ]
    },
    {
     "data": {
      "text/plain": [
       "True"
      ]
     },
     "execution_count": 6,
     "metadata": {},
     "output_type": "execute_result"
    }
   ],
   "source": [
    "nltk.download('stopwords')"
   ]
  },
  {
   "cell_type": "markdown",
   "metadata": {
    "_uuid": "e8b01a07df001e4abcc745900336c4db06e455f3"
   },
   "source": [
    "### Settings"
   ]
  },
  {
   "cell_type": "code",
   "execution_count": 7,
   "metadata": {
    "_uuid": "180f0dd2a95419e4602b5c0229822b0111c826f6",
    "execution": {
     "iopub.execute_input": "2023-03-16T12:54:23.155796Z",
     "iopub.status.busy": "2023-03-16T12:54:23.155520Z",
     "iopub.status.idle": "2023-03-16T12:54:23.161617Z",
     "shell.execute_reply": "2023-03-16T12:54:23.160110Z",
     "shell.execute_reply.started": "2023-03-16T12:54:23.155743Z"
    }
   },
   "outputs": [],
   "source": [
    "# DATASET\n",
    "DATASET_COLUMNS = [\"target\", \"ids\", \"date\", \"flag\", \"user\", \"text\"]\n",
    "DATASET_ENCODING = \"ISO-8859-1\"\n",
    "TRAIN_SIZE = 0.8\n",
    "\n",
    "# TEXT CLENAING\n",
    "TEXT_CLEANING_RE = \"@\\S+|https?:\\S+|http?:\\S|[^A-Za-z0-9]+\"\n",
    "\n",
    "# WORD2VEC \n",
    "W2V_SIZE = 300\n",
    "W2V_WINDOW = 7\n",
    "W2V_EPOCH = 32\n",
    "W2V_MIN_COUNT = 10\n",
    "\n",
    "# KERAS\n",
    "SEQUENCE_LENGTH = 300\n",
    "EPOCHS = 8\n",
    "BATCH_SIZE = 1024\n",
    "\n",
    "# SENTIMENT\n",
    "POSITIVE = \"POSITIVE\"\n",
    "NEGATIVE = \"NEGATIVE\"\n",
    "NEUTRAL = \"NEUTRAL\"\n",
    "SENTIMENT_THRESHOLDS = (0.4, 0.7)\n",
    "\n",
    "# EXPORT\n",
    "KERAS_MODEL = \"model.h5\"\n",
    "WORD2VEC_MODEL = \"model.w2v\"\n",
    "TOKENIZER_MODEL = \"tokenizer.pkl\"\n",
    "ENCODER_MODEL = \"encoder.pkl\""
   ]
  },
  {
   "cell_type": "markdown",
   "metadata": {
    "_uuid": "1c3beecc618be68480b3d4f0de08d9d863da1dc1"
   },
   "source": [
    "### Read Dataset"
   ]
  },
  {
   "cell_type": "markdown",
   "metadata": {
    "_uuid": "563b3c44f1092dba0b853747b098e00509098cca"
   },
   "source": [
    "### Dataset details\n",
    "* **target**: the polarity of the tweet (0 = negative, 2 = neutral, 4 = positive)\n",
    "* **ids**: The id of the tweet ( 2087)\n",
    "* **date**: the date of the tweet (Sat May 16 23:58:44 UTC 2009)\n",
    "* **flag**: The query (lyx). If there is no query, then this value is NO_QUERY.\n",
    "* **user**: the user that tweeted (robotickilldozr)\n",
    "* **text**: the text of the tweet (Lyx is cool)"
   ]
  },
  {
   "cell_type": "markdown",
   "metadata": {},
   "source": []
  },
  {
   "cell_type": "code",
   "execution_count": 8,
   "metadata": {
    "_uuid": "bba8f91cd70de4f5ea0fb0870ae2029b6e3dcc24",
    "execution": {
     "iopub.execute_input": "2023-03-16T12:54:24.596631Z",
     "iopub.status.busy": "2023-03-16T12:54:24.596310Z",
     "iopub.status.idle": "2023-03-16T12:54:31.171273Z",
     "shell.execute_reply": "2023-03-16T12:54:31.170435Z",
     "shell.execute_reply.started": "2023-03-16T12:54:24.596572Z"
    }
   },
   "outputs": [
    {
     "name": "stdout",
     "output_type": "stream",
     "text": [
      "Open file: ../input/training.1600000.processed.noemoticon.csv\n"
     ]
    }
   ],
   "source": [
    "df = pd.read_csv(\"sentiment_dta.csv\", encoding =DATASET_ENCODING , names=DATASET_COLUMNS)"
   ]
  },
  {
   "cell_type": "code",
   "execution_count": 9,
   "metadata": {
    "_uuid": "936d499c00c4f1648bc16ca9d283c3b39be7fb10",
    "execution": {
     "iopub.execute_input": "2023-03-16T12:54:31.172926Z",
     "iopub.status.busy": "2023-03-16T12:54:31.172647Z",
     "iopub.status.idle": "2023-03-16T12:54:31.178416Z",
     "shell.execute_reply": "2023-03-16T12:54:31.177624Z",
     "shell.execute_reply.started": "2023-03-16T12:54:31.172878Z"
    }
   },
   "outputs": [
    {
     "name": "stdout",
     "output_type": "stream",
     "text": [
      "Dataset size: 1600000\n"
     ]
    }
   ],
   "source": [
    "print(\"Dataset size:\", len(df))"
   ]
  },
  {
   "cell_type": "markdown",
   "metadata": {
    "_uuid": "3f9a7bb129e184967b13261fb5d253af451c75c5"
   },
   "source": [
    "### Map target label to String\n",
    "* **0** -> **NEGATIVE**\n",
    "* **2** -> **NEUTRAL**\n",
    "* **4** -> **POSITIVE**"
   ]
  },
  {
   "cell_type": "code",
   "execution_count": 12,
   "metadata": {
    "_uuid": "14074b59106cb9550440839e48b832223fc9502f",
    "execution": {
     "iopub.execute_input": "2023-03-16T12:55:07.738576Z",
     "iopub.status.busy": "2023-03-16T12:55:07.738260Z",
     "iopub.status.idle": "2023-03-16T12:55:07.742842Z",
     "shell.execute_reply": "2023-03-16T12:55:07.741718Z",
     "shell.execute_reply.started": "2023-03-16T12:55:07.738515Z"
    }
   },
   "outputs": [],
   "source": [
    "decode_map = {0: \"NEGATIVE\", 2: \"NEUTRAL\", 4: \"POSITIVE\"}\n",
    "def decode_sentiment(label):\n",
    "    return decode_map[int(label)]"
   ]
  },
  {
   "cell_type": "code",
   "execution_count": 13,
   "metadata": {
    "_uuid": "4449d473187f647a195a6ac6986b009da32a7f4b",
    "execution": {
     "iopub.execute_input": "2023-03-16T12:55:08.650986Z",
     "iopub.status.busy": "2023-03-16T12:55:08.650676Z",
     "iopub.status.idle": "2023-03-16T12:55:09.707527Z",
     "shell.execute_reply": "2023-03-16T12:55:09.706659Z",
     "shell.execute_reply.started": "2023-03-16T12:55:08.650933Z"
    }
   },
   "outputs": [
    {
     "name": "stdout",
     "output_type": "stream",
     "text": [
      "CPU times: user 988 ms, sys: 38.5 ms, total: 1.03 s\n",
      "Wall time: 1.05 s\n"
     ]
    }
   ],
   "source": [
    "%%time\n",
    "df.target = df.target.apply(lambda x: decode_sentiment(x))"
   ]
  },
  {
   "cell_type": "code",
   "execution_count": 14,
   "metadata": {
    "_uuid": "19eb327803192f31cce3512aacb232f4d6b38715",
    "execution": {
     "iopub.execute_input": "2023-03-16T12:55:09.709298Z",
     "iopub.status.busy": "2023-03-16T12:55:09.708837Z",
     "iopub.status.idle": "2023-03-16T12:55:10.212098Z",
     "shell.execute_reply": "2023-03-16T12:55:10.205808Z",
     "shell.execute_reply.started": "2023-03-16T12:55:09.709082Z"
    }
   },
   "outputs": [
    {
     "data": {
      "text/plain": [
       "Text(0.5,1,'Dataset labels distribuition')"
      ]
     },
     "execution_count": 14,
     "metadata": {},
     "output_type": "execute_result"
    },
    {
     "data": {
      "image/png": "[encoded data removed]",
      "text/plain": [
       "<Figure size 1152x576 with 1 Axes>"
      ]
     },
     "metadata": {},
     "output_type": "display_data"
    }
   ],
   "source": [
    "target_cnt = Counter(df.target)\n",
    "\n",
    "plt.figure(figsize=(16,8))\n",
    "plt.bar(target_cnt.keys(), target_cnt.values())\n",
    "plt.title(\"Dataset labels distribuition\")"
   ]
  },
  {
   "cell_type": "markdown",
   "metadata": {
    "_uuid": "4329b1573518b03e497213efa7676220734ebb4b"
   },
   "source": [
    "### Pre-Process dataset"
   ]
  },
  {
   "cell_type": "code",
   "execution_count": 15,
   "metadata": {
    "_uuid": "8aeee8b7b9ea11b749c7f91cd4787a7b50ed1a91",
    "execution": {
     "iopub.execute_input": "2023-03-16T12:55:11.521760Z",
     "iopub.status.busy": "2023-03-16T12:55:11.521446Z",
     "iopub.status.idle": "2023-03-16T12:55:11.528144Z",
     "shell.execute_reply": "2023-03-16T12:55:11.527203Z",
     "shell.execute_reply.started": "2023-03-16T12:55:11.521706Z"
    }
   },
   "outputs": [],
   "source": [
    "stop_words = stopwords.words(\"english\")\n",
    "stemmer = SnowballStemmer(\"english\")"
   ]
  },
  {
   "cell_type": "code",
   "execution_count": 16,
   "metadata": {
    "_uuid": "649ebcb97969b9ac4301138783704bb3d7846a49",
    "execution": {
     "iopub.execute_input": "2023-03-16T12:55:12.792009Z",
     "iopub.status.busy": "2023-03-16T12:55:12.791699Z",
     "iopub.status.idle": "2023-03-16T12:55:12.796747Z",
     "shell.execute_reply": "2023-03-16T12:55:12.795944Z",
     "shell.execute_reply.started": "2023-03-16T12:55:12.791956Z"
    }
   },
   "outputs": [],
   "source": [
    "def preprocess(text, stem=False):\n",
    "    # Remove link,user and special characters\n",
    "    text = re.sub(TEXT_CLEANING_RE, ' ', str(text).lower()).strip()\n",
    "    tokens = []\n",
    "    for token in text.split():\n",
    "        if token not in stop_words:\n",
    "            if stem:\n",
    "                tokens.append(stemmer.stem(token))\n",
    "            else:\n",
    "                tokens.append(token)\n",
    "    return \" \".join(tokens)"
   ]
  },
  {
   "cell_type": "code",
   "execution_count": 17,
   "metadata": {
    "_uuid": "f7f3e77ab9291d14687c49e71ba9b2b1e3323432",
    "execution": {
     "iopub.execute_input": "2023-03-16T12:55:13.556371Z",
     "iopub.status.busy": "2023-03-16T12:55:13.556101Z",
     "iopub.status.idle": "2023-03-16T12:56:03.186300Z",
     "shell.execute_reply": "2023-03-16T12:56:03.185515Z",
     "shell.execute_reply.started": "2023-03-16T12:55:13.556312Z"
    }
   },
   "outputs": [
    {
     "name": "stdout",
     "output_type": "stream",
     "text": [
      "CPU times: user 49.3 s, sys: 186 ms, total: 49.5 s\n",
      "Wall time: 49.6 s\n"
     ]
    }
   ],
   "source": [
    "%%time\n",
    "df.text = df.text.apply(lambda x: preprocess(x))"
   ]
  },
  {
   "cell_type": "markdown",
   "metadata": {
    "_uuid": "f5f9714a8507409bbe780eebf2855a33e8e6ba37"
   },
   "source": [
    "### Split train and test"
   ]
  },
  {
   "cell_type": "code",
   "execution_count": 18,
   "metadata": {
    "_uuid": "d2b1179c968e3f3910c790ecf0c5b2cbb34b0e68",
    "execution": {
     "iopub.execute_input": "2023-03-16T12:56:03.188008Z",
     "iopub.status.busy": "2023-03-16T12:56:03.187542Z",
     "iopub.status.idle": "2023-03-16T12:56:04.147264Z",
     "shell.execute_reply": "2023-03-16T12:56:04.146469Z",
     "shell.execute_reply.started": "2023-03-16T12:56:03.187956Z"
    }
   },
   "outputs": [
    {
     "name": "stdout",
     "output_type": "stream",
     "text": [
      "TRAIN size: 1280000\n",
      "TEST size: 320000\n"
     ]
    }
   ],
   "source": [
    "df_train, df_test = train_test_split(df, test_size=1-TRAIN_SIZE, random_state=42)\n",
    "print(\"TRAIN size:\", len(df_train))\n",
    "print(\"TEST size:\", len(df_test))"
   ]
  },
  {
   "cell_type": "markdown",
   "metadata": {
    "_uuid": "f08a28aab2c3d16d8b9681a7d5d07587153a1cd6"
   },
   "source": [
    "### Word2Vec "
   ]
  },
  {
   "cell_type": "code",
   "execution_count": 19,
   "metadata": {
    "_uuid": "2461bf564de1b4414841933d0c1d1bee5f5cc5a6",
    "execution": {
     "iopub.execute_input": "2023-03-16T12:56:04.149016Z",
     "iopub.status.busy": "2023-03-16T12:56:04.148687Z",
     "iopub.status.idle": "2023-03-16T12:56:07.327827Z",
     "shell.execute_reply": "2023-03-16T12:56:07.325951Z",
     "shell.execute_reply.started": "2023-03-16T12:56:04.148962Z"
    }
   },
   "outputs": [
    {
     "name": "stdout",
     "output_type": "stream",
     "text": [
      "CPU times: user 2.87 s, sys: 307 ms, total: 3.17 s\n",
      "Wall time: 3.17 s\n"
     ]
    }
   ],
   "source": [
    "%%time\n",
    "documents = [_text.split() for _text in df_train.text] "
   ]
  },
  {
   "cell_type": "code",
   "execution_count": 20,
   "metadata": {
    "_uuid": "8e19b9f25801ba86420decc266d2b3e6fb44f1ea",
    "execution": {
     "iopub.execute_input": "2023-03-16T12:56:07.331242Z",
     "iopub.status.busy": "2023-03-16T12:56:07.331006Z",
     "iopub.status.idle": "2023-03-16T12:56:07.337493Z",
     "shell.execute_reply": "2023-03-16T12:56:07.336525Z",
     "shell.execute_reply.started": "2023-03-16T12:56:07.331194Z"
    }
   },
   "outputs": [],
   "source": [
    "w2v_model = gensim.models.word2vec.Word2Vec(size=W2V_SIZE, \n",
    "                                            window=W2V_WINDOW, \n",
    "                                            min_count=W2V_MIN_COUNT, \n",
    "                                            workers=8)"
   ]
  },
  {
   "cell_type": "code",
   "execution_count": 21,
   "metadata": {
    "_uuid": "58d655af07653c594bec6bebcfb302a973b0ad9c",
    "execution": {
     "iopub.execute_input": "2023-03-16T12:56:07.338969Z",
     "iopub.status.busy": "2023-03-16T12:56:07.338696Z",
     "iopub.status.idle": "2023-03-16T12:56:11.081831Z",
     "shell.execute_reply": "2023-03-16T12:56:11.080825Z",
     "shell.execute_reply.started": "2023-03-16T12:56:07.338917Z"
    }
   },
   "outputs": [
    {
     "name": "stderr",
     "output_type": "stream",
     "text": [
      "2023-03-16 12:56:07,343 : INFO : collecting all words and their counts\n",
      "2023-03-16 12:56:07,345 : INFO : PROGRESS: at sentence #0, processed 0 words, keeping 0 word types\n",
      "2023-03-16 12:56:07,367 : INFO : PROGRESS: at sentence #10000, processed 72565 words, keeping 14005 word types\n",
      "2023-03-16 12:56:07,386 : INFO : PROGRESS: at sentence #20000, processed 144393 words, keeping 21587 word types\n",
      "2023-03-16 12:56:07,407 : INFO : PROGRESS: at sentence #30000, processed 215826 words, keeping 27541 word types\n",
      "2023-03-16 12:56:07,426 : INFO : PROGRESS: at sentence #40000, processed 288271 words, keeping 32764 word types\n",
      "2023-03-16 12:56:07,447 : INFO : PROGRESS: at sentence #50000, processed 359772 words, keeping 37587 word types\n",
      "2023-03-16 12:56:07,468 : INFO : PROGRESS: at sentence #60000, processed 431431 words, keeping 42198 word types\n",
      "2023-03-16 12:56:07,489 : INFO : PROGRESS: at sentence #70000, processed 503103 words, keeping 46458 word types\n",
      "2023-03-16 12:56:07,512 : INFO : PROGRESS: at sentence #80000, processed 575709 words, keeping 50476 word types\n",
      "2023-03-16 12:56:07,531 : INFO : PROGRESS: at sentence #90000, processed 647100 words, keeping 54140 word types\n",
      "2023-03-16 12:56:07,552 : INFO : PROGRESS: at sentence #100000, processed 718681 words, keeping 57777 word types\n",
      "2023-03-16 12:56:07,574 : INFO : PROGRESS: at sentence #110000, processed 790696 words, keeping 61207 word types\n",
      "2023-03-16 12:56:07,594 : INFO : PROGRESS: at sentence #120000, processed 863134 words, keeping 64583 word types\n",
      "2023-03-16 12:56:07,615 : INFO : PROGRESS: at sentence #130000, processed 935111 words, keeping 67865 word types\n",
      "2023-03-16 12:56:07,635 : INFO : PROGRESS: at sentence #140000, processed 1006668 words, keeping 70966 word types\n",
      "2023-03-16 12:56:07,657 : INFO : PROGRESS: at sentence #150000, processed 1078512 words, keeping 74119 word types\n",
      "2023-03-16 12:56:07,677 : INFO : PROGRESS: at sentence #160000, processed 1149914 words, keeping 77187 word types\n",
      "2023-03-16 12:56:07,699 : INFO : PROGRESS: at sentence #170000, processed 1222145 words, keeping 80267 word types\n",
      "2023-03-16 12:56:07,719 : INFO : PROGRESS: at sentence #180000, processed 1294708 words, keeping 83393 word types\n",
      "2023-03-16 12:56:07,740 : INFO : PROGRESS: at sentence #190000, processed 1367608 words, keeping 86329 word types\n",
      "2023-03-16 12:56:07,764 : INFO : PROGRESS: at sentence #200000, processed 1439469 words, keeping 89103 word types\n",
      "2023-03-16 12:56:07,784 : INFO : PROGRESS: at sentence #210000, processed 1512099 words, keeping 91840 word types\n",
      "2023-03-16 12:56:07,805 : INFO : PROGRESS: at sentence #220000, processed 1584149 words, keeping 94636 word types\n",
      "2023-03-16 12:56:07,828 : INFO : PROGRESS: at sentence #230000, processed 1656354 words, keeping 97353 word types\n",
      "2023-03-16 12:56:07,848 : INFO : PROGRESS: at sentence #240000, processed 1728573 words, keeping 99975 word types\n",
      "2023-03-16 12:56:07,870 : INFO : PROGRESS: at sentence #250000, processed 1801102 words, keeping 102594 word types\n",
      "2023-03-16 12:56:07,890 : INFO : PROGRESS: at sentence #260000, processed 1873103 words, keeping 105162 word types\n",
      "2023-03-16 12:56:07,912 : INFO : PROGRESS: at sentence #270000, processed 1945245 words, keeping 107626 word types\n",
      "2023-03-16 12:56:07,933 : INFO : PROGRESS: at sentence #280000, processed 2017163 words, keeping 110141 word types\n",
      "2023-03-16 12:56:07,954 : INFO : PROGRESS: at sentence #290000, processed 2089574 words, keeping 112539 word types\n",
      "2023-03-16 12:56:07,975 : INFO : PROGRESS: at sentence #300000, processed 2160996 words, keeping 114893 word types\n",
      "2023-03-16 12:56:07,996 : INFO : PROGRESS: at sentence #310000, processed 2232913 words, keeping 117298 word types\n",
      "2023-03-16 12:56:08,017 : INFO : PROGRESS: at sentence #320000, processed 2305039 words, keeping 119693 word types\n",
      "2023-03-16 12:56:08,038 : INFO : PROGRESS: at sentence #330000, processed 2377119 words, keeping 122131 word types\n",
      "2023-03-16 12:56:08,061 : INFO : PROGRESS: at sentence #340000, processed 2449370 words, keeping 124416 word types\n",
      "2023-03-16 12:56:08,081 : INFO : PROGRESS: at sentence #350000, processed 2521564 words, keeping 126669 word types\n",
      "2023-03-16 12:56:08,103 : INFO : PROGRESS: at sentence #360000, processed 2593681 words, keeping 128912 word types\n",
      "2023-03-16 12:56:08,123 : INFO : PROGRESS: at sentence #370000, processed 2665692 words, keeping 131135 word types\n",
      "2023-03-16 12:56:08,147 : INFO : PROGRESS: at sentence #380000, processed 2737859 words, keeping 133403 word types\n",
      "2023-03-16 12:56:08,167 : INFO : PROGRESS: at sentence #390000, processed 2809848 words, keeping 135551 word types\n",
      "2023-03-16 12:56:08,189 : INFO : PROGRESS: at sentence #400000, processed 2882438 words, keeping 137742 word types\n",
      "2023-03-16 12:56:08,210 : INFO : PROGRESS: at sentence #410000, processed 2954075 words, keeping 139909 word types\n",
      "2023-03-16 12:56:08,231 : INFO : PROGRESS: at sentence #420000, processed 3026247 words, keeping 142144 word types\n",
      "2023-03-16 12:56:08,252 : INFO : PROGRESS: at sentence #430000, processed 3098659 words, keeping 144364 word types\n",
      "2023-03-16 12:56:08,274 : INFO : PROGRESS: at sentence #440000, processed 3170663 words, keeping 146439 word types\n",
      "2023-03-16 12:56:08,296 : INFO : PROGRESS: at sentence #450000, processed 3243344 words, keeping 148526 word types\n",
      "2023-03-16 12:56:08,319 : INFO : PROGRESS: at sentence #460000, processed 3315466 words, keeping 150610 word types\n",
      "2023-03-16 12:56:08,347 : INFO : PROGRESS: at sentence #470000, processed 3388295 words, keeping 152737 word types\n",
      "2023-03-16 12:56:08,369 : INFO : PROGRESS: at sentence #480000, processed 3460120 words, keeping 154757 word types\n",
      "2023-03-16 12:56:08,389 : INFO : PROGRESS: at sentence #490000, processed 3531883 words, keeping 156825 word types\n",
      "2023-03-16 12:56:08,411 : INFO : PROGRESS: at sentence #500000, processed 3604217 words, keeping 158859 word types\n",
      "2023-03-16 12:56:08,431 : INFO : PROGRESS: at sentence #510000, processed 3676427 words, keeping 160852 word types\n",
      "2023-03-16 12:56:08,453 : INFO : PROGRESS: at sentence #520000, processed 3749045 words, keeping 162863 word types\n",
      "2023-03-16 12:56:08,476 : INFO : PROGRESS: at sentence #530000, processed 3821622 words, keeping 164929 word types\n",
      "2023-03-16 12:56:08,496 : INFO : PROGRESS: at sentence #540000, processed 3893627 words, keeping 166840 word types\n",
      "2023-03-16 12:56:08,519 : INFO : PROGRESS: at sentence #550000, processed 3965477 words, keeping 168799 word types\n",
      "2023-03-16 12:56:08,541 : INFO : PROGRESS: at sentence #560000, processed 4038050 words, keeping 170802 word types\n",
      "2023-03-16 12:56:08,562 : INFO : PROGRESS: at sentence #570000, processed 4110296 words, keeping 172760 word types\n",
      "2023-03-16 12:56:08,583 : INFO : PROGRESS: at sentence #580000, processed 4182385 words, keeping 174635 word types\n",
      "2023-03-16 12:56:08,614 : INFO : PROGRESS: at sentence #590000, processed 4254632 words, keeping 176470 word types\n",
      "2023-03-16 12:56:08,636 : INFO : PROGRESS: at sentence #600000, processed 4326859 words, keeping 178350 word types\n",
      "2023-03-16 12:56:08,657 : INFO : PROGRESS: at sentence #610000, processed 4399183 words, keeping 180290 word types\n",
      "2023-03-16 12:56:08,678 : INFO : PROGRESS: at sentence #620000, processed 4471343 words, keeping 182129 word types\n",
      "2023-03-16 12:56:08,700 : INFO : PROGRESS: at sentence #630000, processed 4543286 words, keeping 184005 word types\n",
      "2023-03-16 12:56:08,721 : INFO : PROGRESS: at sentence #640000, processed 4615780 words, keeping 185835 word types\n",
      "2023-03-16 12:56:08,745 : INFO : PROGRESS: at sentence #650000, processed 4688481 words, keeping 187705 word types\n",
      "2023-03-16 12:56:08,768 : INFO : PROGRESS: at sentence #660000, processed 4760481 words, keeping 189439 word types\n",
      "2023-03-16 12:56:08,793 : INFO : PROGRESS: at sentence #670000, processed 4833024 words, keeping 191232 word types\n",
      "2023-03-16 12:56:08,818 : INFO : PROGRESS: at sentence #680000, processed 4904516 words, keeping 193177 word types\n",
      "2023-03-16 12:56:08,840 : INFO : PROGRESS: at sentence #690000, processed 4976968 words, keeping 194960 word types\n",
      "2023-03-16 12:56:08,861 : INFO : PROGRESS: at sentence #700000, processed 5049412 words, keeping 196725 word types\n",
      "2023-03-16 12:56:08,883 : INFO : PROGRESS: at sentence #710000, processed 5121976 words, keeping 198516 word types\n",
      "2023-03-16 12:56:08,906 : INFO : PROGRESS: at sentence #720000, processed 5193881 words, keeping 200325 word types\n",
      "2023-03-16 12:56:08,927 : INFO : PROGRESS: at sentence #730000, processed 5265467 words, keeping 202133 word types\n",
      "2023-03-16 12:56:08,949 : INFO : PROGRESS: at sentence #740000, processed 5337518 words, keeping 203818 word types\n",
      "2023-03-16 12:56:08,970 : INFO : PROGRESS: at sentence #750000, processed 5409321 words, keeping 205535 word types\n",
      "2023-03-16 12:56:08,992 : INFO : PROGRESS: at sentence #760000, processed 5481512 words, keeping 207282 word types\n",
      "2023-03-16 12:56:09,013 : INFO : PROGRESS: at sentence #770000, processed 5554093 words, keeping 209076 word types\n",
      "2023-03-16 12:56:09,036 : INFO : PROGRESS: at sentence #780000, processed 5625382 words, keeping 210805 word types\n",
      "2023-03-16 12:56:09,058 : INFO : PROGRESS: at sentence #790000, processed 5698066 words, keeping 212618 word types\n",
      "2023-03-16 12:56:09,079 : INFO : PROGRESS: at sentence #800000, processed 5770880 words, keeping 214374 word types\n",
      "2023-03-16 12:56:09,101 : INFO : PROGRESS: at sentence #810000, processed 5843418 words, keeping 216009 word types\n",
      "2023-03-16 12:56:09,127 : INFO : PROGRESS: at sentence #820000, processed 5915628 words, keeping 217804 word types\n",
      "2023-03-16 12:56:09,148 : INFO : PROGRESS: at sentence #830000, processed 5987499 words, keeping 219585 word types\n",
      "2023-03-16 12:56:09,171 : INFO : PROGRESS: at sentence #840000, processed 6058973 words, keeping 221344 word types\n",
      "2023-03-16 12:56:09,192 : INFO : PROGRESS: at sentence #850000, processed 6131125 words, keeping 223002 word types\n",
      "2023-03-16 12:56:09,217 : INFO : PROGRESS: at sentence #860000, processed 6202951 words, keeping 224643 word types\n",
      "2023-03-16 12:56:09,240 : INFO : PROGRESS: at sentence #870000, processed 6275461 words, keeping 226362 word types\n",
      "2023-03-16 12:56:09,261 : INFO : PROGRESS: at sentence #880000, processed 6347661 words, keeping 227986 word types\n",
      "2023-03-16 12:56:09,284 : INFO : PROGRESS: at sentence #890000, processed 6419806 words, keeping 229634 word types\n",
      "2023-03-16 12:56:09,305 : INFO : PROGRESS: at sentence #900000, processed 6491644 words, keeping 231389 word types\n",
      "2023-03-16 12:56:09,327 : INFO : PROGRESS: at sentence #910000, processed 6564022 words, keeping 233050 word types\n",
      "2023-03-16 12:56:09,351 : INFO : PROGRESS: at sentence #920000, processed 6636228 words, keeping 234686 word types\n",
      "2023-03-16 12:56:09,373 : INFO : PROGRESS: at sentence #930000, processed 6708573 words, keeping 236393 word types\n",
      "2023-03-16 12:56:09,394 : INFO : PROGRESS: at sentence #940000, processed 6779956 words, keeping 238052 word types\n",
      "2023-03-16 12:56:09,415 : INFO : PROGRESS: at sentence #950000, processed 6852599 words, keeping 239716 word types\n",
      "2023-03-16 12:56:09,438 : INFO : PROGRESS: at sentence #960000, processed 6924717 words, keeping 241354 word types\n",
      "2023-03-16 12:56:09,459 : INFO : PROGRESS: at sentence #970000, processed 6996992 words, keeping 242980 word types\n",
      "2023-03-16 12:56:09,480 : INFO : PROGRESS: at sentence #980000, processed 7068402 words, keeping 244646 word types\n",
      "2023-03-16 12:56:09,504 : INFO : PROGRESS: at sentence #990000, processed 7140346 words, keeping 246186 word types\n",
      "2023-03-16 12:56:09,525 : INFO : PROGRESS: at sentence #1000000, processed 7211757 words, keeping 247726 word types\n",
      "2023-03-16 12:56:09,547 : INFO : PROGRESS: at sentence #1010000, processed 7283267 words, keeping 249288 word types\n",
      "2023-03-16 12:56:09,569 : INFO : PROGRESS: at sentence #1020000, processed 7355299 words, keeping 250860 word types\n",
      "2023-03-16 12:56:09,589 : INFO : PROGRESS: at sentence #1030000, processed 7426918 words, keeping 252366 word types\n",
      "2023-03-16 12:56:09,612 : INFO : PROGRESS: at sentence #1040000, processed 7498815 words, keeping 253930 word types\n",
      "2023-03-16 12:56:09,632 : INFO : PROGRESS: at sentence #1050000, processed 7570499 words, keeping 255471 word types\n",
      "2023-03-16 12:56:09,655 : INFO : PROGRESS: at sentence #1060000, processed 7643251 words, keeping 257035 word types\n",
      "2023-03-16 12:56:09,675 : INFO : PROGRESS: at sentence #1070000, processed 7714721 words, keeping 258509 word types\n",
      "2023-03-16 12:56:09,697 : INFO : PROGRESS: at sentence #1080000, processed 7787371 words, keeping 260071 word types\n",
      "2023-03-16 12:56:09,718 : INFO : PROGRESS: at sentence #1090000, processed 7859336 words, keeping 261683 word types\n",
      "2023-03-16 12:56:09,740 : INFO : PROGRESS: at sentence #1100000, processed 7932029 words, keeping 263278 word types\n",
      "2023-03-16 12:56:09,761 : INFO : PROGRESS: at sentence #1110000, processed 8004146 words, keeping 264800 word types\n",
      "2023-03-16 12:56:09,782 : INFO : PROGRESS: at sentence #1120000, processed 8075880 words, keeping 266309 word types\n",
      "2023-03-16 12:56:09,805 : INFO : PROGRESS: at sentence #1130000, processed 8148163 words, keeping 267826 word types\n",
      "2023-03-16 12:56:09,827 : INFO : PROGRESS: at sentence #1140000, processed 8220487 words, keeping 269391 word types\n",
      "2023-03-16 12:56:09,848 : INFO : PROGRESS: at sentence #1150000, processed 8292498 words, keeping 270894 word types\n",
      "2023-03-16 12:56:09,869 : INFO : PROGRESS: at sentence #1160000, processed 8363838 words, keeping 272400 word types\n",
      "2023-03-16 12:56:09,890 : INFO : PROGRESS: at sentence #1170000, processed 8435510 words, keeping 273970 word types\n",
      "2023-03-16 12:56:09,913 : INFO : PROGRESS: at sentence #1180000, processed 8507795 words, keeping 275521 word types\n",
      "2023-03-16 12:56:09,934 : INFO : PROGRESS: at sentence #1190000, processed 8579080 words, keeping 277007 word types\n",
      "2023-03-16 12:56:09,955 : INFO : PROGRESS: at sentence #1200000, processed 8650606 words, keeping 278457 word types\n",
      "2023-03-16 12:56:09,977 : INFO : PROGRESS: at sentence #1210000, processed 8721893 words, keeping 279959 word types\n",
      "2023-03-16 12:56:09,998 : INFO : PROGRESS: at sentence #1220000, processed 8793795 words, keeping 281427 word types\n",
      "2023-03-16 12:56:10,019 : INFO : PROGRESS: at sentence #1230000, processed 8865726 words, keeping 282981 word types\n",
      "2023-03-16 12:56:10,042 : INFO : PROGRESS: at sentence #1240000, processed 8938173 words, keeping 284542 word types\n",
      "2023-03-16 12:56:10,065 : INFO : PROGRESS: at sentence #1250000, processed 9010842 words, keeping 286064 word types\n",
      "2023-03-16 12:56:10,087 : INFO : PROGRESS: at sentence #1260000, processed 9083261 words, keeping 287521 word types\n",
      "2023-03-16 12:56:10,110 : INFO : PROGRESS: at sentence #1270000, processed 9155616 words, keeping 288987 word types\n",
      "2023-03-16 12:56:10,133 : INFO : collected 290418 word types from a corpus of 9227204 raw words and 1280000 sentences\n",
      "2023-03-16 12:56:10,133 : INFO : Loading a fresh vocabulary\n",
      "2023-03-16 12:56:10,393 : INFO : effective_min_count=10 retains 30369 unique words (10% of original 290418, drops 260049)\n",
      "2023-03-16 12:56:10,397 : INFO : effective_min_count=10 leaves 8780739 word corpus (95% of original 9227204, drops 446465)\n",
      "2023-03-16 12:56:10,546 : INFO : deleting the raw counts dictionary of 290418 items\n",
      "2023-03-16 12:56:10,556 : INFO : sample=0.001 downsamples 45 most-common words\n",
      "2023-03-16 12:56:10,559 : INFO : downsampling leaves estimated 8222658 word corpus (93.6% of prior 8780739)\n",
      "2023-03-16 12:56:10,679 : INFO : estimated required memory for 30369 words and 300 dimensions: 88070100 bytes\n",
      "2023-03-16 12:56:10,683 : INFO : resetting layer weights\n"
     ]
    }
   ],
   "source": [
    "w2v_model.build_vocab(documents)"
   ]
  },
  {
   "cell_type": "code",
   "execution_count": 22,
   "metadata": {
    "_uuid": "72a5628ca81fd4b8983c12d93ae0bf950b86b6ae",
    "execution": {
     "iopub.execute_input": "2023-03-16T12:56:11.083493Z",
     "iopub.status.busy": "2023-03-16T12:56:11.083186Z",
     "iopub.status.idle": "2023-03-16T12:56:11.094269Z",
     "shell.execute_reply": "2023-03-16T12:56:11.093096Z",
     "shell.execute_reply.started": "2023-03-16T12:56:11.083440Z"
    }
   },
   "outputs": [
    {
     "name": "stdout",
     "output_type": "stream",
     "text": [
      "Vocab size 30369\n"
     ]
    }
   ],
   "source": [
    "words = w2v_model.wv.vocab.keys()\n",
    "vocab_size = len(words)\n",
    "print(\"Vocab size\", vocab_size)"
   ]
  },
  {
   "cell_type": "code",
   "execution_count": 23,
   "metadata": {
    "_uuid": "68c3e4a5ba07cac3dee67f78ecdd1404c7f83f14",
    "execution": {
     "iopub.execute_input": "2023-03-16T12:56:11.096892Z",
     "iopub.status.busy": "2023-03-16T12:56:11.096511Z",
     "iopub.status.idle": "2023-03-16T13:05:59.148786Z",
     "shell.execute_reply": "2023-03-16T13:05:59.148046Z",
     "shell.execute_reply.started": "2023-03-16T12:56:11.096832Z"
    }
   },
   "outputs": [
    {
     "name": "stderr",
     "output_type": "stream",
     "text": [
      "2023-03-16 12:56:11,102 : INFO : training model with 8 workers on 30369 vocabulary and 300 features, using sg=0 hs=0 sample=0.001 negative=5 window=7\n",
      "2023-03-16 12:56:12,119 : INFO : EPOCH 1 - PROGRESS: at 2.93% examples, 239633 words/s, in_qsize 16, out_qsize 0\n",
      "2023-03-16 12:56:13,179 : INFO : EPOCH 1 - PROGRESS: at 6.19% examples, 249676 words/s, in_qsize 15, out_qsize 2\n",
      "2023-03-16 12:56:14,154 : INFO : EPOCH 1 - PROGRESS: at 12.06% examples, 325602 words/s, in_qsize 15, out_qsize 0\n",
      "2023-03-16 12:56:15,155 : INFO : EPOCH 1 - PROGRESS: at 17.78% examples, 361654 words/s, in_qsize 14, out_qsize 0\n",
      "2023-03-16 12:56:16,156 : INFO : EPOCH 1 - PROGRESS: at 23.42% examples, 381776 words/s, in_qsize 15, out_qsize 0\n",
      "2023-03-16 12:56:17,157 : INFO : EPOCH 1 - PROGRESS: at 28.94% examples, 393718 words/s, in_qsize 15, out_qsize 0\n",
      "2023-03-16 12:56:18,190 : INFO : EPOCH 1 - PROGRESS: at 34.68% examples, 403015 words/s, in_qsize 15, out_qsize 0\n",
      "2023-03-16 12:56:19,267 : INFO : EPOCH 1 - PROGRESS: at 40.51% examples, 408764 words/s, in_qsize 13, out_qsize 2\n",
      "2023-03-16 12:56:20,277 : INFO : EPOCH 1 - PROGRESS: at 46.03% examples, 413281 words/s, in_qsize 15, out_qsize 0\n",
      "2023-03-16 12:56:21,305 : INFO : EPOCH 1 - PROGRESS: at 51.43% examples, 415500 words/s, in_qsize 16, out_qsize 1\n",
      "2023-03-16 12:56:22,347 : INFO : EPOCH 1 - PROGRESS: at 56.40% examples, 413306 words/s, in_qsize 15, out_qsize 0\n",
      "2023-03-16 12:56:23,357 : INFO : EPOCH 1 - PROGRESS: at 61.71% examples, 414886 words/s, in_qsize 16, out_qsize 2\n",
      "2023-03-16 12:56:24,403 : INFO : EPOCH 1 - PROGRESS: at 67.66% examples, 419086 words/s, in_qsize 15, out_qsize 1\n",
      "2023-03-16 12:56:25,434 : INFO : EPOCH 1 - PROGRESS: at 73.73% examples, 423733 words/s, in_qsize 15, out_qsize 1\n",
      "2023-03-16 12:56:26,444 : INFO : EPOCH 1 - PROGRESS: at 79.71% examples, 427757 words/s, in_qsize 15, out_qsize 0\n",
      "2023-03-16 12:56:27,473 : INFO : EPOCH 1 - PROGRESS: at 85.77% examples, 431328 words/s, in_qsize 15, out_qsize 0\n",
      "2023-03-16 12:56:28,500 : INFO : EPOCH 1 - PROGRESS: at 91.42% examples, 432492 words/s, in_qsize 15, out_qsize 5\n",
      "2023-03-16 12:56:29,507 : INFO : EPOCH 1 - PROGRESS: at 97.82% examples, 437375 words/s, in_qsize 15, out_qsize 0\n",
      "2023-03-16 12:56:29,801 : INFO : worker thread finished; awaiting finish of 7 more threads\n",
      "2023-03-16 12:56:29,811 : INFO : worker thread finished; awaiting finish of 6 more threads\n",
      "2023-03-16 12:56:29,826 : INFO : worker thread finished; awaiting finish of 5 more threads\n",
      "2023-03-16 12:56:29,850 : INFO : worker thread finished; awaiting finish of 4 more threads\n",
      "2023-03-16 12:56:29,852 : INFO : worker thread finished; awaiting finish of 3 more threads\n",
      "2023-03-16 12:56:29,853 : INFO : worker thread finished; awaiting finish of 2 more threads\n",
      "2023-03-16 12:56:29,854 : INFO : worker thread finished; awaiting finish of 1 more threads\n",
      "2023-03-16 12:56:29,859 : INFO : worker thread finished; awaiting finish of 0 more threads\n",
      "2023-03-16 12:56:29,859 : INFO : EPOCH - 1 : training on 9227204 raw words (8222702 effective words) took 18.7s, 438707 effective words/s\n",
      "2023-03-16 12:56:30,952 : INFO : EPOCH 2 - PROGRESS: at 5.54% examples, 419653 words/s, in_qsize 15, out_qsize 0\n",
      "2023-03-16 12:56:31,955 : INFO : EPOCH 2 - PROGRESS: at 11.08% examples, 435953 words/s, in_qsize 16, out_qsize 2\n",
      "2023-03-16 12:56:32,961 : INFO : EPOCH 2 - PROGRESS: at 16.27% examples, 432297 words/s, in_qsize 13, out_qsize 2\n",
      "2023-03-16 12:56:34,014 : INFO : EPOCH 2 - PROGRESS: at 21.03% examples, 417057 words/s, in_qsize 15, out_qsize 0\n",
      "2023-03-16 12:56:35,098 : INFO : EPOCH 2 - PROGRESS: at 26.66% examples, 419166 words/s, in_qsize 14, out_qsize 4\n",
      "2023-03-16 12:56:36,112 : INFO : EPOCH 2 - PROGRESS: at 32.52% examples, 428181 words/s, in_qsize 15, out_qsize 0\n",
      "2023-03-16 12:56:37,117 : INFO : EPOCH 2 - PROGRESS: at 38.25% examples, 433926 words/s, in_qsize 15, out_qsize 0\n",
      "2023-03-16 12:56:38,133 : INFO : EPOCH 2 - PROGRESS: at 44.07% examples, 439558 words/s, in_qsize 15, out_qsize 1\n",
      "2023-03-16 12:56:39,143 : INFO : EPOCH 2 - PROGRESS: at 49.81% examples, 441944 words/s, in_qsize 16, out_qsize 1\n",
      "2023-03-16 12:56:40,155 : INFO : EPOCH 2 - PROGRESS: at 55.53% examples, 444395 words/s, in_qsize 14, out_qsize 1\n",
      "2023-03-16 12:56:41,197 : INFO : EPOCH 2 - PROGRESS: at 61.50% examples, 446827 words/s, in_qsize 15, out_qsize 0\n",
      "2023-03-16 12:56:42,260 : INFO : EPOCH 2 - PROGRESS: at 67.23% examples, 446981 words/s, in_qsize 16, out_qsize 1\n",
      "2023-03-16 12:56:43,387 : INFO : EPOCH 2 - PROGRESS: at 73.08% examples, 444883 words/s, in_qsize 16, out_qsize 0\n",
      "2023-03-16 12:56:44,648 : INFO : EPOCH 2 - PROGRESS: at 75.78% examples, 421988 words/s, in_qsize 16, out_qsize 6\n",
      "2023-03-16 12:56:45,743 : INFO : EPOCH 2 - PROGRESS: at 80.90% examples, 419261 words/s, in_qsize 15, out_qsize 0\n",
      "2023-03-16 12:56:46,746 : INFO : EPOCH 2 - PROGRESS: at 86.75% examples, 422822 words/s, in_qsize 15, out_qsize 0\n",
      "2023-03-16 12:56:47,755 : INFO : EPOCH 2 - PROGRESS: at 93.05% examples, 427827 words/s, in_qsize 15, out_qsize 0\n",
      "2023-03-16 12:56:48,816 : INFO : EPOCH 2 - PROGRESS: at 98.79% examples, 428764 words/s, in_qsize 12, out_qsize 0\n",
      "2023-03-16 12:56:48,822 : INFO : worker thread finished; awaiting finish of 7 more threads\n",
      "2023-03-16 12:56:48,844 : INFO : worker thread finished; awaiting finish of 6 more threads\n",
      "2023-03-16 12:56:48,849 : INFO : worker thread finished; awaiting finish of 5 more threads\n",
      "2023-03-16 12:56:48,859 : INFO : worker thread finished; awaiting finish of 4 more threads\n",
      "2023-03-16 12:56:48,896 : INFO : worker thread finished; awaiting finish of 3 more threads\n",
      "2023-03-16 12:56:48,906 : INFO : worker thread finished; awaiting finish of 2 more threads\n",
      "2023-03-16 12:56:48,910 : INFO : worker thread finished; awaiting finish of 1 more threads\n",
      "2023-03-16 12:56:48,911 : INFO : worker thread finished; awaiting finish of 0 more threads\n",
      "2023-03-16 12:56:48,914 : INFO : EPOCH - 2 : training on 9227204 raw words (8222473 effective words) took 19.0s, 431764 effective words/s\n",
      "2023-03-16 12:56:49,936 : INFO : EPOCH 3 - PROGRESS: at 5.32% examples, 430716 words/s, in_qsize 15, out_qsize 0\n",
      "2023-03-16 12:56:50,961 : INFO : EPOCH 3 - PROGRESS: at 11.40% examples, 459267 words/s, in_qsize 16, out_qsize 0\n",
      "2023-03-16 12:56:51,994 : INFO : EPOCH 3 - PROGRESS: at 17.02% examples, 455386 words/s, in_qsize 16, out_qsize 0\n",
      "2023-03-16 12:56:53,006 : INFO : EPOCH 3 - PROGRESS: at 23.09% examples, 464670 words/s, in_qsize 16, out_qsize 0\n",
      "2023-03-16 12:56:54,014 : INFO : EPOCH 3 - PROGRESS: at 28.50% examples, 460189 words/s, in_qsize 15, out_qsize 0\n",
      "2023-03-16 12:56:55,017 : INFO : EPOCH 3 - PROGRESS: at 33.81% examples, 456090 words/s, in_qsize 16, out_qsize 0\n",
      "2023-03-16 12:56:56,023 : INFO : EPOCH 3 - PROGRESS: at 38.02% examples, 440411 words/s, in_qsize 15, out_qsize 2\n",
      "2023-03-16 12:56:57,094 : INFO : EPOCH 3 - PROGRESS: at 43.86% examples, 441555 words/s, in_qsize 15, out_qsize 0\n",
      "2023-03-16 12:56:58,142 : INFO : EPOCH 3 - PROGRESS: at 50.02% examples, 446473 words/s, in_qsize 15, out_qsize 0\n",
      "2023-03-16 12:56:59,144 : INFO : EPOCH 3 - PROGRESS: at 55.53% examples, 447179 words/s, in_qsize 15, out_qsize 0\n",
      "2023-03-16 12:57:00,167 : INFO : EPOCH 3 - PROGRESS: at 61.60% examples, 450877 words/s, in_qsize 15, out_qsize 0\n",
      "2023-03-16 12:57:01,172 : INFO : EPOCH 3 - PROGRESS: at 67.23% examples, 451712 words/s, in_qsize 14, out_qsize 2\n",
      "2023-03-16 12:57:02,229 : INFO : EPOCH 3 - PROGRESS: at 72.64% examples, 449308 words/s, in_qsize 15, out_qsize 0\n",
      "2023-03-16 12:57:03,262 : INFO : EPOCH 3 - PROGRESS: at 78.40% examples, 449827 words/s, in_qsize 16, out_qsize 0\n",
      "2023-03-16 12:57:04,295 : INFO : EPOCH 3 - PROGRESS: at 84.16% examples, 450323 words/s, in_qsize 15, out_qsize 0\n",
      "2023-03-16 12:57:05,321 : INFO : EPOCH 3 - PROGRESS: at 89.45% examples, 448735 words/s, in_qsize 15, out_qsize 0\n",
      "2023-03-16 12:57:06,326 : INFO : EPOCH 3 - PROGRESS: at 94.58% examples, 446874 words/s, in_qsize 15, out_qsize 0\n",
      "2023-03-16 12:57:07,244 : INFO : worker thread finished; awaiting finish of 7 more threads\n",
      "2023-03-16 12:57:07,270 : INFO : worker thread finished; awaiting finish of 6 more threads\n",
      "2023-03-16 12:57:07,274 : INFO : worker thread finished; awaiting finish of 5 more threads\n",
      "2023-03-16 12:57:07,289 : INFO : worker thread finished; awaiting finish of 4 more threads\n",
      "2023-03-16 12:57:07,305 : INFO : worker thread finished; awaiting finish of 3 more threads\n",
      "2023-03-16 12:57:07,314 : INFO : worker thread finished; awaiting finish of 2 more threads\n",
      "2023-03-16 12:57:07,320 : INFO : worker thread finished; awaiting finish of 1 more threads\n",
      "2023-03-16 12:57:07,328 : INFO : EPOCH 3 - PROGRESS: at 100.00% examples, 446791 words/s, in_qsize 0, out_qsize 1\n",
      "2023-03-16 12:57:07,328 : INFO : worker thread finished; awaiting finish of 0 more threads\n",
      "2023-03-16 12:57:07,330 : INFO : EPOCH - 3 : training on 9227204 raw words (8223193 effective words) took 18.4s, 446730 effective words/s\n",
      "2023-03-16 12:57:08,370 : INFO : EPOCH 4 - PROGRESS: at 4.78% examples, 381168 words/s, in_qsize 15, out_qsize 0\n",
      "2023-03-16 12:57:09,499 : INFO : EPOCH 4 - PROGRESS: at 10.53% examples, 403112 words/s, in_qsize 14, out_qsize 7\n",
      "2023-03-16 12:57:10,494 : INFO : EPOCH 4 - PROGRESS: at 16.27% examples, 423858 words/s, in_qsize 16, out_qsize 1\n",
      "2023-03-16 12:57:11,527 : INFO : EPOCH 4 - PROGRESS: at 22.22% examples, 436379 words/s, in_qsize 15, out_qsize 0\n",
      "2023-03-16 12:57:12,533 : INFO : EPOCH 4 - PROGRESS: at 27.96% examples, 442839 words/s, in_qsize 15, out_qsize 0\n",
      "2023-03-16 12:57:13,543 : INFO : EPOCH 4 - PROGRESS: at 33.59% examples, 445427 words/s, in_qsize 16, out_qsize 0\n",
      "2023-03-16 12:57:14,573 : INFO : EPOCH 4 - PROGRESS: at 39.65% examples, 450897 words/s, in_qsize 15, out_qsize 0\n",
      "2023-03-16 12:57:15,600 : INFO : EPOCH 4 - PROGRESS: at 44.40% examples, 442311 words/s, in_qsize 15, out_qsize 0\n",
      "2023-03-16 12:57:16,791 : INFO : EPOCH 4 - PROGRESS: at 47.97% examples, 417667 words/s, in_qsize 15, out_qsize 0\n",
      "2023-03-16 12:57:17,811 : INFO : EPOCH 4 - PROGRESS: at 53.05% examples, 417012 words/s, in_qsize 15, out_qsize 0\n",
      "2023-03-16 12:57:18,826 : INFO : EPOCH 4 - PROGRESS: at 58.58% examples, 419712 words/s, in_qsize 14, out_qsize 0\n",
      "2023-03-16 12:57:19,834 : INFO : EPOCH 4 - PROGRESS: at 63.86% examples, 420801 words/s, in_qsize 15, out_qsize 0\n",
      "2023-03-16 12:57:20,836 : INFO : EPOCH 4 - PROGRESS: at 69.94% examples, 426521 words/s, in_qsize 15, out_qsize 0\n",
      "2023-03-16 12:57:21,839 : INFO : EPOCH 4 - PROGRESS: at 75.35% examples, 427732 words/s, in_qsize 14, out_qsize 3\n",
      "2023-03-16 12:57:22,953 : INFO : EPOCH 4 - PROGRESS: at 81.45% examples, 429162 words/s, in_qsize 16, out_qsize 2\n",
      "2023-03-16 12:57:24,003 : INFO : EPOCH 4 - PROGRESS: at 87.62% examples, 432594 words/s, in_qsize 13, out_qsize 2\n",
      "2023-03-16 12:57:25,013 : INFO : EPOCH 4 - PROGRESS: at 93.49% examples, 435073 words/s, in_qsize 15, out_qsize 1\n",
      "2023-03-16 12:57:25,957 : INFO : worker thread finished; awaiting finish of 7 more threads\n",
      "2023-03-16 12:57:25,981 : INFO : worker thread finished; awaiting finish of 6 more threads\n",
      "2023-03-16 12:57:25,987 : INFO : worker thread finished; awaiting finish of 5 more threads\n",
      "2023-03-16 12:57:26,034 : INFO : EPOCH 4 - PROGRESS: at 99.56% examples, 438043 words/s, in_qsize 4, out_qsize 1\n",
      "2023-03-16 12:57:26,037 : INFO : worker thread finished; awaiting finish of 4 more threads\n",
      "2023-03-16 12:57:26,039 : INFO : worker thread finished; awaiting finish of 3 more threads\n",
      "2023-03-16 12:57:26,053 : INFO : worker thread finished; awaiting finish of 2 more threads\n",
      "2023-03-16 12:57:26,057 : INFO : worker thread finished; awaiting finish of 1 more threads\n",
      "2023-03-16 12:57:26,059 : INFO : worker thread finished; awaiting finish of 0 more threads\n",
      "2023-03-16 12:57:26,060 : INFO : EPOCH - 4 : training on 9227204 raw words (8223291 effective words) took 18.7s, 439323 effective words/s\n",
      "2023-03-16 12:57:27,151 : INFO : EPOCH 5 - PROGRESS: at 5.33% examples, 402712 words/s, in_qsize 15, out_qsize 0\n",
      "2023-03-16 12:57:28,160 : INFO : EPOCH 5 - PROGRESS: at 10.53% examples, 412974 words/s, in_qsize 12, out_qsize 1\n",
      "2023-03-16 12:57:29,210 : INFO : EPOCH 5 - PROGRESS: at 15.08% examples, 393986 words/s, in_qsize 15, out_qsize 0\n",
      "2023-03-16 12:57:30,317 : INFO : EPOCH 5 - PROGRESS: at 21.46% examples, 414969 words/s, in_qsize 15, out_qsize 0\n",
      "2023-03-16 12:57:31,322 : INFO : EPOCH 5 - PROGRESS: at 27.31% examples, 427206 words/s, in_qsize 16, out_qsize 2\n",
      "2023-03-16 12:57:32,385 : INFO : EPOCH 5 - PROGRESS: at 33.27% examples, 432815 words/s, in_qsize 15, out_qsize 0\n",
      "2023-03-16 12:57:33,385 : INFO : EPOCH 5 - PROGRESS: at 39.32% examples, 441848 words/s, in_qsize 15, out_qsize 0\n",
      "2023-03-16 12:57:34,442 : INFO : EPOCH 5 - PROGRESS: at 45.37% examples, 445653 words/s, in_qsize 15, out_qsize 0\n",
      "2023-03-16 12:57:35,529 : INFO : EPOCH 5 - PROGRESS: at 51.43% examples, 447236 words/s, in_qsize 15, out_qsize 0\n",
      "2023-03-16 12:57:36,543 : INFO : EPOCH 5 - PROGRESS: at 57.92% examples, 454996 words/s, in_qsize 16, out_qsize 0\n",
      "2023-03-16 12:57:37,547 : INFO : EPOCH 5 - PROGRESS: at 63.33% examples, 453977 words/s, in_qsize 13, out_qsize 2\n",
      "2023-03-16 12:57:38,550 : INFO : EPOCH 5 - PROGRESS: at 67.77% examples, 446725 words/s, in_qsize 12, out_qsize 0\n",
      "2023-03-16 12:57:39,575 : INFO : EPOCH 5 - PROGRESS: at 72.10% examples, 439211 words/s, in_qsize 16, out_qsize 0\n",
      "2023-03-16 12:57:40,642 : INFO : EPOCH 5 - PROGRESS: at 77.20% examples, 435749 words/s, in_qsize 14, out_qsize 1\n",
      "2023-03-16 12:57:41,690 : INFO : EPOCH 5 - PROGRESS: at 83.72% examples, 440751 words/s, in_qsize 14, out_qsize 1\n",
      "2023-03-16 12:57:42,711 : INFO : EPOCH 5 - PROGRESS: at 89.34% examples, 441522 words/s, in_qsize 14, out_qsize 1\n",
      "2023-03-16 12:57:43,769 : INFO : EPOCH 5 - PROGRESS: at 95.77% examples, 444796 words/s, in_qsize 15, out_qsize 1\n",
      "2023-03-16 12:57:44,417 : INFO : worker thread finished; awaiting finish of 7 more threads\n",
      "2023-03-16 12:57:44,422 : INFO : worker thread finished; awaiting finish of 6 more threads\n",
      "2023-03-16 12:57:44,423 : INFO : worker thread finished; awaiting finish of 5 more threads\n",
      "2023-03-16 12:57:44,425 : INFO : worker thread finished; awaiting finish of 4 more threads\n",
      "2023-03-16 12:57:44,430 : INFO : worker thread finished; awaiting finish of 3 more threads\n",
      "2023-03-16 12:57:44,433 : INFO : worker thread finished; awaiting finish of 2 more threads\n",
      "2023-03-16 12:57:44,434 : INFO : worker thread finished; awaiting finish of 1 more threads\n",
      "2023-03-16 12:57:44,445 : INFO : worker thread finished; awaiting finish of 0 more threads\n",
      "2023-03-16 12:57:44,446 : INFO : EPOCH - 5 : training on 9227204 raw words (8221650 effective words) took 18.4s, 447371 effective words/s\n",
      "2023-03-16 12:57:45,469 : INFO : EPOCH 6 - PROGRESS: at 5.21% examples, 421877 words/s, in_qsize 15, out_qsize 3\n",
      "2023-03-16 12:57:46,499 : INFO : EPOCH 6 - PROGRESS: at 11.29% examples, 453561 words/s, in_qsize 16, out_qsize 1\n",
      "2023-03-16 12:57:47,537 : INFO : EPOCH 6 - PROGRESS: at 16.70% examples, 445147 words/s, in_qsize 15, out_qsize 0\n",
      "2023-03-16 12:57:48,540 : INFO : EPOCH 6 - PROGRESS: at 19.51% examples, 392512 words/s, in_qsize 16, out_qsize 0\n",
      "2023-03-16 12:57:49,606 : INFO : EPOCH 6 - PROGRESS: at 24.17% examples, 385640 words/s, in_qsize 15, out_qsize 0\n",
      "2023-03-16 12:57:50,640 : INFO : EPOCH 6 - PROGRESS: at 29.26% examples, 389095 words/s, in_qsize 16, out_qsize 2\n",
      "2023-03-16 12:57:51,653 : INFO : EPOCH 6 - PROGRESS: at 34.46% examples, 393590 words/s, in_qsize 16, out_qsize 2\n",
      "2023-03-16 12:57:52,662 : INFO : EPOCH 6 - PROGRESS: at 40.40% examples, 404911 words/s, in_qsize 15, out_qsize 1\n",
      "2023-03-16 12:57:53,664 : INFO : EPOCH 6 - PROGRESS: at 46.57% examples, 415948 words/s, in_qsize 15, out_qsize 1\n",
      "2023-03-16 12:57:54,745 : INFO : EPOCH 6 - PROGRESS: at 52.29% examples, 418156 words/s, in_qsize 14, out_qsize 1\n",
      "2023-03-16 12:57:55,760 : INFO : EPOCH 6 - PROGRESS: at 57.92% examples, 421638 words/s, in_qsize 13, out_qsize 2\n",
      "2023-03-16 12:57:56,798 : INFO : EPOCH 6 - PROGRESS: at 63.76% examples, 425134 words/s, in_qsize 15, out_qsize 0\n",
      "2023-03-16 12:57:57,807 : INFO : EPOCH 6 - PROGRESS: at 69.83% examples, 430381 words/s, in_qsize 14, out_qsize 1\n",
      "2023-03-16 12:57:58,870 : INFO : EPOCH 6 - PROGRESS: at 75.78% examples, 432597 words/s, in_qsize 15, out_qsize 0\n",
      "2023-03-16 12:57:59,891 : INFO : EPOCH 6 - PROGRESS: at 81.88% examples, 436641 words/s, in_qsize 14, out_qsize 1\n",
      "2023-03-16 12:58:00,884 : INFO : EPOCH 6 - PROGRESS: at 86.53% examples, 433243 words/s, in_qsize 15, out_qsize 0\n",
      "2023-03-16 12:58:01,938 : INFO : EPOCH 6 - PROGRESS: at 91.20% examples, 429004 words/s, in_qsize 15, out_qsize 0\n",
      "2023-03-16 12:58:03,009 : INFO : EPOCH 6 - PROGRESS: at 96.74% examples, 429256 words/s, in_qsize 15, out_qsize 4\n",
      "2023-03-16 12:58:03,402 : INFO : worker thread finished; awaiting finish of 7 more threads\n",
      "2023-03-16 12:58:03,417 : INFO : worker thread finished; awaiting finish of 6 more threads\n",
      "2023-03-16 12:58:03,424 : INFO : worker thread finished; awaiting finish of 5 more threads\n",
      "2023-03-16 12:58:03,438 : INFO : worker thread finished; awaiting finish of 4 more threads\n",
      "2023-03-16 12:58:03,443 : INFO : worker thread finished; awaiting finish of 3 more threads\n",
      "2023-03-16 12:58:03,445 : INFO : worker thread finished; awaiting finish of 2 more threads\n",
      "2023-03-16 12:58:03,447 : INFO : worker thread finished; awaiting finish of 1 more threads\n",
      "2023-03-16 12:58:03,462 : INFO : worker thread finished; awaiting finish of 0 more threads\n",
      "2023-03-16 12:58:03,463 : INFO : EPOCH - 6 : training on 9227204 raw words (8222344 effective words) took 19.0s, 432615 effective words/s\n",
      "2023-03-16 12:58:04,483 : INFO : EPOCH 7 - PROGRESS: at 4.56% examples, 370045 words/s, in_qsize 15, out_qsize 0\n",
      "2023-03-16 12:58:05,545 : INFO : EPOCH 7 - PROGRESS: at 10.20% examples, 403928 words/s, in_qsize 15, out_qsize 0\n",
      "2023-03-16 12:58:06,556 : INFO : EPOCH 7 - PROGRESS: at 15.84% examples, 421635 words/s, in_qsize 14, out_qsize 0\n",
      "2023-03-16 12:58:07,562 : INFO : EPOCH 7 - PROGRESS: at 20.92% examples, 420287 words/s, in_qsize 16, out_qsize 0\n",
      "2023-03-16 12:58:08,618 : INFO : EPOCH 7 - PROGRESS: at 26.56% examples, 424071 words/s, in_qsize 15, out_qsize 0\n",
      "2023-03-16 12:58:09,623 : INFO : EPOCH 7 - PROGRESS: at 31.86% examples, 425764 words/s, in_qsize 15, out_qsize 0\n",
      "2023-03-16 12:58:10,652 : INFO : EPOCH 7 - PROGRESS: at 37.48% examples, 429228 words/s, in_qsize 15, out_qsize 0\n",
      "2023-03-16 12:58:11,654 : INFO : EPOCH 7 - PROGRESS: at 42.13% examples, 423508 words/s, in_qsize 15, out_qsize 0\n",
      "2023-03-16 12:58:12,660 : INFO : EPOCH 7 - PROGRESS: at 46.78% examples, 418811 words/s, in_qsize 15, out_qsize 0\n",
      "2023-03-16 12:58:13,687 : INFO : EPOCH 7 - PROGRESS: at 52.07% examples, 420263 words/s, in_qsize 15, out_qsize 0\n",
      "2023-03-16 12:58:14,672 : INFO : EPOCH 7 - PROGRESS: at 58.03% examples, 426314 words/s, in_qsize 15, out_qsize 0\n",
      "2023-03-16 12:58:15,702 : INFO : EPOCH 7 - PROGRESS: at 63.43% examples, 426856 words/s, in_qsize 15, out_qsize 0\n",
      "2023-03-16 12:58:16,829 : INFO : EPOCH 7 - PROGRESS: at 69.50% examples, 428184 words/s, in_qsize 15, out_qsize 4\n",
      "2023-03-16 12:58:17,846 : INFO : EPOCH 7 - PROGRESS: at 75.78% examples, 433797 words/s, in_qsize 16, out_qsize 0\n",
      "2023-03-16 12:58:18,881 : INFO : EPOCH 7 - PROGRESS: at 81.34% examples, 434150 words/s, in_qsize 15, out_qsize 3\n",
      "2023-03-16 12:58:19,948 : INFO : EPOCH 7 - PROGRESS: at 84.80% examples, 423326 words/s, in_qsize 16, out_qsize 0\n",
      "2023-03-16 12:58:20,978 : INFO : EPOCH 7 - PROGRESS: at 89.34% examples, 419782 words/s, in_qsize 15, out_qsize 0\n",
      "2023-03-16 12:58:21,996 : INFO : EPOCH 7 - PROGRESS: at 95.01% examples, 421688 words/s, in_qsize 15, out_qsize 0\n",
      "2023-03-16 12:58:22,805 : INFO : worker thread finished; awaiting finish of 7 more threads\n",
      "2023-03-16 12:58:22,824 : INFO : worker thread finished; awaiting finish of 6 more threads\n",
      "2023-03-16 12:58:22,829 : INFO : worker thread finished; awaiting finish of 5 more threads\n",
      "2023-03-16 12:58:22,853 : INFO : worker thread finished; awaiting finish of 4 more threads\n",
      "2023-03-16 12:58:22,865 : INFO : worker thread finished; awaiting finish of 3 more threads\n",
      "2023-03-16 12:58:22,907 : INFO : worker thread finished; awaiting finish of 2 more threads\n",
      "2023-03-16 12:58:22,913 : INFO : worker thread finished; awaiting finish of 1 more threads\n",
      "2023-03-16 12:58:22,916 : INFO : worker thread finished; awaiting finish of 0 more threads\n",
      "2023-03-16 12:58:22,917 : INFO : EPOCH - 7 : training on 9227204 raw words (8221688 effective words) took 19.4s, 422822 effective words/s\n",
      "2023-03-16 12:58:23,957 : INFO : EPOCH 8 - PROGRESS: at 3.91% examples, 313043 words/s, in_qsize 15, out_qsize 0\n",
      "2023-03-16 12:58:24,964 : INFO : EPOCH 8 - PROGRESS: at 9.56% examples, 386009 words/s, in_qsize 13, out_qsize 2\n",
      "2023-03-16 12:58:25,971 : INFO : EPOCH 8 - PROGRESS: at 15.62% examples, 422743 words/s, in_qsize 15, out_qsize 1\n",
      "2023-03-16 12:58:26,975 : INFO : EPOCH 8 - PROGRESS: at 21.79% examples, 442982 words/s, in_qsize 16, out_qsize 0\n",
      "2023-03-16 12:58:28,060 : INFO : EPOCH 8 - PROGRESS: at 27.75% examples, 444821 words/s, in_qsize 14, out_qsize 1\n",
      "2023-03-16 12:58:29,147 : INFO : EPOCH 8 - PROGRESS: at 33.70% examples, 445830 words/s, in_qsize 15, out_qsize 0\n",
      "2023-03-16 12:58:30,184 : INFO : EPOCH 8 - PROGRESS: at 39.54% examples, 448391 words/s, in_qsize 14, out_qsize 1\n",
      "2023-03-16 12:58:31,187 : INFO : EPOCH 8 - PROGRESS: at 45.81% examples, 456483 words/s, in_qsize 14, out_qsize 1\n",
      "2023-03-16 12:58:32,196 : INFO : EPOCH 8 - PROGRESS: at 51.75% examples, 459680 words/s, in_qsize 15, out_qsize 0\n",
      "2023-03-16 12:58:33,227 : INFO : EPOCH 8 - PROGRESS: at 57.71% examples, 461245 words/s, in_qsize 16, out_qsize 0\n",
      "2023-03-16 12:58:34,233 : INFO : EPOCH 8 - PROGRESS: at 63.43% examples, 461993 words/s, in_qsize 14, out_qsize 1\n",
      "2023-03-16 12:58:35,333 : INFO : EPOCH 8 - PROGRESS: at 69.18% examples, 459054 words/s, in_qsize 15, out_qsize 0\n",
      "2023-03-16 12:58:36,385 : INFO : EPOCH 8 - PROGRESS: at 75.46% examples, 461563 words/s, in_qsize 16, out_qsize 1\n",
      "2023-03-16 12:58:37,419 : INFO : EPOCH 8 - PROGRESS: at 82.32% examples, 467366 words/s, in_qsize 14, out_qsize 0\n",
      "2023-03-16 12:58:38,451 : INFO : EPOCH 8 - PROGRESS: at 88.26% examples, 467831 words/s, in_qsize 15, out_qsize 0\n",
      "2023-03-16 12:58:39,573 : INFO : EPOCH 8 - PROGRESS: at 94.58% examples, 467306 words/s, in_qsize 11, out_qsize 6\n",
      "2023-03-16 12:58:40,299 : INFO : worker thread finished; awaiting finish of 7 more threads\n",
      "2023-03-16 12:58:40,323 : INFO : worker thread finished; awaiting finish of 6 more threads\n",
      "2023-03-16 12:58:40,326 : INFO : worker thread finished; awaiting finish of 5 more threads\n",
      "2023-03-16 12:58:40,327 : INFO : worker thread finished; awaiting finish of 4 more threads\n",
      "2023-03-16 12:58:40,330 : INFO : worker thread finished; awaiting finish of 3 more threads\n",
      "2023-03-16 12:58:40,350 : INFO : worker thread finished; awaiting finish of 2 more threads\n",
      "2023-03-16 12:58:40,357 : INFO : worker thread finished; awaiting finish of 1 more threads\n",
      "2023-03-16 12:58:40,365 : INFO : worker thread finished; awaiting finish of 0 more threads\n",
      "2023-03-16 12:58:40,366 : INFO : EPOCH - 8 : training on 9227204 raw words (8222577 effective words) took 17.4s, 471659 effective words/s\n",
      "2023-03-16 12:58:41,411 : INFO : EPOCH 9 - PROGRESS: at 5.32% examples, 421356 words/s, in_qsize 13, out_qsize 2\n",
      "2023-03-16 12:58:42,460 : INFO : EPOCH 9 - PROGRESS: at 11.84% examples, 465986 words/s, in_qsize 16, out_qsize 0\n",
      "2023-03-16 12:58:43,499 : INFO : EPOCH 9 - PROGRESS: at 17.78% examples, 467780 words/s, in_qsize 14, out_qsize 1\n",
      "2023-03-16 12:58:44,507 : INFO : EPOCH 9 - PROGRESS: at 24.39% examples, 485209 words/s, in_qsize 15, out_qsize 0\n",
      "2023-03-16 12:58:45,562 : INFO : EPOCH 9 - PROGRESS: at 30.02% examples, 477064 words/s, in_qsize 15, out_qsize 4\n",
      "2023-03-16 12:58:46,614 : INFO : EPOCH 9 - PROGRESS: at 36.19% examples, 477022 words/s, in_qsize 15, out_qsize 0\n",
      "2023-03-16 12:58:47,688 : INFO : EPOCH 9 - PROGRESS: at 42.57% examples, 478834 words/s, in_qsize 15, out_qsize 0\n",
      "2023-03-16 12:58:48,698 : INFO : EPOCH 9 - PROGRESS: at 48.73% examples, 481733 words/s, in_qsize 16, out_qsize 2\n",
      "2023-03-16 12:58:49,718 : INFO : EPOCH 9 - PROGRESS: at 54.89% examples, 484549 words/s, in_qsize 15, out_qsize 0\n",
      "2023-03-16 12:58:50,749 : INFO : EPOCH 9 - PROGRESS: at 60.74% examples, 481851 words/s, in_qsize 15, out_qsize 0\n",
      "2023-03-16 12:58:51,775 : INFO : EPOCH 9 - PROGRESS: at 64.08% examples, 462700 words/s, in_qsize 13, out_qsize 2\n",
      "2023-03-16 12:58:52,779 : INFO : EPOCH 9 - PROGRESS: at 68.96% examples, 457589 words/s, in_qsize 16, out_qsize 0\n",
      "2023-03-16 12:58:53,823 : INFO : EPOCH 9 - PROGRESS: at 75.24% examples, 461248 words/s, in_qsize 11, out_qsize 1\n",
      "2023-03-16 12:58:54,841 : INFO : EPOCH 9 - PROGRESS: at 81.01% examples, 460679 words/s, in_qsize 14, out_qsize 1\n",
      "2023-03-16 12:58:55,846 : INFO : EPOCH 9 - PROGRESS: at 87.18% examples, 463579 words/s, in_qsize 14, out_qsize 1\n",
      "2023-03-16 12:58:56,854 : INFO : EPOCH 9 - PROGRESS: at 93.48% examples, 466531 words/s, in_qsize 15, out_qsize 0\n",
      "2023-03-16 12:58:57,764 : INFO : worker thread finished; awaiting finish of 7 more threads\n",
      "2023-03-16 12:58:57,771 : INFO : worker thread finished; awaiting finish of 6 more threads\n",
      "2023-03-16 12:58:57,798 : INFO : worker thread finished; awaiting finish of 5 more threads\n",
      "2023-03-16 12:58:57,799 : INFO : worker thread finished; awaiting finish of 4 more threads\n",
      "2023-03-16 12:58:57,805 : INFO : worker thread finished; awaiting finish of 3 more threads\n",
      "2023-03-16 12:58:57,809 : INFO : worker thread finished; awaiting finish of 2 more threads\n",
      "2023-03-16 12:58:57,810 : INFO : worker thread finished; awaiting finish of 1 more threads\n",
      "2023-03-16 12:58:57,812 : INFO : worker thread finished; awaiting finish of 0 more threads\n",
      "2023-03-16 12:58:57,813 : INFO : EPOCH - 9 : training on 9227204 raw words (8223257 effective words) took 17.4s, 471599 effective words/s\n",
      "2023-03-16 12:58:58,841 : INFO : EPOCH 10 - PROGRESS: at 5.75% examples, 462673 words/s, in_qsize 15, out_qsize 1\n",
      "2023-03-16 12:58:59,868 : INFO : EPOCH 10 - PROGRESS: at 11.84% examples, 474232 words/s, in_qsize 16, out_qsize 3\n",
      "2023-03-16 12:59:00,891 : INFO : EPOCH 10 - PROGRESS: at 17.89% examples, 478578 words/s, in_qsize 13, out_qsize 2\n",
      "2023-03-16 12:59:01,911 : INFO : EPOCH 10 - PROGRESS: at 24.39% examples, 489967 words/s, in_qsize 16, out_qsize 0\n",
      "2023-03-16 12:59:02,942 : INFO : EPOCH 10 - PROGRESS: at 30.13% examples, 483573 words/s, in_qsize 15, out_qsize 0\n",
      "2023-03-16 12:59:03,949 : INFO : EPOCH 10 - PROGRESS: at 36.51% examples, 489823 words/s, in_qsize 14, out_qsize 0\n",
      "2023-03-16 12:59:05,015 : INFO : EPOCH 10 - PROGRESS: at 42.46% examples, 485420 words/s, in_qsize 16, out_qsize 0\n",
      "2023-03-16 12:59:06,037 : INFO : EPOCH 10 - PROGRESS: at 48.19% examples, 483083 words/s, in_qsize 14, out_qsize 3\n",
      "2023-03-16 12:59:07,040 : INFO : EPOCH 10 - PROGRESS: at 54.13% examples, 483219 words/s, in_qsize 14, out_qsize 0\n",
      "2023-03-16 12:59:08,111 : INFO : EPOCH 10 - PROGRESS: at 59.34% examples, 474476 words/s, in_qsize 16, out_qsize 1\n",
      "2023-03-16 12:59:09,135 : INFO : EPOCH 10 - PROGRESS: at 64.40% examples, 469481 words/s, in_qsize 16, out_qsize 5\n",
      "2023-03-16 12:59:10,189 : INFO : EPOCH 10 - PROGRESS: at 70.05% examples, 466050 words/s, in_qsize 14, out_qsize 1\n",
      "2023-03-16 12:59:11,198 : INFO : EPOCH 10 - PROGRESS: at 76.22% examples, 468824 words/s, in_qsize 12, out_qsize 0\n",
      "2023-03-16 12:59:12,293 : INFO : EPOCH 10 - PROGRESS: at 81.99% examples, 465970 words/s, in_qsize 11, out_qsize 4\n",
      "2023-03-16 12:59:13,322 : INFO : EPOCH 10 - PROGRESS: at 88.48% examples, 469521 words/s, in_qsize 15, out_qsize 0\n",
      "2023-03-16 12:59:14,396 : INFO : EPOCH 10 - PROGRESS: at 94.47% examples, 468625 words/s, in_qsize 12, out_qsize 5\n",
      "2023-03-16 12:59:15,124 : INFO : worker thread finished; awaiting finish of 7 more threads\n",
      "2023-03-16 12:59:15,127 : INFO : worker thread finished; awaiting finish of 6 more threads\n",
      "2023-03-16 12:59:15,131 : INFO : worker thread finished; awaiting finish of 5 more threads\n",
      "2023-03-16 12:59:15,135 : INFO : worker thread finished; awaiting finish of 4 more threads\n",
      "2023-03-16 12:59:15,139 : INFO : worker thread finished; awaiting finish of 3 more threads\n",
      "2023-03-16 12:59:15,162 : INFO : worker thread finished; awaiting finish of 2 more threads\n",
      "2023-03-16 12:59:15,178 : INFO : worker thread finished; awaiting finish of 1 more threads\n",
      "2023-03-16 12:59:15,179 : INFO : worker thread finished; awaiting finish of 0 more threads\n",
      "2023-03-16 12:59:15,180 : INFO : EPOCH - 10 : training on 9227204 raw words (8222641 effective words) took 17.4s, 473688 effective words/s\n",
      "2023-03-16 12:59:16,198 : INFO : EPOCH 11 - PROGRESS: at 5.65% examples, 459110 words/s, in_qsize 15, out_qsize 0\n",
      "2023-03-16 12:59:17,238 : INFO : EPOCH 11 - PROGRESS: at 11.51% examples, 460945 words/s, in_qsize 16, out_qsize 1\n",
      "2023-03-16 12:59:18,285 : INFO : EPOCH 11 - PROGRESS: at 17.02% examples, 451671 words/s, in_qsize 16, out_qsize 7\n",
      "2023-03-16 12:59:19,342 : INFO : EPOCH 11 - PROGRESS: at 22.33% examples, 443699 words/s, in_qsize 15, out_qsize 2\n",
      "2023-03-16 12:59:20,358 : INFO : EPOCH 11 - PROGRESS: at 27.96% examples, 444723 words/s, in_qsize 15, out_qsize 0\n",
      "2023-03-16 12:59:21,430 : INFO : EPOCH 11 - PROGRESS: at 33.70% examples, 444200 words/s, in_qsize 15, out_qsize 1\n",
      "2023-03-16 12:59:22,500 : INFO : EPOCH 11 - PROGRESS: at 40.30% examples, 453410 words/s, in_qsize 15, out_qsize 0\n",
      "2023-03-16 12:59:23,591 : INFO : EPOCH 11 - PROGRESS: at 44.51% examples, 435891 words/s, in_qsize 14, out_qsize 1\n",
      "2023-03-16 12:59:24,608 : INFO : EPOCH 11 - PROGRESS: at 49.49% examples, 432323 words/s, in_qsize 15, out_qsize 0\n",
      "2023-03-16 12:59:25,625 : INFO : EPOCH 11 - PROGRESS: at 55.11% examples, 434631 words/s, in_qsize 16, out_qsize 0\n",
      "2023-03-16 12:59:26,630 : INFO : EPOCH 11 - PROGRESS: at 61.17% examples, 440260 words/s, in_qsize 15, out_qsize 0\n",
      "2023-03-16 12:59:27,645 : INFO : EPOCH 11 - PROGRESS: at 67.34% examples, 444913 words/s, in_qsize 15, out_qsize 0\n",
      "2023-03-16 12:59:28,649 : INFO : EPOCH 11 - PROGRESS: at 72.75% examples, 444841 words/s, in_qsize 15, out_qsize 0\n",
      "2023-03-16 12:59:29,684 : INFO : EPOCH 11 - PROGRESS: at 78.72% examples, 446891 words/s, in_qsize 14, out_qsize 1\n",
      "2023-03-16 12:59:30,694 : INFO : EPOCH 11 - PROGRESS: at 84.15% examples, 446493 words/s, in_qsize 15, out_qsize 0\n",
      "2023-03-16 12:59:31,699 : INFO : EPOCH 11 - PROGRESS: at 89.56% examples, 446271 words/s, in_qsize 15, out_qsize 0\n",
      "2023-03-16 12:59:32,704 : INFO : EPOCH 11 - PROGRESS: at 95.45% examples, 448113 words/s, in_qsize 16, out_qsize 0\n",
      "2023-03-16 12:59:33,348 : INFO : worker thread finished; awaiting finish of 7 more threads\n",
      "2023-03-16 12:59:33,353 : INFO : worker thread finished; awaiting finish of 6 more threads\n",
      "2023-03-16 12:59:33,355 : INFO : worker thread finished; awaiting finish of 5 more threads\n",
      "2023-03-16 12:59:33,359 : INFO : worker thread finished; awaiting finish of 4 more threads\n",
      "2023-03-16 12:59:33,360 : INFO : worker thread finished; awaiting finish of 3 more threads\n",
      "2023-03-16 12:59:33,368 : INFO : worker thread finished; awaiting finish of 2 more threads\n",
      "2023-03-16 12:59:33,372 : INFO : worker thread finished; awaiting finish of 1 more threads\n",
      "2023-03-16 12:59:33,374 : INFO : worker thread finished; awaiting finish of 0 more threads\n",
      "2023-03-16 12:59:33,375 : INFO : EPOCH - 11 : training on 9227204 raw words (8223411 effective words) took 18.2s, 452200 effective words/s\n",
      "2023-03-16 12:59:34,394 : INFO : EPOCH 12 - PROGRESS: at 5.54% examples, 449146 words/s, in_qsize 14, out_qsize 1\n",
      "2023-03-16 12:59:35,420 : INFO : EPOCH 12 - PROGRESS: at 11.29% examples, 455042 words/s, in_qsize 13, out_qsize 2\n",
      "2023-03-16 12:59:36,427 : INFO : EPOCH 12 - PROGRESS: at 16.81% examples, 453584 words/s, in_qsize 16, out_qsize 1\n",
      "2023-03-16 12:59:37,474 : INFO : EPOCH 12 - PROGRESS: at 23.41% examples, 470375 words/s, in_qsize 16, out_qsize 2\n",
      "2023-03-16 12:59:38,487 : INFO : EPOCH 12 - PROGRESS: at 29.48% examples, 474829 words/s, in_qsize 14, out_qsize 2\n",
      "2023-03-16 12:59:39,544 : INFO : EPOCH 12 - PROGRESS: at 35.64% examples, 475816 words/s, in_qsize 15, out_qsize 0\n",
      "2023-03-16 12:59:40,585 : INFO : EPOCH 12 - PROGRESS: at 40.94% examples, 467631 words/s, in_qsize 14, out_qsize 1\n",
      "2023-03-16 12:59:41,612 : INFO : EPOCH 12 - PROGRESS: at 45.37% examples, 453731 words/s, in_qsize 16, out_qsize 1\n",
      "2023-03-16 12:59:42,614 : INFO : EPOCH 12 - PROGRESS: at 50.46% examples, 449781 words/s, in_qsize 11, out_qsize 5\n",
      "2023-03-16 12:59:43,640 : INFO : EPOCH 12 - PROGRESS: at 56.73% examples, 455148 words/s, in_qsize 16, out_qsize 2\n",
      "2023-03-16 12:59:44,656 : INFO : EPOCH 12 - PROGRESS: at 62.90% examples, 459201 words/s, in_qsize 16, out_qsize 2\n",
      "2023-03-16 12:59:45,660 : INFO : EPOCH 12 - PROGRESS: at 69.29% examples, 464466 words/s, in_qsize 15, out_qsize 0\n",
      "2023-03-16 12:59:46,691 : INFO : EPOCH 12 - PROGRESS: at 75.57% examples, 467741 words/s, in_qsize 15, out_qsize 1\n",
      "2023-03-16 12:59:47,695 : INFO : EPOCH 12 - PROGRESS: at 81.88% examples, 470603 words/s, in_qsize 15, out_qsize 0\n",
      "2023-03-16 12:59:48,701 : INFO : EPOCH 12 - PROGRESS: at 88.26% examples, 474009 words/s, in_qsize 15, out_qsize 0\n",
      "2023-03-16 12:59:49,784 : INFO : EPOCH 12 - PROGRESS: at 94.14% examples, 472643 words/s, in_qsize 15, out_qsize 1\n",
      "2023-03-16 12:59:50,583 : INFO : worker thread finished; awaiting finish of 7 more threads\n",
      "2023-03-16 12:59:50,587 : INFO : worker thread finished; awaiting finish of 6 more threads\n",
      "2023-03-16 12:59:50,603 : INFO : worker thread finished; awaiting finish of 5 more threads\n",
      "2023-03-16 12:59:50,605 : INFO : worker thread finished; awaiting finish of 4 more threads\n",
      "2023-03-16 12:59:50,607 : INFO : worker thread finished; awaiting finish of 3 more threads\n",
      "2023-03-16 12:59:50,619 : INFO : worker thread finished; awaiting finish of 2 more threads\n",
      "2023-03-16 12:59:50,630 : INFO : worker thread finished; awaiting finish of 1 more threads\n",
      "2023-03-16 12:59:50,641 : INFO : worker thread finished; awaiting finish of 0 more threads\n",
      "2023-03-16 12:59:50,641 : INFO : EPOCH - 12 : training on 9227204 raw words (8223018 effective words) took 17.3s, 476475 effective words/s\n",
      "2023-03-16 12:59:51,682 : INFO : EPOCH 13 - PROGRESS: at 5.00% examples, 397187 words/s, in_qsize 13, out_qsize 2\n",
      "2023-03-16 12:59:52,684 : INFO : EPOCH 13 - PROGRESS: at 10.21% examples, 411968 words/s, in_qsize 16, out_qsize 2\n",
      "2023-03-16 12:59:53,737 : INFO : EPOCH 13 - PROGRESS: at 15.73% examples, 418570 words/s, in_qsize 16, out_qsize 1\n",
      "2023-03-16 12:59:54,746 : INFO : EPOCH 13 - PROGRESS: at 20.81% examples, 417596 words/s, in_qsize 16, out_qsize 0\n",
      "2023-03-16 12:59:55,782 : INFO : EPOCH 13 - PROGRESS: at 23.95% examples, 383720 words/s, in_qsize 15, out_qsize 0\n",
      "2023-03-16 12:59:56,801 : INFO : EPOCH 13 - PROGRESS: at 29.16% examples, 389727 words/s, in_qsize 15, out_qsize 0\n",
      "2023-03-16 12:59:57,914 : INFO : EPOCH 13 - PROGRESS: at 35.64% examples, 403576 words/s, in_qsize 15, out_qsize 0\n",
      "2023-03-16 12:59:58,919 : INFO : EPOCH 13 - PROGRESS: at 41.48% examples, 412699 words/s, in_qsize 12, out_qsize 3\n",
      "2023-03-16 13:00:00,042 : INFO : EPOCH 13 - PROGRESS: at 48.08% examples, 421207 words/s, in_qsize 11, out_qsize 6\n",
      "2023-03-16 13:00:01,071 : INFO : EPOCH 13 - PROGRESS: at 54.78% examples, 432683 words/s, in_qsize 15, out_qsize 0\n",
      "2023-03-16 13:00:02,076 : INFO : EPOCH 13 - PROGRESS: at 60.20% examples, 433578 words/s, in_qsize 15, out_qsize 0\n",
      "2023-03-16 13:00:03,111 : INFO : EPOCH 13 - PROGRESS: at 65.72% examples, 434173 words/s, in_qsize 14, out_qsize 2\n",
      "2023-03-16 13:00:04,156 : INFO : EPOCH 13 - PROGRESS: at 70.80% examples, 431455 words/s, in_qsize 15, out_qsize 0\n",
      "2023-03-16 13:00:05,161 : INFO : EPOCH 13 - PROGRESS: at 76.11% examples, 431615 words/s, in_qsize 16, out_qsize 0\n",
      "2023-03-16 13:00:06,283 : INFO : EPOCH 13 - PROGRESS: at 82.53% examples, 434264 words/s, in_qsize 12, out_qsize 3\n",
      "2023-03-16 13:00:07,290 : INFO : EPOCH 13 - PROGRESS: at 88.16% examples, 435823 words/s, in_qsize 16, out_qsize 0\n",
      "2023-03-16 13:00:08,391 : INFO : EPOCH 13 - PROGRESS: at 94.25% examples, 436862 words/s, in_qsize 15, out_qsize 0\n",
      "2023-03-16 13:00:09,191 : INFO : worker thread finished; awaiting finish of 7 more threads\n",
      "2023-03-16 13:00:09,196 : INFO : worker thread finished; awaiting finish of 6 more threads\n",
      "2023-03-16 13:00:09,197 : INFO : worker thread finished; awaiting finish of 5 more threads\n",
      "2023-03-16 13:00:09,201 : INFO : worker thread finished; awaiting finish of 4 more threads\n",
      "2023-03-16 13:00:09,202 : INFO : worker thread finished; awaiting finish of 3 more threads\n",
      "2023-03-16 13:00:09,222 : INFO : worker thread finished; awaiting finish of 2 more threads\n",
      "2023-03-16 13:00:09,229 : INFO : worker thread finished; awaiting finish of 1 more threads\n",
      "2023-03-16 13:00:09,238 : INFO : worker thread finished; awaiting finish of 0 more threads\n",
      "2023-03-16 13:00:09,239 : INFO : EPOCH - 13 : training on 9227204 raw words (8222849 effective words) took 18.6s, 442366 effective words/s\n",
      "2023-03-16 13:00:10,275 : INFO : EPOCH 14 - PROGRESS: at 5.54% examples, 442666 words/s, in_qsize 16, out_qsize 0\n",
      "2023-03-16 13:00:11,331 : INFO : EPOCH 14 - PROGRESS: at 11.29% examples, 444975 words/s, in_qsize 14, out_qsize 1\n",
      "2023-03-16 13:00:12,372 : INFO : EPOCH 14 - PROGRESS: at 17.03% examples, 447657 words/s, in_qsize 15, out_qsize 0\n",
      "2023-03-16 13:00:13,409 : INFO : EPOCH 14 - PROGRESS: at 23.20% examples, 458157 words/s, in_qsize 15, out_qsize 0\n",
      "2023-03-16 13:00:14,449 : INFO : EPOCH 14 - PROGRESS: at 28.29% examples, 447136 words/s, in_qsize 15, out_qsize 0\n",
      "2023-03-16 13:00:15,522 : INFO : EPOCH 14 - PROGRESS: at 33.70% examples, 441849 words/s, in_qsize 15, out_qsize 1\n",
      "2023-03-16 13:00:16,606 : INFO : EPOCH 14 - PROGRESS: at 40.19% examples, 449187 words/s, in_qsize 16, out_qsize 0\n",
      "2023-03-16 13:00:17,626 : INFO : EPOCH 14 - PROGRESS: at 46.78% examples, 459353 words/s, in_qsize 13, out_qsize 1\n",
      "2023-03-16 13:00:18,632 : INFO : EPOCH 14 - PROGRESS: at 52.51% examples, 460477 words/s, in_qsize 15, out_qsize 0\n",
      "2023-03-16 13:00:19,634 : INFO : EPOCH 14 - PROGRESS: at 58.58% examples, 464129 words/s, in_qsize 15, out_qsize 0\n",
      "2023-03-16 13:00:20,670 : INFO : EPOCH 14 - PROGRESS: at 64.73% examples, 466460 words/s, in_qsize 16, out_qsize 0\n",
      "2023-03-16 13:00:21,684 : INFO : EPOCH 14 - PROGRESS: at 70.38% examples, 465648 words/s, in_qsize 13, out_qsize 2\n",
      "2023-03-16 13:00:22,690 : INFO : EPOCH 14 - PROGRESS: at 76.55% examples, 468554 words/s, in_qsize 13, out_qsize 2\n",
      "2023-03-16 13:00:23,699 : INFO : EPOCH 14 - PROGRESS: at 82.75% examples, 470967 words/s, in_qsize 12, out_qsize 2\n",
      "2023-03-16 13:00:24,723 : INFO : EPOCH 14 - PROGRESS: at 88.27% examples, 469171 words/s, in_qsize 15, out_qsize 0\n",
      "2023-03-16 13:00:25,739 : INFO : EPOCH 14 - PROGRESS: at 93.59% examples, 466720 words/s, in_qsize 15, out_qsize 0\n",
      "2023-03-16 13:00:26,969 : INFO : EPOCH 14 - PROGRESS: at 98.36% examples, 456431 words/s, in_qsize 13, out_qsize 2\n",
      "2023-03-16 13:00:27,141 : INFO : worker thread finished; awaiting finish of 7 more threads\n",
      "2023-03-16 13:00:27,155 : INFO : worker thread finished; awaiting finish of 6 more threads\n",
      "2023-03-16 13:00:27,165 : INFO : worker thread finished; awaiting finish of 5 more threads\n",
      "2023-03-16 13:00:27,192 : INFO : worker thread finished; awaiting finish of 4 more threads\n",
      "2023-03-16 13:00:27,207 : INFO : worker thread finished; awaiting finish of 3 more threads\n",
      "2023-03-16 13:00:27,210 : INFO : worker thread finished; awaiting finish of 2 more threads\n",
      "2023-03-16 13:00:27,213 : INFO : worker thread finished; awaiting finish of 1 more threads\n",
      "2023-03-16 13:00:27,216 : INFO : worker thread finished; awaiting finish of 0 more threads\n",
      "2023-03-16 13:00:27,216 : INFO : EPOCH - 14 : training on 9227204 raw words (8222775 effective words) took 18.0s, 457644 effective words/s\n",
      "2023-03-16 13:00:28,243 : INFO : EPOCH 15 - PROGRESS: at 4.02% examples, 325805 words/s, in_qsize 15, out_qsize 0\n",
      "2023-03-16 13:00:29,306 : INFO : EPOCH 15 - PROGRESS: at 10.20% examples, 403912 words/s, in_qsize 15, out_qsize 0\n",
      "2023-03-16 13:00:30,417 : INFO : EPOCH 15 - PROGRESS: at 16.70% examples, 430712 words/s, in_qsize 16, out_qsize 0\n",
      "2023-03-16 13:00:31,474 : INFO : EPOCH 15 - PROGRESS: at 22.98% examples, 445197 words/s, in_qsize 16, out_qsize 2\n",
      "2023-03-16 13:00:32,477 : INFO : EPOCH 15 - PROGRESS: at 29.48% examples, 462041 words/s, in_qsize 15, out_qsize 0\n",
      "2023-03-16 13:00:33,507 : INFO : EPOCH 15 - PROGRESS: at 35.54% examples, 465668 words/s, in_qsize 11, out_qsize 4\n",
      "2023-03-16 13:00:34,534 : INFO : EPOCH 15 - PROGRESS: at 41.70% examples, 469699 words/s, in_qsize 15, out_qsize 0\n",
      "2023-03-16 13:00:35,614 : INFO : EPOCH 15 - PROGRESS: at 47.65% examples, 467694 words/s, in_qsize 14, out_qsize 1\n",
      "2023-03-16 13:00:36,618 : INFO : EPOCH 15 - PROGRESS: at 53.16% examples, 466099 words/s, in_qsize 14, out_qsize 0\n",
      "2023-03-16 13:00:37,620 : INFO : EPOCH 15 - PROGRESS: at 57.81% examples, 458063 words/s, in_qsize 16, out_qsize 1\n",
      "2023-03-16 13:00:38,639 : INFO : EPOCH 15 - PROGRESS: at 63.76% examples, 460089 words/s, in_qsize 14, out_qsize 1\n",
      "2023-03-16 13:00:39,731 : INFO : EPOCH 15 - PROGRESS: at 70.48% examples, 464072 words/s, in_qsize 15, out_qsize 2\n",
      "2023-03-16 13:00:40,776 : INFO : EPOCH 15 - PROGRESS: at 76.98% examples, 468765 words/s, in_qsize 16, out_qsize 2\n",
      "2023-03-16 13:00:41,751 : INFO : EPOCH 15 - PROGRESS: at 81.99% examples, 464529 words/s, in_qsize 15, out_qsize 1\n",
      "2023-03-16 13:00:42,758 : INFO : EPOCH 15 - PROGRESS: at 87.51% examples, 463647 words/s, in_qsize 16, out_qsize 2\n",
      "2023-03-16 13:00:43,821 : INFO : EPOCH 15 - PROGRESS: at 93.70% examples, 464529 words/s, in_qsize 15, out_qsize 0\n",
      "2023-03-16 13:00:44,763 : INFO : worker thread finished; awaiting finish of 7 more threads\n",
      "2023-03-16 13:00:44,764 : INFO : worker thread finished; awaiting finish of 6 more threads\n",
      "2023-03-16 13:00:44,768 : INFO : worker thread finished; awaiting finish of 5 more threads\n",
      "2023-03-16 13:00:44,773 : INFO : worker thread finished; awaiting finish of 4 more threads\n",
      "2023-03-16 13:00:44,785 : INFO : worker thread finished; awaiting finish of 3 more threads\n",
      "2023-03-16 13:00:44,790 : INFO : worker thread finished; awaiting finish of 2 more threads\n",
      "2023-03-16 13:00:44,807 : INFO : worker thread finished; awaiting finish of 1 more threads\n",
      "2023-03-16 13:00:44,810 : INFO : worker thread finished; awaiting finish of 0 more threads\n",
      "2023-03-16 13:00:44,811 : INFO : EPOCH - 15 : training on 9227204 raw words (8223561 effective words) took 17.6s, 467796 effective words/s\n",
      "2023-03-16 13:00:45,873 : INFO : EPOCH 16 - PROGRESS: at 5.65% examples, 441201 words/s, in_qsize 15, out_qsize 0\n",
      "2023-03-16 13:00:47,008 : INFO : EPOCH 16 - PROGRESS: at 11.95% examples, 457042 words/s, in_qsize 16, out_qsize 3\n",
      "2023-03-16 13:00:47,967 : INFO : EPOCH 16 - PROGRESS: at 17.03% examples, 444651 words/s, in_qsize 15, out_qsize 0\n",
      "2023-03-16 13:00:48,987 : INFO : EPOCH 16 - PROGRESS: at 22.65% examples, 447049 words/s, in_qsize 15, out_qsize 0\n",
      "2023-03-16 13:00:49,998 : INFO : EPOCH 16 - PROGRESS: at 28.94% examples, 459566 words/s, in_qsize 15, out_qsize 0\n",
      "2023-03-16 13:00:51,064 : INFO : EPOCH 16 - PROGRESS: at 35.42% examples, 469238 words/s, in_qsize 15, out_qsize 0\n",
      "2023-03-16 13:00:52,034 : INFO : EPOCH 16 - PROGRESS: at 41.16% examples, 469394 words/s, in_qsize 14, out_qsize 3\n",
      "2023-03-16 13:00:53,091 : INFO : EPOCH 16 - PROGRESS: at 47.75% examples, 475105 words/s, in_qsize 15, out_qsize 0\n",
      "2023-03-16 13:00:54,102 : INFO : EPOCH 16 - PROGRESS: at 53.81% examples, 477137 words/s, in_qsize 12, out_qsize 3\n",
      "2023-03-16 13:00:55,113 : INFO : EPOCH 16 - PROGRESS: at 59.33% examples, 474415 words/s, in_qsize 14, out_qsize 3\n",
      "2023-03-16 13:00:56,165 : INFO : EPOCH 16 - PROGRESS: at 65.28% examples, 473623 words/s, in_qsize 14, out_qsize 1\n",
      "2023-03-16 13:00:57,179 : INFO : EPOCH 16 - PROGRESS: at 71.45% examples, 475835 words/s, in_qsize 15, out_qsize 0\n",
      "2023-03-16 13:00:58,237 : INFO : EPOCH 16 - PROGRESS: at 76.22% examples, 468670 words/s, in_qsize 15, out_qsize 3\n",
      "2023-03-16 13:00:59,207 : INFO : EPOCH 16 - PROGRESS: at 78.94% examples, 451455 words/s, in_qsize 15, out_qsize 0\n",
      "2023-03-16 13:01:00,215 : INFO : EPOCH 16 - PROGRESS: at 83.18% examples, 444465 words/s, in_qsize 15, out_qsize 0\n",
      "2023-03-16 13:01:01,263 : INFO : EPOCH 16 - PROGRESS: at 88.48% examples, 442664 words/s, in_qsize 15, out_qsize 1\n",
      "2023-03-16 13:01:02,283 : INFO : EPOCH 16 - PROGRESS: at 93.59% examples, 440745 words/s, in_qsize 13, out_qsize 2\n",
      "2023-03-16 13:01:03,294 : INFO : EPOCH 16 - PROGRESS: at 99.01% examples, 440727 words/s, in_qsize 8, out_qsize 2\n",
      "2023-03-16 13:01:03,297 : INFO : worker thread finished; awaiting finish of 7 more threads\n",
      "2023-03-16 13:01:03,301 : INFO : worker thread finished; awaiting finish of 6 more threads\n",
      "2023-03-16 13:01:03,315 : INFO : worker thread finished; awaiting finish of 5 more threads\n",
      "2023-03-16 13:01:03,321 : INFO : worker thread finished; awaiting finish of 4 more threads\n",
      "2023-03-16 13:01:03,322 : INFO : worker thread finished; awaiting finish of 3 more threads\n",
      "2023-03-16 13:01:03,324 : INFO : worker thread finished; awaiting finish of 2 more threads\n",
      "2023-03-16 13:01:03,331 : INFO : worker thread finished; awaiting finish of 1 more threads\n",
      "2023-03-16 13:01:03,350 : INFO : worker thread finished; awaiting finish of 0 more threads\n",
      "2023-03-16 13:01:03,351 : INFO : EPOCH - 16 : training on 9227204 raw words (8221857 effective words) took 18.5s, 443770 effective words/s\n",
      "2023-03-16 13:01:04,364 : INFO : EPOCH 17 - PROGRESS: at 5.32% examples, 435272 words/s, in_qsize 13, out_qsize 5\n",
      "2023-03-16 13:01:05,389 : INFO : EPOCH 17 - PROGRESS: at 10.97% examples, 443799 words/s, in_qsize 15, out_qsize 0\n",
      "2023-03-16 13:01:06,417 : INFO : EPOCH 17 - PROGRESS: at 17.13% examples, 460446 words/s, in_qsize 13, out_qsize 0\n",
      "2023-03-16 13:01:07,440 : INFO : EPOCH 17 - PROGRESS: at 22.55% examples, 454250 words/s, in_qsize 13, out_qsize 2\n",
      "2023-03-16 13:01:08,489 : INFO : EPOCH 17 - PROGRESS: at 28.94% examples, 463851 words/s, in_qsize 15, out_qsize 0\n",
      "2023-03-16 13:01:09,507 : INFO : EPOCH 17 - PROGRESS: at 33.81% examples, 452218 words/s, in_qsize 16, out_qsize 0\n",
      "2023-03-16 13:01:10,536 : INFO : EPOCH 17 - PROGRESS: at 38.57% examples, 441982 words/s, in_qsize 15, out_qsize 0\n",
      "2023-03-16 13:01:11,587 : INFO : EPOCH 17 - PROGRESS: at 44.18% examples, 441816 words/s, in_qsize 15, out_qsize 0\n",
      "2023-03-16 13:01:12,597 : INFO : EPOCH 17 - PROGRESS: at 49.92% examples, 444705 words/s, in_qsize 13, out_qsize 4\n",
      "2023-03-16 13:01:13,620 : INFO : EPOCH 17 - PROGRESS: at 55.75% examples, 447284 words/s, in_qsize 13, out_qsize 2\n",
      "2023-03-16 13:01:14,637 : INFO : EPOCH 17 - PROGRESS: at 61.17% examples, 446459 words/s, in_qsize 10, out_qsize 5\n",
      "2023-03-16 13:01:15,688 : INFO : EPOCH 17 - PROGRESS: at 66.80% examples, 445948 words/s, in_qsize 16, out_qsize 2\n",
      "2023-03-16 13:01:16,709 : INFO : EPOCH 17 - PROGRESS: at 73.30% examples, 451912 words/s, in_qsize 16, out_qsize 0\n",
      "2023-03-16 13:01:17,718 : INFO : EPOCH 17 - PROGRESS: at 79.27% examples, 454275 words/s, in_qsize 14, out_qsize 1\n",
      "2023-03-16 13:01:18,734 : INFO : EPOCH 17 - PROGRESS: at 85.34% examples, 456688 words/s, in_qsize 15, out_qsize 0\n",
      "2023-03-16 13:01:19,768 : INFO : EPOCH 17 - PROGRESS: at 90.65% examples, 454515 words/s, in_qsize 12, out_qsize 3\n",
      "2023-03-16 13:01:20,803 : INFO : EPOCH 17 - PROGRESS: at 95.77% examples, 451512 words/s, in_qsize 16, out_qsize 1\n",
      "2023-03-16 13:01:21,545 : INFO : worker thread finished; awaiting finish of 7 more threads\n",
      "2023-03-16 13:01:21,549 : INFO : worker thread finished; awaiting finish of 6 more threads\n",
      "2023-03-16 13:01:21,551 : INFO : worker thread finished; awaiting finish of 5 more threads\n",
      "2023-03-16 13:01:21,560 : INFO : worker thread finished; awaiting finish of 4 more threads\n",
      "2023-03-16 13:01:21,569 : INFO : worker thread finished; awaiting finish of 3 more threads\n",
      "2023-03-16 13:01:21,571 : INFO : worker thread finished; awaiting finish of 2 more threads\n",
      "2023-03-16 13:01:21,578 : INFO : worker thread finished; awaiting finish of 1 more threads\n",
      "2023-03-16 13:01:21,589 : INFO : worker thread finished; awaiting finish of 0 more threads\n",
      "2023-03-16 13:01:21,590 : INFO : EPOCH - 17 : training on 9227204 raw words (8223869 effective words) took 18.2s, 451145 effective words/s\n",
      "2023-03-16 13:01:22,622 : INFO : EPOCH 18 - PROGRESS: at 5.43% examples, 435453 words/s, in_qsize 15, out_qsize 1\n",
      "2023-03-16 13:01:23,625 : INFO : EPOCH 18 - PROGRESS: at 10.64% examples, 430994 words/s, in_qsize 14, out_qsize 1\n",
      "2023-03-16 13:01:24,628 : INFO : EPOCH 18 - PROGRESS: at 16.70% examples, 452933 words/s, in_qsize 15, out_qsize 0\n",
      "2023-03-16 13:01:25,665 : INFO : EPOCH 18 - PROGRESS: at 22.22% examples, 449235 words/s, in_qsize 15, out_qsize 0\n",
      "2023-03-16 13:01:26,760 : INFO : EPOCH 18 - PROGRESS: at 28.50% examples, 453955 words/s, in_qsize 15, out_qsize 7\n",
      "2023-03-16 13:01:27,816 : INFO : EPOCH 18 - PROGRESS: at 35.00% examples, 462823 words/s, in_qsize 15, out_qsize 0\n",
      "2023-03-16 13:01:28,845 : INFO : EPOCH 18 - PROGRESS: at 40.83% examples, 463415 words/s, in_qsize 15, out_qsize 0\n",
      "2023-03-16 13:01:29,859 : INFO : EPOCH 18 - PROGRESS: at 46.99% examples, 468030 words/s, in_qsize 16, out_qsize 1\n",
      "2023-03-16 13:01:30,946 : INFO : EPOCH 18 - PROGRESS: at 50.56% examples, 445075 words/s, in_qsize 14, out_qsize 2\n",
      "2023-03-16 13:01:31,998 : INFO : EPOCH 18 - PROGRESS: at 54.24% examples, 429214 words/s, in_qsize 15, out_qsize 0\n",
      "2023-03-16 13:01:32,999 : INFO : EPOCH 18 - PROGRESS: at 59.23% examples, 427505 words/s, in_qsize 14, out_qsize 1\n",
      "2023-03-16 13:01:34,003 : INFO : EPOCH 18 - PROGRESS: at 64.84% examples, 430245 words/s, in_qsize 16, out_qsize 1\n",
      "2023-03-16 13:01:35,063 : INFO : EPOCH 18 - PROGRESS: at 70.80% examples, 432748 words/s, in_qsize 13, out_qsize 2\n",
      "2023-03-16 13:01:36,168 : INFO : EPOCH 18 - PROGRESS: at 76.99% examples, 434760 words/s, in_qsize 11, out_qsize 4\n",
      "2023-03-16 13:01:37,194 : INFO : EPOCH 18 - PROGRESS: at 83.62% examples, 441006 words/s, in_qsize 16, out_qsize 0\n",
      "2023-03-16 13:01:38,220 : INFO : EPOCH 18 - PROGRESS: at 88.91% examples, 440017 words/s, in_qsize 14, out_qsize 1\n",
      "2023-03-16 13:01:39,225 : INFO : EPOCH 18 - PROGRESS: at 95.23% examples, 444215 words/s, in_qsize 14, out_qsize 1\n",
      "2023-03-16 13:01:39,864 : INFO : worker thread finished; awaiting finish of 7 more threads\n",
      "2023-03-16 13:01:39,880 : INFO : worker thread finished; awaiting finish of 6 more threads\n",
      "2023-03-16 13:01:39,919 : INFO : worker thread finished; awaiting finish of 5 more threads\n",
      "2023-03-16 13:01:39,926 : INFO : worker thread finished; awaiting finish of 4 more threads\n",
      "2023-03-16 13:01:39,930 : INFO : worker thread finished; awaiting finish of 3 more threads\n",
      "2023-03-16 13:01:39,932 : INFO : worker thread finished; awaiting finish of 2 more threads\n",
      "2023-03-16 13:01:39,936 : INFO : worker thread finished; awaiting finish of 1 more threads\n",
      "2023-03-16 13:01:39,938 : INFO : worker thread finished; awaiting finish of 0 more threads\n",
      "2023-03-16 13:01:39,939 : INFO : EPOCH - 18 : training on 9227204 raw words (8222341 effective words) took 18.3s, 448360 effective words/s\n",
      "2023-03-16 13:01:40,998 : INFO : EPOCH 19 - PROGRESS: at 5.86% examples, 457530 words/s, in_qsize 15, out_qsize 0\n",
      "2023-03-16 13:01:42,032 : INFO : EPOCH 19 - PROGRESS: at 11.40% examples, 448791 words/s, in_qsize 14, out_qsize 0\n",
      "2023-03-16 13:01:43,075 : INFO : EPOCH 19 - PROGRESS: at 15.95% examples, 418665 words/s, in_qsize 15, out_qsize 0\n",
      "2023-03-16 13:01:44,081 : INFO : EPOCH 19 - PROGRESS: at 20.37% examples, 405097 words/s, in_qsize 15, out_qsize 0\n",
      "2023-03-16 13:01:45,144 : INFO : EPOCH 19 - PROGRESS: at 25.70% examples, 406947 words/s, in_qsize 15, out_qsize 1\n",
      "2023-03-16 13:01:46,138 : INFO : EPOCH 19 - PROGRESS: at 31.76% examples, 421704 words/s, in_qsize 14, out_qsize 1\n",
      "2023-03-16 13:01:47,190 : INFO : EPOCH 19 - PROGRESS: at 37.81% examples, 430284 words/s, in_qsize 15, out_qsize 0\n",
      "2023-03-16 13:01:48,191 : INFO : EPOCH 19 - PROGRESS: at 43.54% examples, 434463 words/s, in_qsize 14, out_qsize 1\n",
      "2023-03-16 13:01:49,196 : INFO : EPOCH 19 - PROGRESS: at 49.81% examples, 443124 words/s, in_qsize 14, out_qsize 0\n",
      "2023-03-16 13:01:50,207 : INFO : EPOCH 19 - PROGRESS: at 55.53% examples, 445489 words/s, in_qsize 16, out_qsize 2\n",
      "2023-03-16 13:01:51,213 : INFO : EPOCH 19 - PROGRESS: at 61.28% examples, 447607 words/s, in_qsize 15, out_qsize 0\n",
      "2023-03-16 13:01:52,315 : INFO : EPOCH 19 - PROGRESS: at 67.56% examples, 449507 words/s, in_qsize 14, out_qsize 5\n",
      "2023-03-16 13:01:53,350 : INFO : EPOCH 19 - PROGRESS: at 72.64% examples, 446688 words/s, in_qsize 15, out_qsize 3\n",
      "2023-03-16 13:01:54,342 : INFO : EPOCH 19 - PROGRESS: at 78.40% examples, 448080 words/s, in_qsize 15, out_qsize 1\n",
      "2023-03-16 13:01:55,387 : INFO : EPOCH 19 - PROGRESS: at 84.15% examples, 448336 words/s, in_qsize 16, out_qsize 0\n",
      "2023-03-16 13:01:56,424 : INFO : EPOCH 19 - PROGRESS: at 90.00% examples, 449289 words/s, in_qsize 16, out_qsize 0\n",
      "2023-03-16 13:01:57,521 : INFO : EPOCH 19 - PROGRESS: at 95.88% examples, 449097 words/s, in_qsize 15, out_qsize 1\n",
      "2023-03-16 13:01:58,038 : INFO : worker thread finished; awaiting finish of 7 more threads\n",
      "2023-03-16 13:01:58,094 : INFO : worker thread finished; awaiting finish of 6 more threads\n",
      "2023-03-16 13:01:58,096 : INFO : worker thread finished; awaiting finish of 5 more threads\n",
      "2023-03-16 13:01:58,097 : INFO : worker thread finished; awaiting finish of 4 more threads\n",
      "2023-03-16 13:01:58,099 : INFO : worker thread finished; awaiting finish of 3 more threads\n",
      "2023-03-16 13:01:58,104 : INFO : worker thread finished; awaiting finish of 2 more threads\n",
      "2023-03-16 13:01:58,108 : INFO : worker thread finished; awaiting finish of 1 more threads\n",
      "2023-03-16 13:01:58,113 : INFO : worker thread finished; awaiting finish of 0 more threads\n",
      "2023-03-16 13:01:58,114 : INFO : EPOCH - 19 : training on 9227204 raw words (8222953 effective words) took 18.2s, 452635 effective words/s\n",
      "2023-03-16 13:01:59,205 : INFO : EPOCH 20 - PROGRESS: at 5.54% examples, 419822 words/s, in_qsize 12, out_qsize 3\n",
      "2023-03-16 13:02:00,224 : INFO : EPOCH 20 - PROGRESS: at 11.84% examples, 462263 words/s, in_qsize 15, out_qsize 0\n",
      "2023-03-16 13:02:01,226 : INFO : EPOCH 20 - PROGRESS: at 17.46% examples, 462129 words/s, in_qsize 15, out_qsize 0\n",
      "2023-03-16 13:02:02,272 : INFO : EPOCH 20 - PROGRESS: at 22.76% examples, 450849 words/s, in_qsize 14, out_qsize 1\n",
      "2023-03-16 13:02:03,367 : INFO : EPOCH 20 - PROGRESS: at 26.12% examples, 409338 words/s, in_qsize 13, out_qsize 2\n",
      "2023-03-16 13:02:04,419 : INFO : EPOCH 20 - PROGRESS: at 30.13% examples, 393310 words/s, in_qsize 15, out_qsize 0\n",
      "2023-03-16 13:02:05,451 : INFO : EPOCH 20 - PROGRESS: at 34.46% examples, 386569 words/s, in_qsize 15, out_qsize 0\n",
      "2023-03-16 13:02:06,458 : INFO : EPOCH 20 - PROGRESS: at 39.54% examples, 390037 words/s, in_qsize 14, out_qsize 1\n",
      "2023-03-16 13:02:07,621 : INFO : EPOCH 20 - PROGRESS: at 44.83% examples, 388508 words/s, in_qsize 15, out_qsize 1\n",
      "2023-03-16 13:02:08,631 : INFO : EPOCH 20 - PROGRESS: at 50.46% examples, 395005 words/s, in_qsize 13, out_qsize 0\n",
      "2023-03-16 13:02:09,731 : INFO : EPOCH 20 - PROGRESS: at 55.53% examples, 393708 words/s, in_qsize 11, out_qsize 4\n",
      "2023-03-16 13:02:10,841 : INFO : EPOCH 20 - PROGRESS: at 61.07% examples, 395071 words/s, in_qsize 15, out_qsize 0\n",
      "2023-03-16 13:02:11,848 : INFO : EPOCH 20 - PROGRESS: at 66.58% examples, 399150 words/s, in_qsize 15, out_qsize 0\n",
      "2023-03-16 13:02:12,858 : INFO : EPOCH 20 - PROGRESS: at 72.10% examples, 402651 words/s, in_qsize 15, out_qsize 0\n",
      "2023-03-16 13:02:13,874 : INFO : EPOCH 20 - PROGRESS: at 77.20% examples, 403238 words/s, in_qsize 12, out_qsize 3\n",
      "2023-03-16 13:02:15,017 : INFO : EPOCH 20 - PROGRESS: at 82.85% examples, 403364 words/s, in_qsize 15, out_qsize 0\n",
      "2023-03-16 13:02:16,084 : INFO : EPOCH 20 - PROGRESS: at 87.72% examples, 401722 words/s, in_qsize 15, out_qsize 0\n",
      "2023-03-16 13:02:17,101 : INFO : EPOCH 20 - PROGRESS: at 93.05% examples, 403174 words/s, in_qsize 15, out_qsize 0\n",
      "2023-03-16 13:02:18,117 : INFO : EPOCH 20 - PROGRESS: at 98.69% examples, 405836 words/s, in_qsize 13, out_qsize 0\n",
      "2023-03-16 13:02:18,210 : INFO : worker thread finished; awaiting finish of 7 more threads\n",
      "2023-03-16 13:02:18,215 : INFO : worker thread finished; awaiting finish of 6 more threads\n",
      "2023-03-16 13:02:18,218 : INFO : worker thread finished; awaiting finish of 5 more threads\n",
      "2023-03-16 13:02:18,220 : INFO : worker thread finished; awaiting finish of 4 more threads\n",
      "2023-03-16 13:02:18,249 : INFO : worker thread finished; awaiting finish of 3 more threads\n",
      "2023-03-16 13:02:18,270 : INFO : worker thread finished; awaiting finish of 2 more threads\n",
      "2023-03-16 13:02:18,272 : INFO : worker thread finished; awaiting finish of 1 more threads\n",
      "2023-03-16 13:02:18,274 : INFO : worker thread finished; awaiting finish of 0 more threads\n",
      "2023-03-16 13:02:18,275 : INFO : EPOCH - 20 : training on 9227204 raw words (8222169 effective words) took 20.2s, 408007 effective words/s\n",
      "2023-03-16 13:02:19,289 : INFO : EPOCH 21 - PROGRESS: at 5.65% examples, 460562 words/s, in_qsize 16, out_qsize 0\n",
      "2023-03-16 13:02:20,371 : INFO : EPOCH 21 - PROGRESS: at 11.29% examples, 443829 words/s, in_qsize 15, out_qsize 2\n",
      "2023-03-16 13:02:21,382 : INFO : EPOCH 21 - PROGRESS: at 17.03% examples, 451222 words/s, in_qsize 14, out_qsize 3\n",
      "2023-03-16 13:02:22,390 : INFO : EPOCH 21 - PROGRESS: at 22.55% examples, 451202 words/s, in_qsize 15, out_qsize 0\n",
      "2023-03-16 13:02:23,412 : INFO : EPOCH 21 - PROGRESS: at 28.51% examples, 456833 words/s, in_qsize 14, out_qsize 4\n",
      "2023-03-16 13:02:24,442 : INFO : EPOCH 21 - PROGRESS: at 34.78% examples, 464357 words/s, in_qsize 15, out_qsize 0\n",
      "2023-03-16 13:02:25,463 : INFO : EPOCH 21 - PROGRESS: at 40.73% examples, 466585 words/s, in_qsize 16, out_qsize 0\n",
      "2023-03-16 13:02:26,486 : INFO : EPOCH 21 - PROGRESS: at 45.26% examples, 453935 words/s, in_qsize 15, out_qsize 0\n",
      "2023-03-16 13:02:27,506 : INFO : EPOCH 21 - PROGRESS: at 49.49% examples, 441410 words/s, in_qsize 16, out_qsize 1\n",
      "2023-03-16 13:02:28,525 : INFO : EPOCH 21 - PROGRESS: at 54.67% examples, 439287 words/s, in_qsize 14, out_qsize 1\n",
      "2023-03-16 13:02:29,527 : INFO : EPOCH 21 - PROGRESS: at 60.31% examples, 441293 words/s, in_qsize 13, out_qsize 2\n",
      "2023-03-16 13:02:30,542 : INFO : EPOCH 21 - PROGRESS: at 65.50% examples, 439643 words/s, in_qsize 14, out_qsize 0\n",
      "2023-03-16 13:02:31,548 : INFO : EPOCH 21 - PROGRESS: at 70.05% examples, 434528 words/s, in_qsize 15, out_qsize 2\n",
      "2023-03-16 13:02:32,549 : INFO : EPOCH 21 - PROGRESS: at 74.37% examples, 429007 words/s, in_qsize 15, out_qsize 0\n",
      "2023-03-16 13:02:33,570 : INFO : EPOCH 21 - PROGRESS: at 79.27% examples, 426554 words/s, in_qsize 15, out_qsize 0\n",
      "2023-03-16 13:02:34,604 : INFO : EPOCH 21 - PROGRESS: at 83.40% examples, 420296 words/s, in_qsize 16, out_qsize 3\n",
      "2023-03-16 13:02:35,626 : INFO : EPOCH 21 - PROGRESS: at 86.64% examples, 410922 words/s, in_qsize 15, out_qsize 1\n",
      "2023-03-16 13:02:36,630 : INFO : EPOCH 21 - PROGRESS: at 91.20% examples, 408800 words/s, in_qsize 13, out_qsize 2\n",
      "2023-03-16 13:02:37,634 : INFO : EPOCH 21 - PROGRESS: at 96.09% examples, 408301 words/s, in_qsize 14, out_qsize 1\n",
      "2023-03-16 13:02:38,216 : INFO : worker thread finished; awaiting finish of 7 more threads\n",
      "2023-03-16 13:02:38,222 : INFO : worker thread finished; awaiting finish of 6 more threads\n",
      "2023-03-16 13:02:38,229 : INFO : worker thread finished; awaiting finish of 5 more threads\n",
      "2023-03-16 13:02:38,230 : INFO : worker thread finished; awaiting finish of 4 more threads\n",
      "2023-03-16 13:02:38,272 : INFO : worker thread finished; awaiting finish of 3 more threads\n",
      "2023-03-16 13:02:38,282 : INFO : worker thread finished; awaiting finish of 2 more threads\n",
      "2023-03-16 13:02:38,302 : INFO : worker thread finished; awaiting finish of 1 more threads\n",
      "2023-03-16 13:02:38,305 : INFO : worker thread finished; awaiting finish of 0 more threads\n",
      "2023-03-16 13:02:38,306 : INFO : EPOCH - 21 : training on 9227204 raw words (8222388 effective words) took 20.0s, 410658 effective words/s\n",
      "2023-03-16 13:02:39,386 : INFO : EPOCH 22 - PROGRESS: at 5.22% examples, 408640 words/s, in_qsize 16, out_qsize 3\n",
      "2023-03-16 13:02:40,475 : INFO : EPOCH 22 - PROGRESS: at 11.73% examples, 449374 words/s, in_qsize 15, out_qsize 0\n",
      "2023-03-16 13:02:41,541 : INFO : EPOCH 22 - PROGRESS: at 18.11% examples, 463634 words/s, in_qsize 15, out_qsize 0\n",
      "2023-03-16 13:02:42,577 : INFO : EPOCH 22 - PROGRESS: at 24.17% examples, 468192 words/s, in_qsize 15, out_qsize 0\n",
      "2023-03-16 13:02:43,640 : INFO : EPOCH 22 - PROGRESS: at 30.24% examples, 468437 words/s, in_qsize 13, out_qsize 2\n",
      "2023-03-16 13:02:44,687 : INFO : EPOCH 22 - PROGRESS: at 36.08% examples, 468254 words/s, in_qsize 16, out_qsize 5\n",
      "2023-03-16 13:02:45,717 : INFO : EPOCH 22 - PROGRESS: at 42.13% examples, 469366 words/s, in_qsize 15, out_qsize 1\n",
      "2023-03-16 13:02:46,726 : INFO : EPOCH 22 - PROGRESS: at 48.51% examples, 475570 words/s, in_qsize 15, out_qsize 0\n",
      "2023-03-16 13:02:47,761 : INFO : EPOCH 22 - PROGRESS: at 53.81% examples, 469707 words/s, in_qsize 15, out_qsize 2\n",
      "2023-03-16 13:02:48,809 : INFO : EPOCH 22 - PROGRESS: at 58.58% examples, 460188 words/s, in_qsize 14, out_qsize 1\n",
      "2023-03-16 13:02:49,812 : INFO : EPOCH 22 - PROGRESS: at 63.87% examples, 457984 words/s, in_qsize 16, out_qsize 0\n",
      "2023-03-16 13:02:50,814 : INFO : EPOCH 22 - PROGRESS: at 68.85% examples, 454065 words/s, in_qsize 15, out_qsize 0\n",
      "2023-03-16 13:02:51,860 : INFO : EPOCH 22 - PROGRESS: at 74.16% examples, 451184 words/s, in_qsize 15, out_qsize 0\n",
      "2023-03-16 13:02:52,909 : INFO : EPOCH 22 - PROGRESS: at 79.27% examples, 447426 words/s, in_qsize 15, out_qsize 0\n",
      "2023-03-16 13:02:53,938 : INFO : EPOCH 22 - PROGRESS: at 84.59% examples, 445898 words/s, in_qsize 16, out_qsize 0\n",
      "2023-03-16 13:02:54,940 : INFO : EPOCH 22 - PROGRESS: at 89.67% examples, 444178 words/s, in_qsize 14, out_qsize 2\n",
      "2023-03-16 13:02:55,970 : INFO : EPOCH 22 - PROGRESS: at 95.34% examples, 444475 words/s, in_qsize 14, out_qsize 1\n",
      "2023-03-16 13:02:56,627 : INFO : worker thread finished; awaiting finish of 7 more threads\n",
      "2023-03-16 13:02:56,649 : INFO : worker thread finished; awaiting finish of 6 more threads\n",
      "2023-03-16 13:02:56,684 : INFO : worker thread finished; awaiting finish of 5 more threads\n",
      "2023-03-16 13:02:56,685 : INFO : worker thread finished; awaiting finish of 4 more threads\n",
      "2023-03-16 13:02:56,700 : INFO : worker thread finished; awaiting finish of 3 more threads\n",
      "2023-03-16 13:02:56,704 : INFO : worker thread finished; awaiting finish of 2 more threads\n",
      "2023-03-16 13:02:56,713 : INFO : worker thread finished; awaiting finish of 1 more threads\n",
      "2023-03-16 13:02:56,717 : INFO : worker thread finished; awaiting finish of 0 more threads\n",
      "2023-03-16 13:02:56,718 : INFO : EPOCH - 22 : training on 9227204 raw words (8223312 effective words) took 18.4s, 447286 effective words/s\n",
      "2023-03-16 13:02:57,838 : INFO : EPOCH 23 - PROGRESS: at 5.43% examples, 400890 words/s, in_qsize 14, out_qsize 1\n",
      "2023-03-16 13:02:58,842 : INFO : EPOCH 23 - PROGRESS: at 10.86% examples, 421343 words/s, in_qsize 15, out_qsize 0\n",
      "2023-03-16 13:02:59,845 : INFO : EPOCH 23 - PROGRESS: at 15.52% examples, 408639 words/s, in_qsize 15, out_qsize 0\n",
      "2023-03-16 13:03:00,848 : INFO : EPOCH 23 - PROGRESS: at 20.70% examples, 412841 words/s, in_qsize 15, out_qsize 0\n",
      "2023-03-16 13:03:01,869 : INFO : EPOCH 23 - PROGRESS: at 26.34% examples, 421844 words/s, in_qsize 10, out_qsize 0\n",
      "2023-03-16 13:03:02,917 : INFO : EPOCH 23 - PROGRESS: at 31.97% examples, 424576 words/s, in_qsize 15, out_qsize 0\n",
      "2023-03-16 13:03:03,948 : INFO : EPOCH 23 - PROGRESS: at 37.59% examples, 428054 words/s, in_qsize 15, out_qsize 0\n",
      "2023-03-16 13:03:04,964 : INFO : EPOCH 23 - PROGRESS: at 43.21% examples, 431539 words/s, in_qsize 15, out_qsize 0\n",
      "2023-03-16 13:03:05,981 : INFO : EPOCH 23 - PROGRESS: at 48.94% examples, 435127 words/s, in_qsize 11, out_qsize 1\n",
      "2023-03-16 13:03:07,005 : INFO : EPOCH 23 - PROGRESS: at 51.86% examples, 415206 words/s, in_qsize 14, out_qsize 1\n",
      "2023-03-16 13:03:08,059 : INFO : EPOCH 23 - PROGRESS: at 55.97% examples, 406497 words/s, in_qsize 14, out_qsize 1\n",
      "2023-03-16 13:03:09,146 : INFO : EPOCH 23 - PROGRESS: at 61.71% examples, 408957 words/s, in_qsize 15, out_qsize 0\n",
      "2023-03-16 13:03:10,210 : INFO : EPOCH 23 - PROGRESS: at 66.58% examples, 407469 words/s, in_qsize 16, out_qsize 1\n",
      "2023-03-16 13:03:11,183 : INFO : EPOCH 23 - PROGRESS: at 71.13% examples, 404907 words/s, in_qsize 15, out_qsize 0\n",
      "2023-03-16 13:03:12,202 : INFO : EPOCH 23 - PROGRESS: at 76.22% examples, 405283 words/s, in_qsize 16, out_qsize 1\n",
      "2023-03-16 13:03:13,268 : INFO : EPOCH 23 - PROGRESS: at 81.99% examples, 408233 words/s, in_qsize 15, out_qsize 0\n",
      "2023-03-16 13:03:14,254 : INFO : EPOCH 23 - PROGRESS: at 87.51% examples, 410672 words/s, in_qsize 14, out_qsize 0\n",
      "2023-03-16 13:03:15,325 : INFO : EPOCH 23 - PROGRESS: at 93.16% examples, 411881 words/s, in_qsize 14, out_qsize 1\n",
      "2023-03-16 13:03:16,322 : INFO : worker thread finished; awaiting finish of 7 more threads\n",
      "2023-03-16 13:03:16,327 : INFO : EPOCH 23 - PROGRESS: at 99.44% examples, 417187 words/s, in_qsize 6, out_qsize 1\n",
      "2023-03-16 13:03:16,338 : INFO : worker thread finished; awaiting finish of 6 more threads\n",
      "2023-03-16 13:03:16,339 : INFO : worker thread finished; awaiting finish of 5 more threads\n",
      "2023-03-16 13:03:16,347 : INFO : worker thread finished; awaiting finish of 4 more threads\n",
      "2023-03-16 13:03:16,399 : INFO : worker thread finished; awaiting finish of 3 more threads\n",
      "2023-03-16 13:03:16,402 : INFO : worker thread finished; awaiting finish of 2 more threads\n",
      "2023-03-16 13:03:16,403 : INFO : worker thread finished; awaiting finish of 1 more threads\n",
      "2023-03-16 13:03:16,405 : INFO : worker thread finished; awaiting finish of 0 more threads\n",
      "2023-03-16 13:03:16,405 : INFO : EPOCH - 23 : training on 9227204 raw words (8221980 effective words) took 19.7s, 417837 effective words/s\n",
      "2023-03-16 13:03:17,439 : INFO : EPOCH 24 - PROGRESS: at 5.33% examples, 430792 words/s, in_qsize 12, out_qsize 3\n",
      "2023-03-16 13:03:18,449 : INFO : EPOCH 24 - PROGRESS: at 10.97% examples, 443433 words/s, in_qsize 13, out_qsize 2\n",
      "2023-03-16 13:03:19,565 : INFO : EPOCH 24 - PROGRESS: at 16.92% examples, 441726 words/s, in_qsize 15, out_qsize 0\n",
      "2023-03-16 13:03:20,576 : INFO : EPOCH 24 - PROGRESS: at 22.87% examples, 452255 words/s, in_qsize 16, out_qsize 0\n",
      "2023-03-16 13:03:21,663 : INFO : EPOCH 24 - PROGRESS: at 27.42% examples, 429839 words/s, in_qsize 15, out_qsize 0\n",
      "2023-03-16 13:03:22,714 : INFO : EPOCH 24 - PROGRESS: at 32.62% examples, 425980 words/s, in_qsize 14, out_qsize 1\n",
      "2023-03-16 13:03:23,724 : INFO : EPOCH 24 - PROGRESS: at 38.36% examples, 431726 words/s, in_qsize 12, out_qsize 3\n",
      "2023-03-16 13:03:24,789 : INFO : EPOCH 24 - PROGRESS: at 44.18% examples, 434246 words/s, in_qsize 15, out_qsize 0\n",
      "2023-03-16 13:03:25,819 : INFO : EPOCH 24 - PROGRESS: at 49.70% examples, 435024 words/s, in_qsize 15, out_qsize 0\n",
      "2023-03-16 13:03:26,824 : INFO : EPOCH 24 - PROGRESS: at 55.64% examples, 440163 words/s, in_qsize 13, out_qsize 0\n",
      "2023-03-16 13:03:27,828 : INFO : EPOCH 24 - PROGRESS: at 60.85% examples, 438893 words/s, in_qsize 13, out_qsize 2\n",
      "2023-03-16 13:03:28,855 : INFO : EPOCH 24 - PROGRESS: at 66.47% examples, 439859 words/s, in_qsize 15, out_qsize 1\n",
      "2023-03-16 13:03:29,957 : INFO : EPOCH 24 - PROGRESS: at 72.53% examples, 440905 words/s, in_qsize 15, out_qsize 0\n",
      "2023-03-16 13:03:31,013 : INFO : EPOCH 24 - PROGRESS: at 78.84% examples, 444907 words/s, in_qsize 15, out_qsize 0\n",
      "2023-03-16 13:03:31,999 : INFO : EPOCH 24 - PROGRESS: at 83.94% examples, 443161 words/s, in_qsize 14, out_qsize 1\n",
      "2023-03-16 13:03:33,036 : INFO : EPOCH 24 - PROGRESS: at 88.81% examples, 439596 words/s, in_qsize 15, out_qsize 0\n",
      "2023-03-16 13:03:34,050 : INFO : EPOCH 24 - PROGRESS: at 94.25% examples, 439543 words/s, in_qsize 15, out_qsize 0\n",
      "2023-03-16 13:03:34,958 : INFO : worker thread finished; awaiting finish of 7 more threads\n",
      "2023-03-16 13:03:34,960 : INFO : worker thread finished; awaiting finish of 6 more threads\n",
      "2023-03-16 13:03:34,962 : INFO : worker thread finished; awaiting finish of 5 more threads\n",
      "2023-03-16 13:03:34,966 : INFO : worker thread finished; awaiting finish of 4 more threads\n",
      "2023-03-16 13:03:34,976 : INFO : worker thread finished; awaiting finish of 3 more threads\n",
      "2023-03-16 13:03:34,995 : INFO : worker thread finished; awaiting finish of 2 more threads\n",
      "2023-03-16 13:03:35,002 : INFO : worker thread finished; awaiting finish of 1 more threads\n",
      "2023-03-16 13:03:35,016 : INFO : worker thread finished; awaiting finish of 0 more threads\n",
      "2023-03-16 13:03:35,016 : INFO : EPOCH - 24 : training on 9227204 raw words (8222742 effective words) took 18.6s, 442154 effective words/s\n",
      "2023-03-16 13:03:36,044 : INFO : EPOCH 25 - PROGRESS: at 4.34% examples, 351081 words/s, in_qsize 16, out_qsize 0\n",
      "2023-03-16 13:03:37,089 : INFO : EPOCH 25 - PROGRESS: at 9.55% examples, 380738 words/s, in_qsize 14, out_qsize 7\n",
      "2023-03-16 13:03:38,206 : INFO : EPOCH 25 - PROGRESS: at 15.41% examples, 398178 words/s, in_qsize 15, out_qsize 1\n",
      "2023-03-16 13:03:39,252 : INFO : EPOCH 25 - PROGRESS: at 18.76% examples, 364989 words/s, in_qsize 16, out_qsize 0\n",
      "2023-03-16 13:03:40,272 : INFO : EPOCH 25 - PROGRESS: at 24.18% examples, 379000 words/s, in_qsize 16, out_qsize 1\n",
      "2023-03-16 13:03:41,341 : INFO : EPOCH 25 - PROGRESS: at 29.91% examples, 389634 words/s, in_qsize 14, out_qsize 1\n",
      "2023-03-16 13:03:42,349 : INFO : EPOCH 25 - PROGRESS: at 35.00% examples, 393155 words/s, in_qsize 12, out_qsize 3\n",
      "2023-03-16 13:03:43,353 : INFO : EPOCH 25 - PROGRESS: at 39.54% examples, 390700 words/s, in_qsize 15, out_qsize 3\n",
      "2023-03-16 13:03:44,385 : INFO : EPOCH 25 - PROGRESS: at 44.62% examples, 392334 words/s, in_qsize 15, out_qsize 0\n",
      "2023-03-16 13:03:45,414 : INFO : EPOCH 25 - PROGRESS: at 49.70% examples, 393882 words/s, in_qsize 15, out_qsize 3\n",
      "2023-03-16 13:03:46,460 : INFO : EPOCH 25 - PROGRESS: at 55.75% examples, 401404 words/s, in_qsize 12, out_qsize 3\n",
      "2023-03-16 13:03:47,498 : INFO : EPOCH 25 - PROGRESS: at 61.82% examples, 408024 words/s, in_qsize 15, out_qsize 0\n",
      "2023-03-16 13:03:48,560 : INFO : EPOCH 25 - PROGRESS: at 67.77% examples, 412161 words/s, in_qsize 15, out_qsize 0\n",
      "2023-03-16 13:03:49,609 : INFO : EPOCH 25 - PROGRESS: at 73.52% examples, 414887 words/s, in_qsize 13, out_qsize 2\n",
      "2023-03-16 13:03:50,714 : INFO : EPOCH 25 - PROGRESS: at 79.60% examples, 417445 words/s, in_qsize 16, out_qsize 7\n",
      "2023-03-16 13:03:51,715 : INFO : EPOCH 25 - PROGRESS: at 85.34% examples, 420702 words/s, in_qsize 15, out_qsize 0\n",
      "2023-03-16 13:03:52,764 : INFO : EPOCH 25 - PROGRESS: at 91.31% examples, 423423 words/s, in_qsize 15, out_qsize 0\n",
      "2023-03-16 13:03:53,855 : INFO : EPOCH 25 - PROGRESS: at 96.31% examples, 420638 words/s, in_qsize 13, out_qsize 4\n",
      "2023-03-16 13:03:54,351 : INFO : worker thread finished; awaiting finish of 7 more threads\n",
      "2023-03-16 13:03:54,353 : INFO : worker thread finished; awaiting finish of 6 more threads\n",
      "2023-03-16 13:03:54,366 : INFO : worker thread finished; awaiting finish of 5 more threads\n",
      "2023-03-16 13:03:54,431 : INFO : worker thread finished; awaiting finish of 4 more threads\n",
      "2023-03-16 13:03:54,452 : INFO : worker thread finished; awaiting finish of 3 more threads\n",
      "2023-03-16 13:03:54,453 : INFO : worker thread finished; awaiting finish of 2 more threads\n",
      "2023-03-16 13:03:54,454 : INFO : worker thread finished; awaiting finish of 1 more threads\n",
      "2023-03-16 13:03:54,462 : INFO : worker thread finished; awaiting finish of 0 more threads\n",
      "2023-03-16 13:03:54,465 : INFO : EPOCH - 25 : training on 9227204 raw words (8222868 effective words) took 19.4s, 423082 effective words/s\n",
      "2023-03-16 13:03:55,534 : INFO : EPOCH 26 - PROGRESS: at 4.23% examples, 329084 words/s, in_qsize 15, out_qsize 0\n",
      "2023-03-16 13:03:56,621 : INFO : EPOCH 26 - PROGRESS: at 10.64% examples, 407529 words/s, in_qsize 16, out_qsize 0\n",
      "2023-03-16 13:03:57,622 : INFO : EPOCH 26 - PROGRESS: at 16.59% examples, 433520 words/s, in_qsize 16, out_qsize 0\n",
      "2023-03-16 13:03:58,647 : INFO : EPOCH 26 - PROGRESS: at 22.65% examples, 449239 words/s, in_qsize 15, out_qsize 2\n",
      "2023-03-16 13:03:59,696 : INFO : EPOCH 26 - PROGRESS: at 28.29% examples, 445660 words/s, in_qsize 11, out_qsize 4\n",
      "2023-03-16 13:04:00,720 : INFO : EPOCH 26 - PROGRESS: at 34.78% examples, 458164 words/s, in_qsize 15, out_qsize 0\n",
      "2023-03-16 13:04:01,812 : INFO : EPOCH 26 - PROGRESS: at 40.83% examples, 457966 words/s, in_qsize 13, out_qsize 6\n",
      "2023-03-16 13:04:02,911 : INFO : EPOCH 26 - PROGRESS: at 47.32% examples, 462723 words/s, in_qsize 15, out_qsize 1\n",
      "2023-03-16 13:04:03,965 : INFO : EPOCH 26 - PROGRESS: at 53.49% examples, 463930 words/s, in_qsize 15, out_qsize 1\n",
      "2023-03-16 13:04:04,968 : INFO : EPOCH 26 - PROGRESS: at 59.01% examples, 462920 words/s, in_qsize 13, out_qsize 2\n",
      "2023-03-16 13:04:05,981 : INFO : EPOCH 26 - PROGRESS: at 63.87% examples, 456990 words/s, in_qsize 16, out_qsize 0\n",
      "2023-03-16 13:04:07,023 : INFO : EPOCH 26 - PROGRESS: at 68.75% examples, 450972 words/s, in_qsize 15, out_qsize 0\n",
      "2023-03-16 13:04:08,111 : INFO : EPOCH 26 - PROGRESS: at 74.92% examples, 452217 words/s, in_qsize 16, out_qsize 0\n",
      "2023-03-16 13:04:09,144 : INFO : EPOCH 26 - PROGRESS: at 80.80% examples, 453155 words/s, in_qsize 14, out_qsize 1\n",
      "2023-03-16 13:04:10,305 : INFO : EPOCH 26 - PROGRESS: at 86.21% examples, 448052 words/s, in_qsize 15, out_qsize 0\n",
      "2023-03-16 13:04:11,357 : INFO : EPOCH 26 - PROGRESS: at 89.67% examples, 437008 words/s, in_qsize 12, out_qsize 3\n",
      "2023-03-16 13:04:12,436 : INFO : EPOCH 26 - PROGRESS: at 96.09% examples, 440007 words/s, in_qsize 14, out_qsize 1\n",
      "2023-03-16 13:04:12,916 : INFO : worker thread finished; awaiting finish of 7 more threads\n",
      "2023-03-16 13:04:12,917 : INFO : worker thread finished; awaiting finish of 6 more threads\n",
      "2023-03-16 13:04:12,947 : INFO : worker thread finished; awaiting finish of 5 more threads\n",
      "2023-03-16 13:04:12,952 : INFO : worker thread finished; awaiting finish of 4 more threads\n",
      "2023-03-16 13:04:12,987 : INFO : worker thread finished; awaiting finish of 3 more threads\n",
      "2023-03-16 13:04:12,988 : INFO : worker thread finished; awaiting finish of 2 more threads\n",
      "2023-03-16 13:04:12,990 : INFO : worker thread finished; awaiting finish of 1 more threads\n",
      "2023-03-16 13:04:12,991 : INFO : worker thread finished; awaiting finish of 0 more threads\n",
      "2023-03-16 13:04:12,992 : INFO : EPOCH - 26 : training on 9227204 raw words (8222830 effective words) took 18.5s, 444160 effective words/s\n",
      "2023-03-16 13:04:14,010 : INFO : EPOCH 27 - PROGRESS: at 5.22% examples, 424340 words/s, in_qsize 14, out_qsize 3\n",
      "2023-03-16 13:04:15,102 : INFO : EPOCH 27 - PROGRESS: at 10.53% examples, 411743 words/s, in_qsize 15, out_qsize 0\n",
      "2023-03-16 13:04:16,144 : INFO : EPOCH 27 - PROGRESS: at 15.73% examples, 414136 words/s, in_qsize 15, out_qsize 1\n",
      "2023-03-16 13:04:17,134 : INFO : EPOCH 27 - PROGRESS: at 20.92% examples, 416125 words/s, in_qsize 16, out_qsize 0\n",
      "2023-03-16 13:04:18,142 : INFO : EPOCH 27 - PROGRESS: at 26.56% examples, 424635 words/s, in_qsize 16, out_qsize 1\n",
      "2023-03-16 13:04:19,204 : INFO : EPOCH 27 - PROGRESS: at 32.73% examples, 433857 words/s, in_qsize 15, out_qsize 0\n",
      "2023-03-16 13:04:20,207 : INFO : EPOCH 27 - PROGRESS: at 38.89% examples, 443930 words/s, in_qsize 15, out_qsize 0\n",
      "2023-03-16 13:04:21,268 : INFO : EPOCH 27 - PROGRESS: at 45.37% examples, 451572 words/s, in_qsize 14, out_qsize 1\n",
      "2023-03-16 13:04:22,296 : INFO : EPOCH 27 - PROGRESS: at 51.21% examples, 454309 words/s, in_qsize 15, out_qsize 4\n",
      "2023-03-16 13:04:23,361 : INFO : EPOCH 27 - PROGRESS: at 57.92% examples, 460167 words/s, in_qsize 15, out_qsize 0\n",
      "2023-03-16 13:04:24,366 : INFO : EPOCH 27 - PROGRESS: at 64.40% examples, 466518 words/s, in_qsize 15, out_qsize 0\n",
      "2023-03-16 13:04:25,403 : INFO : EPOCH 27 - PROGRESS: at 70.16% examples, 465566 words/s, in_qsize 15, out_qsize 0\n",
      "2023-03-16 13:04:26,490 : INFO : EPOCH 27 - PROGRESS: at 76.66% examples, 467640 words/s, in_qsize 14, out_qsize 4\n",
      "2023-03-16 13:04:27,505 : INFO : EPOCH 27 - PROGRESS: at 82.10% examples, 465610 words/s, in_qsize 15, out_qsize 0\n",
      "2023-03-16 13:04:28,536 : INFO : EPOCH 27 - PROGRESS: at 87.51% examples, 463375 words/s, in_qsize 15, out_qsize 0\n",
      "2023-03-16 13:04:29,553 : INFO : EPOCH 27 - PROGRESS: at 93.26% examples, 463381 words/s, in_qsize 16, out_qsize 0\n",
      "2023-03-16 13:04:30,515 : INFO : worker thread finished; awaiting finish of 7 more threads\n",
      "2023-03-16 13:04:30,520 : INFO : worker thread finished; awaiting finish of 6 more threads\n",
      "2023-03-16 13:04:30,523 : INFO : worker thread finished; awaiting finish of 5 more threads\n",
      "2023-03-16 13:04:30,542 : INFO : worker thread finished; awaiting finish of 4 more threads\n",
      "2023-03-16 13:04:30,552 : INFO : worker thread finished; awaiting finish of 3 more threads\n",
      "2023-03-16 13:04:30,554 : INFO : EPOCH 27 - PROGRESS: at 99.78% examples, 467470 words/s, in_qsize 2, out_qsize 1\n",
      "2023-03-16 13:04:30,555 : INFO : worker thread finished; awaiting finish of 2 more threads\n",
      "2023-03-16 13:04:30,578 : INFO : worker thread finished; awaiting finish of 1 more threads\n",
      "2023-03-16 13:04:30,580 : INFO : worker thread finished; awaiting finish of 0 more threads\n",
      "2023-03-16 13:04:30,581 : INFO : EPOCH - 27 : training on 9227204 raw words (8222504 effective words) took 17.6s, 467777 effective words/s\n",
      "2023-03-16 13:04:31,596 : INFO : EPOCH 28 - PROGRESS: at 6.08% examples, 495387 words/s, in_qsize 15, out_qsize 0\n",
      "2023-03-16 13:04:32,625 : INFO : EPOCH 28 - PROGRESS: at 11.84% examples, 476980 words/s, in_qsize 15, out_qsize 0\n",
      "2023-03-16 13:04:33,674 : INFO : EPOCH 28 - PROGRESS: at 18.11% examples, 482078 words/s, in_qsize 15, out_qsize 0\n",
      "2023-03-16 13:04:34,678 : INFO : EPOCH 28 - PROGRESS: at 24.61% examples, 494504 words/s, in_qsize 16, out_qsize 1\n",
      "2023-03-16 13:04:35,738 : INFO : EPOCH 28 - PROGRESS: at 30.35% examples, 484488 words/s, in_qsize 15, out_qsize 0\n",
      "2023-03-16 13:04:36,802 : INFO : EPOCH 28 - PROGRESS: at 36.40% examples, 481740 words/s, in_qsize 16, out_qsize 3\n",
      "2023-03-16 13:04:37,818 : INFO : EPOCH 28 - PROGRESS: at 42.02% examples, 478141 words/s, in_qsize 15, out_qsize 0\n",
      "2023-03-16 13:04:38,872 : INFO : EPOCH 28 - PROGRESS: at 47.43% examples, 471056 words/s, in_qsize 12, out_qsize 3\n",
      "2023-03-16 13:04:39,909 : INFO : EPOCH 28 - PROGRESS: at 53.27% examples, 470346 words/s, in_qsize 15, out_qsize 0\n",
      "2023-03-16 13:04:40,925 : INFO : EPOCH 28 - PROGRESS: at 59.44% examples, 473276 words/s, in_qsize 14, out_qsize 1\n",
      "2023-03-16 13:04:41,959 : INFO : EPOCH 28 - PROGRESS: at 64.84% examples, 469372 words/s, in_qsize 15, out_qsize 0\n",
      "2023-03-16 13:04:42,988 : INFO : EPOCH 28 - PROGRESS: at 68.21% examples, 452686 words/s, in_qsize 16, out_qsize 0\n",
      "2023-03-16 13:04:43,997 : INFO : EPOCH 28 - PROGRESS: at 74.05% examples, 454480 words/s, in_qsize 16, out_qsize 2\n",
      "2023-03-16 13:04:45,009 : INFO : EPOCH 28 - PROGRESS: at 80.14% examples, 457169 words/s, in_qsize 13, out_qsize 2\n",
      "2023-03-16 13:04:46,061 : INFO : EPOCH 28 - PROGRESS: at 85.45% examples, 454285 words/s, in_qsize 15, out_qsize 0\n",
      "2023-03-16 13:04:47,079 : INFO : EPOCH 28 - PROGRESS: at 91.42% examples, 455943 words/s, in_qsize 16, out_qsize 0\n",
      "2023-03-16 13:04:48,101 : INFO : EPOCH 28 - PROGRESS: at 97.29% examples, 456793 words/s, in_qsize 15, out_qsize 0\n",
      "2023-03-16 13:04:48,349 : INFO : worker thread finished; awaiting finish of 7 more threads\n",
      "2023-03-16 13:04:48,372 : INFO : worker thread finished; awaiting finish of 6 more threads\n",
      "2023-03-16 13:04:48,405 : INFO : worker thread finished; awaiting finish of 5 more threads\n",
      "2023-03-16 13:04:48,408 : INFO : worker thread finished; awaiting finish of 4 more threads\n",
      "2023-03-16 13:04:48,413 : INFO : worker thread finished; awaiting finish of 3 more threads\n",
      "2023-03-16 13:04:48,415 : INFO : worker thread finished; awaiting finish of 2 more threads\n",
      "2023-03-16 13:04:48,417 : INFO : worker thread finished; awaiting finish of 1 more threads\n",
      "2023-03-16 13:04:48,420 : INFO : worker thread finished; awaiting finish of 0 more threads\n",
      "2023-03-16 13:04:48,421 : INFO : EPOCH - 28 : training on 9227204 raw words (8223189 effective words) took 17.8s, 461144 effective words/s\n",
      "2023-03-16 13:04:49,435 : INFO : EPOCH 29 - PROGRESS: at 4.45% examples, 363129 words/s, in_qsize 15, out_qsize 0\n",
      "2023-03-16 13:04:50,468 : INFO : EPOCH 29 - PROGRESS: at 9.77% examples, 393577 words/s, in_qsize 15, out_qsize 0\n",
      "2023-03-16 13:04:51,491 : INFO : EPOCH 29 - PROGRESS: at 15.84% examples, 424961 words/s, in_qsize 15, out_qsize 0\n",
      "2023-03-16 13:04:52,509 : INFO : EPOCH 29 - PROGRESS: at 22.01% examples, 443358 words/s, in_qsize 13, out_qsize 2\n",
      "2023-03-16 13:04:53,528 : INFO : EPOCH 29 - PROGRESS: at 28.18% examples, 454362 words/s, in_qsize 15, out_qsize 3\n",
      "2023-03-16 13:04:54,572 : INFO : EPOCH 29 - PROGRESS: at 34.35% examples, 459793 words/s, in_qsize 15, out_qsize 0\n",
      "2023-03-16 13:04:55,614 : INFO : EPOCH 29 - PROGRESS: at 40.62% examples, 464974 words/s, in_qsize 16, out_qsize 0\n",
      "2023-03-16 13:04:56,624 : INFO : EPOCH 29 - PROGRESS: at 47.32% examples, 475043 words/s, in_qsize 16, out_qsize 0\n",
      "2023-03-16 13:04:57,636 : INFO : EPOCH 29 - PROGRESS: at 53.38% examples, 477043 words/s, in_qsize 16, out_qsize 0\n",
      "2023-03-16 13:04:58,683 : INFO : EPOCH 29 - PROGRESS: at 59.55% examples, 477903 words/s, in_qsize 15, out_qsize 0\n",
      "2023-03-16 13:04:59,702 : INFO : EPOCH 29 - PROGRESS: at 65.61% examples, 478965 words/s, in_qsize 15, out_qsize 0\n",
      "2023-03-16 13:05:00,719 : INFO : EPOCH 29 - PROGRESS: at 70.70% examples, 473381 words/s, in_qsize 16, out_qsize 0\n",
      "2023-03-16 13:05:01,767 : INFO : EPOCH 29 - PROGRESS: at 76.00% examples, 468902 words/s, in_qsize 15, out_qsize 0\n",
      "2023-03-16 13:05:02,802 : INFO : EPOCH 29 - PROGRESS: at 82.53% examples, 472324 words/s, in_qsize 15, out_qsize 0\n",
      "2023-03-16 13:05:03,832 : INFO : EPOCH 29 - PROGRESS: at 88.59% examples, 473866 words/s, in_qsize 15, out_qsize 0\n",
      "2023-03-16 13:05:04,819 : INFO : EPOCH 29 - PROGRESS: at 94.47% examples, 474112 words/s, in_qsize 13, out_qsize 5\n",
      "2023-03-16 13:05:05,549 : INFO : worker thread finished; awaiting finish of 7 more threads\n",
      "2023-03-16 13:05:05,550 : INFO : worker thread finished; awaiting finish of 6 more threads\n",
      "2023-03-16 13:05:05,551 : INFO : worker thread finished; awaiting finish of 5 more threads\n",
      "2023-03-16 13:05:05,563 : INFO : worker thread finished; awaiting finish of 4 more threads\n",
      "2023-03-16 13:05:05,576 : INFO : worker thread finished; awaiting finish of 3 more threads\n",
      "2023-03-16 13:05:05,600 : INFO : worker thread finished; awaiting finish of 2 more threads\n",
      "2023-03-16 13:05:05,605 : INFO : worker thread finished; awaiting finish of 1 more threads\n",
      "2023-03-16 13:05:05,610 : INFO : worker thread finished; awaiting finish of 0 more threads\n",
      "2023-03-16 13:05:05,611 : INFO : EPOCH - 29 : training on 9227204 raw words (8222868 effective words) took 17.2s, 478593 effective words/s\n",
      "2023-03-16 13:05:06,647 : INFO : EPOCH 30 - PROGRESS: at 5.54% examples, 442502 words/s, in_qsize 16, out_qsize 0\n",
      "2023-03-16 13:05:07,648 : INFO : EPOCH 30 - PROGRESS: at 11.95% examples, 483521 words/s, in_qsize 15, out_qsize 0\n",
      "2023-03-16 13:05:08,702 : INFO : EPOCH 30 - PROGRESS: at 17.89% examples, 477019 words/s, in_qsize 15, out_qsize 0\n",
      "2023-03-16 13:05:09,732 : INFO : EPOCH 30 - PROGRESS: at 23.74% examples, 474621 words/s, in_qsize 14, out_qsize 1\n",
      "2023-03-16 13:05:10,800 : INFO : EPOCH 30 - PROGRESS: at 29.70% examples, 471365 words/s, in_qsize 15, out_qsize 0\n",
      "2023-03-16 13:05:11,802 : INFO : EPOCH 30 - PROGRESS: at 34.67% examples, 461294 words/s, in_qsize 14, out_qsize 1\n",
      "2023-03-16 13:05:12,865 : INFO : EPOCH 30 - PROGRESS: at 39.97% examples, 455298 words/s, in_qsize 15, out_qsize 0\n",
      "2023-03-16 13:05:13,919 : INFO : EPOCH 30 - PROGRESS: at 44.94% examples, 445538 words/s, in_qsize 15, out_qsize 0\n",
      "2023-03-16 13:05:14,925 : INFO : EPOCH 30 - PROGRESS: at 48.84% examples, 431866 words/s, in_qsize 15, out_qsize 0\n",
      "2023-03-16 13:05:15,935 : INFO : EPOCH 30 - PROGRESS: at 54.03% examples, 431030 words/s, in_qsize 15, out_qsize 0\n",
      "2023-03-16 13:05:16,944 : INFO : EPOCH 30 - PROGRESS: at 59.87% examples, 435107 words/s, in_qsize 16, out_qsize 0\n",
      "2023-03-16 13:05:17,960 : INFO : EPOCH 30 - PROGRESS: at 65.83% examples, 438965 words/s, in_qsize 15, out_qsize 0\n",
      "2023-03-16 13:05:19,049 : INFO : EPOCH 30 - PROGRESS: at 71.99% examples, 441210 words/s, in_qsize 12, out_qsize 3\n",
      "2023-03-16 13:05:20,072 : INFO : EPOCH 30 - PROGRESS: at 78.62% examples, 447548 words/s, in_qsize 15, out_qsize 0\n",
      "2023-03-16 13:05:21,124 : INFO : EPOCH 30 - PROGRESS: at 84.58% examples, 448796 words/s, in_qsize 15, out_qsize 0\n",
      "2023-03-16 13:05:22,143 : INFO : EPOCH 30 - PROGRESS: at 90.44% examples, 450204 words/s, in_qsize 15, out_qsize 0\n",
      "2023-03-16 13:05:23,236 : INFO : EPOCH 30 - PROGRESS: at 95.77% examples, 447030 words/s, in_qsize 15, out_qsize 0\n",
      "2023-03-16 13:05:23,802 : INFO : worker thread finished; awaiting finish of 7 more threads\n",
      "2023-03-16 13:05:23,809 : INFO : worker thread finished; awaiting finish of 6 more threads\n",
      "2023-03-16 13:05:23,810 : INFO : worker thread finished; awaiting finish of 5 more threads\n",
      "2023-03-16 13:05:23,848 : INFO : worker thread finished; awaiting finish of 4 more threads\n",
      "2023-03-16 13:05:23,856 : INFO : worker thread finished; awaiting finish of 3 more threads\n",
      "2023-03-16 13:05:23,860 : INFO : worker thread finished; awaiting finish of 2 more threads\n",
      "2023-03-16 13:05:23,866 : INFO : worker thread finished; awaiting finish of 1 more threads\n",
      "2023-03-16 13:05:23,870 : INFO : worker thread finished; awaiting finish of 0 more threads\n",
      "2023-03-16 13:05:23,870 : INFO : EPOCH - 30 : training on 9227204 raw words (8222819 effective words) took 18.2s, 450577 effective words/s\n",
      "2023-03-16 13:05:24,924 : INFO : EPOCH 31 - PROGRESS: at 5.54% examples, 438933 words/s, in_qsize 13, out_qsize 2\n",
      "2023-03-16 13:05:25,944 : INFO : EPOCH 31 - PROGRESS: at 11.73% examples, 468309 words/s, in_qsize 16, out_qsize 1\n",
      "2023-03-16 13:05:27,035 : INFO : EPOCH 31 - PROGRESS: at 17.68% examples, 461560 words/s, in_qsize 16, out_qsize 2\n",
      "2023-03-16 13:05:28,140 : INFO : EPOCH 31 - PROGRESS: at 24.50% examples, 473612 words/s, in_qsize 15, out_qsize 0\n",
      "2023-03-16 13:05:29,267 : INFO : EPOCH 31 - PROGRESS: at 31.10% examples, 475416 words/s, in_qsize 15, out_qsize 0\n",
      "2023-03-16 13:05:30,276 : INFO : EPOCH 31 - PROGRESS: at 37.70% examples, 485415 words/s, in_qsize 16, out_qsize 0\n",
      "2023-03-16 13:05:31,334 : INFO : EPOCH 31 - PROGRESS: at 43.65% examples, 482196 words/s, in_qsize 15, out_qsize 0\n",
      "2023-03-16 13:05:32,367 : INFO : EPOCH 31 - PROGRESS: at 49.70% examples, 482322 words/s, in_qsize 14, out_qsize 3\n",
      "2023-03-16 13:05:33,399 : INFO : EPOCH 31 - PROGRESS: at 54.89% examples, 474942 words/s, in_qsize 15, out_qsize 0\n",
      "2023-03-16 13:05:34,426 : INFO : EPOCH 31 - PROGRESS: at 60.52% examples, 472606 words/s, in_qsize 15, out_qsize 0\n",
      "2023-03-16 13:05:35,433 : INFO : EPOCH 31 - PROGRESS: at 66.15% examples, 471502 words/s, in_qsize 16, out_qsize 1\n",
      "2023-03-16 13:05:36,439 : INFO : EPOCH 31 - PROGRESS: at 72.43% examples, 474902 words/s, in_qsize 16, out_qsize 0\n",
      "2023-03-16 13:05:37,451 : INFO : EPOCH 31 - PROGRESS: at 78.07% examples, 473628 words/s, in_qsize 15, out_qsize 0\n",
      "2023-03-16 13:05:38,485 : INFO : EPOCH 31 - PROGRESS: at 84.48% examples, 476075 words/s, in_qsize 15, out_qsize 0\n",
      "2023-03-16 13:05:39,547 : INFO : EPOCH 31 - PROGRESS: at 91.09% examples, 478460 words/s, in_qsize 15, out_qsize 0\n",
      "2023-03-16 13:05:40,567 : INFO : EPOCH 31 - PROGRESS: at 97.18% examples, 479078 words/s, in_qsize 15, out_qsize 0\n",
      "2023-03-16 13:05:40,824 : INFO : worker thread finished; awaiting finish of 7 more threads\n",
      "2023-03-16 13:05:40,852 : INFO : worker thread finished; awaiting finish of 6 more threads\n",
      "2023-03-16 13:05:40,896 : INFO : worker thread finished; awaiting finish of 5 more threads\n",
      "2023-03-16 13:05:40,905 : INFO : worker thread finished; awaiting finish of 4 more threads\n",
      "2023-03-16 13:05:40,906 : INFO : worker thread finished; awaiting finish of 3 more threads\n",
      "2023-03-16 13:05:40,910 : INFO : worker thread finished; awaiting finish of 2 more threads\n",
      "2023-03-16 13:05:40,911 : INFO : worker thread finished; awaiting finish of 1 more threads\n",
      "2023-03-16 13:05:40,912 : INFO : worker thread finished; awaiting finish of 0 more threads\n",
      "2023-03-16 13:05:40,914 : INFO : EPOCH - 31 : training on 9227204 raw words (8222857 effective words) took 17.0s, 483004 effective words/s\n",
      "2023-03-16 13:05:41,954 : INFO : EPOCH 32 - PROGRESS: at 5.65% examples, 448925 words/s, in_qsize 15, out_qsize 0\n",
      "2023-03-16 13:05:43,004 : INFO : EPOCH 32 - PROGRESS: at 12.17% examples, 479277 words/s, in_qsize 14, out_qsize 1\n",
      "2023-03-16 13:05:44,059 : INFO : EPOCH 32 - PROGRESS: at 17.78% examples, 465503 words/s, in_qsize 14, out_qsize 1\n",
      "2023-03-16 13:05:45,083 : INFO : EPOCH 32 - PROGRESS: at 23.20% examples, 458171 words/s, in_qsize 15, out_qsize 0\n",
      "2023-03-16 13:05:46,301 : INFO : EPOCH 32 - PROGRESS: at 26.67% examples, 407394 words/s, in_qsize 15, out_qsize 0\n",
      "2023-03-16 13:05:47,346 : INFO : EPOCH 32 - PROGRESS: at 30.67% examples, 392445 words/s, in_qsize 15, out_qsize 0\n",
      "2023-03-16 13:05:48,396 : INFO : EPOCH 32 - PROGRESS: at 37.16% examples, 408789 words/s, in_qsize 14, out_qsize 1\n",
      "2023-03-16 13:05:49,436 : INFO : EPOCH 32 - PROGRESS: at 43.43% examples, 419565 words/s, in_qsize 14, out_qsize 2\n",
      "2023-03-16 13:05:50,514 : INFO : EPOCH 32 - PROGRESS: at 50.02% examples, 429072 words/s, in_qsize 14, out_qsize 1\n",
      "2023-03-16 13:05:51,606 : INFO : EPOCH 32 - PROGRESS: at 56.40% examples, 434469 words/s, in_qsize 15, out_qsize 0\n",
      "2023-03-16 13:05:52,611 : INFO : EPOCH 32 - PROGRESS: at 62.36% examples, 439024 words/s, in_qsize 15, out_qsize 2\n",
      "2023-03-16 13:05:53,615 : INFO : EPOCH 32 - PROGRESS: at 68.75% examples, 445716 words/s, in_qsize 16, out_qsize 1\n",
      "2023-03-16 13:05:54,635 : INFO : EPOCH 32 - PROGRESS: at 74.49% examples, 446990 words/s, in_qsize 14, out_qsize 1\n",
      "2023-03-16 13:05:55,671 : INFO : EPOCH 32 - PROGRESS: at 79.16% examples, 441548 words/s, in_qsize 15, out_qsize 2\n",
      "2023-03-16 13:05:56,688 : INFO : EPOCH 32 - PROGRESS: at 84.91% examples, 443016 words/s, in_qsize 16, out_qsize 0\n",
      "2023-03-16 13:05:57,707 : INFO : EPOCH 32 - PROGRESS: at 90.54% examples, 443710 words/s, in_qsize 15, out_qsize 0\n",
      "2023-03-16 13:05:58,712 : INFO : EPOCH 32 - PROGRESS: at 97.18% examples, 449174 words/s, in_qsize 16, out_qsize 0\n",
      "2023-03-16 13:05:59,045 : INFO : worker thread finished; awaiting finish of 7 more threads\n",
      "2023-03-16 13:05:59,056 : INFO : worker thread finished; awaiting finish of 6 more threads\n",
      "2023-03-16 13:05:59,076 : INFO : worker thread finished; awaiting finish of 5 more threads\n",
      "2023-03-16 13:05:59,121 : INFO : worker thread finished; awaiting finish of 4 more threads\n",
      "2023-03-16 13:05:59,126 : INFO : worker thread finished; awaiting finish of 3 more threads\n",
      "2023-03-16 13:05:59,130 : INFO : worker thread finished; awaiting finish of 2 more threads\n",
      "2023-03-16 13:05:59,139 : INFO : worker thread finished; awaiting finish of 1 more threads\n",
      "2023-03-16 13:05:59,140 : INFO : worker thread finished; awaiting finish of 0 more threads\n",
      "2023-03-16 13:05:59,141 : INFO : EPOCH - 32 : training on 9227204 raw words (8223249 effective words) took 18.2s, 451358 effective words/s\n",
      "2023-03-16 13:05:59,142 : INFO : training on a 295270528 raw words (263128225 effective words) took 588.0s, 447468 effective words/s\n"
     ]
    },
    {
     "name": "stdout",
     "output_type": "stream",
     "text": [
      "CPU times: user 18min 7s, sys: 5.43 s, total: 18min 13s\n",
      "Wall time: 9min 48s\n"
     ]
    },
    {
     "data": {
      "text/plain": [
       "(263128225, 295270528)"
      ]
     },
     "execution_count": 23,
     "metadata": {},
     "output_type": "execute_result"
    }
   ],
   "source": [
    "%%time\n",
    "w2v_model.train(documents, total_examples=len(documents), epochs=W2V_EPOCH)"
   ]
  },
  {
   "cell_type": "code",
   "execution_count": 24,
   "metadata": {
    "_uuid": "27cc2651c74227115d8bfd8c40e5618048e05edd",
    "execution": {
     "iopub.execute_input": "2023-03-16T13:05:59.150099Z",
     "iopub.status.busy": "2023-03-16T13:05:59.149848Z",
     "iopub.status.idle": "2023-03-16T13:05:59.252750Z",
     "shell.execute_reply": "2023-03-16T13:05:59.251859Z",
     "shell.execute_reply.started": "2023-03-16T13:05:59.150055Z"
    }
   },
   "outputs": [
    {
     "name": "stderr",
     "output_type": "stream",
     "text": [
      "/opt/conda/lib/python3.6/site-packages/ipykernel_launcher.py:1: DeprecationWarning: Call to deprecated `most_similar` (Method will be removed in 4.0.0, use self.wv.most_similar() instead).\n",
      "  \"\"\"Entry point for launching an IPython kernel.\n",
      "2023-03-16 13:05:59,151 : INFO : precomputing L2-norms of word weight vectors\n",
      "/opt/conda/lib/python3.6/site-packages/gensim/matutils.py:737: FutureWarning: Conversion of the second argument of issubdtype from `int` to `np.signedinteger` is deprecated. In future, it will be treated as `np.int64 == np.dtype(int).type`.\n",
      "  if np.issubdtype(vec.dtype, np.int):\n"
     ]
    },
    {
     "data": {
      "text/plain": [
       "[('luv', 0.5694761276245117),\n",
       " ('loves', 0.5543006062507629),\n",
       " ('loved', 0.5426150560379028),\n",
       " ('adore', 0.5150933265686035),\n",
       " ('amazing', 0.5042452812194824),\n",
       " ('looove', 0.48789453506469727),\n",
       " ('awesome', 0.4563041031360626),\n",
       " ('lovee', 0.4446485638618469),\n",
       " ('loveee', 0.4390195906162262),\n",
       " ('miss', 0.4265594482421875)]"
      ]
     },
     "execution_count": 24,
     "metadata": {},
     "output_type": "execute_result"
    }
   ],
   "source": [
    "w2v_model.most_similar(\"love\")"
   ]
  },
  {
   "cell_type": "markdown",
   "metadata": {
    "_uuid": "e13563644468037258598637b49373ca96b9b879"
   },
   "source": [
    "### Tokenize Text"
   ]
  },
  {
   "cell_type": "code",
   "execution_count": 25,
   "metadata": {
    "_uuid": "6852bc709a7cd20173cbeeb218505078f8f37c57",
    "execution": {
     "iopub.execute_input": "2023-03-16T13:05:59.255120Z",
     "iopub.status.busy": "2023-03-16T13:05:59.254552Z",
     "iopub.status.idle": "2023-03-16T13:06:21.799129Z",
     "shell.execute_reply": "2023-03-16T13:06:21.798430Z",
     "shell.execute_reply.started": "2023-03-16T13:05:59.254920Z"
    }
   },
   "outputs": [
    {
     "name": "stdout",
     "output_type": "stream",
     "text": [
      "Total words 290419\n",
      "CPU times: user 22.4 s, sys: 157 ms, total: 22.5 s\n",
      "Wall time: 22.5 s\n"
     ]
    }
   ],
   "source": [
    "%%time\n",
    "tokenizer = Tokenizer()\n",
    "tokenizer.fit_on_texts(df_train.text)\n",
    "\n",
    "vocab_size = len(tokenizer.word_index) + 1\n",
    "print(\"Total words\", vocab_size)"
   ]
  },
  {
   "cell_type": "code",
   "execution_count": 26,
   "metadata": {
    "_uuid": "45de439df3015030c71f84c2d170346936a1d68f",
    "execution": {
     "iopub.execute_input": "2023-03-16T13:06:21.801142Z",
     "iopub.status.busy": "2023-03-16T13:06:21.800520Z",
     "iopub.status.idle": "2023-03-16T13:06:55.175989Z",
     "shell.execute_reply": "2023-03-16T13:06:55.174559Z",
     "shell.execute_reply.started": "2023-03-16T13:06:21.800892Z"
    }
   },
   "outputs": [
    {
     "name": "stdout",
     "output_type": "stream",
     "text": [
      "CPU times: user 32.1 s, sys: 979 ms, total: 33.1 s\n",
      "Wall time: 33.4 s\n"
     ]
    }
   ],
   "source": [
    "%%time\n",
    "x_train = pad_sequences(tokenizer.texts_to_sequences(df_train.text), maxlen=SEQUENCE_LENGTH)\n",
    "x_test = pad_sequences(tokenizer.texts_to_sequences(df_test.text), maxlen=SEQUENCE_LENGTH)"
   ]
  },
  {
   "cell_type": "markdown",
   "metadata": {
    "_uuid": "03b35903fc6260e190d6928d240ef7432de117fc"
   },
   "source": [
    "### Label Encoder "
   ]
  },
  {
   "cell_type": "code",
   "execution_count": 27,
   "metadata": {
    "_uuid": "33676e0efa39e97d89bd650b8b4eae933a22fbf0",
    "execution": {
     "iopub.execute_input": "2023-03-16T13:06:55.177933Z",
     "iopub.status.busy": "2023-03-16T13:06:55.177217Z",
     "iopub.status.idle": "2023-03-16T13:06:55.225323Z",
     "shell.execute_reply": "2023-03-16T13:06:55.224457Z",
     "shell.execute_reply.started": "2023-03-16T13:06:55.177876Z"
    }
   },
   "outputs": [
    {
     "data": {
      "text/plain": [
       "['POSITIVE', 'NEGATIVE', 'NEUTRAL']"
      ]
     },
     "execution_count": 27,
     "metadata": {},
     "output_type": "execute_result"
    }
   ],
   "source": [
    "labels = df_train.target.unique().tolist()\n",
    "labels.append(NEUTRAL)\n",
    "labels"
   ]
  },
  {
   "cell_type": "code",
   "execution_count": 28,
   "metadata": {
    "_uuid": "04239a9bef76e7922fd86098a5601dfde8ee4665",
    "execution": {
     "iopub.execute_input": "2023-03-16T13:06:55.226754Z",
     "iopub.status.busy": "2023-03-16T13:06:55.226472Z",
     "iopub.status.idle": "2023-03-16T13:06:56.072955Z",
     "shell.execute_reply": "2023-03-16T13:06:56.072272Z",
     "shell.execute_reply.started": "2023-03-16T13:06:55.226703Z"
    }
   },
   "outputs": [
    {
     "name": "stdout",
     "output_type": "stream",
     "text": [
      "y_train (1280000, 1)\n",
      "y_test (320000, 1)\n"
     ]
    }
   ],
   "source": [
    "encoder = LabelEncoder()\n",
    "encoder.fit(df_train.target.tolist())\n",
    "\n",
    "y_train = encoder.transform(df_train.target.tolist())\n",
    "y_test = encoder.transform(df_test.target.tolist())\n",
    "\n",
    "y_train = y_train.reshape(-1,1)\n",
    "y_test = y_test.reshape(-1,1)\n",
    "\n",
    "print(\"y_train\",y_train.shape)\n",
    "print(\"y_test\",y_test.shape)"
   ]
  },
  {
   "cell_type": "code",
   "execution_count": 29,
   "metadata": {
    "_uuid": "04299c886911ca135583ab64878f213939a2990c",
    "execution": {
     "iopub.execute_input": "2023-03-16T13:06:56.074388Z",
     "iopub.status.busy": "2023-03-16T13:06:56.074114Z",
     "iopub.status.idle": "2023-03-16T13:06:56.082074Z",
     "shell.execute_reply": "2023-03-16T13:06:56.081211Z",
     "shell.execute_reply.started": "2023-03-16T13:06:56.074341Z"
    }
   },
   "outputs": [
    {
     "name": "stdout",
     "output_type": "stream",
     "text": [
      "x_train (1280000, 300)\n",
      "y_train (1280000, 1)\n",
      "\n",
      "x_test (320000, 300)\n",
      "y_test (320000, 1)\n"
     ]
    }
   ],
   "source": [
    "print(\"x_train\", x_train.shape)\n",
    "print(\"y_train\", y_train.shape)\n",
    "print()\n",
    "print(\"x_test\", x_test.shape)\n",
    "print(\"y_test\", y_test.shape)"
   ]
  },
  {
   "cell_type": "code",
   "execution_count": 30,
   "metadata": {
    "_uuid": "232533fb27b7be99d9b8c2f8fb22c9c6bf121a6f",
    "execution": {
     "iopub.execute_input": "2023-03-16T13:06:56.083435Z",
     "iopub.status.busy": "2023-03-16T13:06:56.083167Z",
     "iopub.status.idle": "2023-03-16T13:06:56.091395Z",
     "shell.execute_reply": "2023-03-16T13:06:56.090508Z",
     "shell.execute_reply.started": "2023-03-16T13:06:56.083386Z"
    }
   },
   "outputs": [
    {
     "data": {
      "text/plain": [
       "array([[1],\n",
       "       [1],\n",
       "       [1],\n",
       "       [0],\n",
       "       [1],\n",
       "       [1],\n",
       "       [1],\n",
       "       [1],\n",
       "       [1],\n",
       "       [1]])"
      ]
     },
     "execution_count": 30,
     "metadata": {},
     "output_type": "execute_result"
    }
   ],
   "source": [
    "y_train[:10]"
   ]
  },
  {
   "cell_type": "markdown",
   "metadata": {
    "_uuid": "233c0ea94055a03e2e7df3e2a13d036ec963484f"
   },
   "source": [
    "### Embedding layer"
   ]
  },
  {
   "cell_type": "code",
   "execution_count": 31,
   "metadata": {
    "_uuid": "9ab488374b59e3f30f8b1ea92767d853c4846bac",
    "execution": {
     "iopub.execute_input": "2023-03-16T13:06:56.093311Z",
     "iopub.status.busy": "2023-03-16T13:06:56.092682Z",
     "iopub.status.idle": "2023-03-16T13:06:56.396103Z",
     "shell.execute_reply": "2023-03-16T13:06:56.395189Z",
     "shell.execute_reply.started": "2023-03-16T13:06:56.093141Z"
    }
   },
   "outputs": [
    {
     "name": "stdout",
     "output_type": "stream",
     "text": [
      "(290419, 300)\n"
     ]
    }
   ],
   "source": [
    "embedding_matrix = np.zeros((vocab_size, W2V_SIZE))\n",
    "for word, i in tokenizer.word_index.items():\n",
    "  if word in w2v_model.wv:\n",
    "    embedding_matrix[i] = w2v_model.wv[word]\n",
    "print(embedding_matrix.shape)"
   ]
  },
  {
   "cell_type": "code",
   "execution_count": 32,
   "metadata": {
    "_uuid": "833279d91e4286065968237fb5f2a0c2dd4d246c",
    "execution": {
     "iopub.execute_input": "2023-03-16T13:06:56.402487Z",
     "iopub.status.busy": "2023-03-16T13:06:56.400477Z",
     "iopub.status.idle": "2023-03-16T13:06:56.430627Z",
     "shell.execute_reply": "2023-03-16T13:06:56.429892Z",
     "shell.execute_reply.started": "2023-03-16T13:06:56.402432Z"
    }
   },
   "outputs": [],
   "source": [
    "embedding_layer = Embedding(vocab_size, W2V_SIZE, weights=[embedding_matrix], input_length=SEQUENCE_LENGTH, trainable=False)"
   ]
  },
  {
   "cell_type": "markdown",
   "metadata": {
    "_uuid": "b299ef78f94c2085942c993a2d58753a7476305a"
   },
   "source": [
    "### Build Model"
   ]
  },
  {
   "cell_type": "code",
   "execution_count": 33,
   "metadata": {
    "_uuid": "e775ef4f1b74e6412457181383c39f2df554ef3f",
    "execution": {
     "iopub.execute_input": "2023-03-16T13:06:56.432250Z",
     "iopub.status.busy": "2023-03-16T13:06:56.431861Z",
     "iopub.status.idle": "2023-03-16T13:06:59.774044Z",
     "shell.execute_reply": "2023-03-16T13:06:59.773389Z",
     "shell.execute_reply.started": "2023-03-16T13:06:56.432204Z"
    }
   },
   "outputs": [
    {
     "name": "stdout",
     "output_type": "stream",
     "text": [
      "_________________________________________________________________\n",
      "Layer (type)                 Output Shape              Param #   \n",
      "=================================================================\n",
      "embedding (Embedding)        (None, 300, 300)          87125700  \n",
      "_________________________________________________________________\n",
      "dropout (Dropout)            (None, 300, 300)          0         \n",
      "_________________________________________________________________\n",
      "lstm (LSTM)                  (None, 100)               160400    \n",
      "_________________________________________________________________\n",
      "dense (Dense)                (None, 1)                 101       \n",
      "=================================================================\n",
      "Total params: 87,286,201\n",
      "Trainable params: 160,501\n",
      "Non-trainable params: 87,125,700\n",
      "_________________________________________________________________\n"
     ]
    }
   ],
   "source": [
    "model = Sequential()\n",
    "model.add(embedding_layer)\n",
    "model.add(Dropout(0.5))\n",
    "model.add(LSTM(100, dropout=0.2, recurrent_dropout=0.2))\n",
    "model.add(Dense(1, activation='sigmoid'))\n",
    "\n",
    "model.summary()"
   ]
  },
  {
   "cell_type": "markdown",
   "metadata": {
    "_uuid": "28d22eafd0c7d798dcf3d742bc92fb8577939e6c"
   },
   "source": [
    "### Compile model"
   ]
  },
  {
   "cell_type": "code",
   "execution_count": 34,
   "metadata": {
    "_uuid": "1331e08d590bb2aa2033706c8faca217afc0f1c3",
    "execution": {
     "iopub.execute_input": "2023-03-16T13:06:59.776822Z",
     "iopub.status.busy": "2023-03-16T13:06:59.776537Z",
     "iopub.status.idle": "2023-03-16T13:06:59.876065Z",
     "shell.execute_reply": "2023-03-16T13:06:59.875468Z",
     "shell.execute_reply.started": "2023-03-16T13:06:59.776764Z"
    }
   },
   "outputs": [],
   "source": [
    "model.compile(loss='binary_crossentropy',\n",
    "              optimizer=\"adam\",\n",
    "              metrics=['accuracy'])"
   ]
  },
  {
   "cell_type": "markdown",
   "metadata": {
    "_uuid": "c7733127cb8b380e0c807268903bf4d03ef92542"
   },
   "source": [
    "### Callbacks"
   ]
  },
  {
   "cell_type": "code",
   "execution_count": 35,
   "metadata": {
    "_uuid": "a688df590386f5748da6fe00b01904fe6c71619e",
    "execution": {
     "iopub.execute_input": "2023-03-16T13:06:59.877912Z",
     "iopub.status.busy": "2023-03-16T13:06:59.877351Z",
     "iopub.status.idle": "2023-03-16T13:06:59.882427Z",
     "shell.execute_reply": "2023-03-16T13:06:59.881352Z",
     "shell.execute_reply.started": "2023-03-16T13:06:59.877712Z"
    }
   },
   "outputs": [],
   "source": [
    "callbacks = [ ReduceLROnPlateau(monitor='val_loss', patience=5, cooldown=0),\n",
    "              EarlyStopping(monitor='val_acc', min_delta=1e-4, patience=5)]"
   ]
  },
  {
   "cell_type": "markdown",
   "metadata": {
    "_uuid": "8d0873633dd49179c8cae17377641b97d323ef3b"
   },
   "source": [
    "### Train"
   ]
  },
  {
   "cell_type": "code",
   "execution_count": 36,
   "metadata": {
    "_uuid": "2b659d390c6577dc5cdb6b6297934279b4e801d5",
    "execution": {
     "iopub.execute_input": "2023-03-16T13:06:59.884353Z",
     "iopub.status.busy": "2023-03-16T13:06:59.883915Z",
     "iopub.status.idle": "2023-03-16T14:25:48.441018Z",
     "shell.execute_reply": "2023-03-16T14:25:48.440315Z",
     "shell.execute_reply.started": "2023-03-16T13:06:59.884139Z"
    }
   },
   "outputs": [
    {
     "name": "stdout",
     "output_type": "stream",
     "text": [
      "Train on 1152000 samples, validate on 128000 samples\n",
      "Epoch 1/8\n",
      "1152000/1152000 [==============================] - 590s 512us/step - loss: 0.5049 - acc: 0.7496 - val_loss: 0.4633 - val_acc: 0.7800\n",
      "Epoch 2/8\n",
      "1152000/1152000 [==============================] - 597s 519us/step - loss: 0.4799 - acc: 0.7668 - val_loss: 0.4577 - val_acc: 0.7836\n",
      "Epoch 3/8\n",
      "1152000/1152000 [==============================] - 595s 517us/step - loss: 0.4727 - acc: 0.7717 - val_loss: 0.4537 - val_acc: 0.7859\n",
      "Epoch 4/8\n",
      "1152000/1152000 [==============================] - 591s 513us/step - loss: 0.4690 - acc: 0.7736 - val_loss: 0.4536 - val_acc: 0.7864\n",
      "Epoch 5/8\n",
      "1152000/1152000 [==============================] - 587s 510us/step - loss: 0.4690 - acc: 0.7738 - val_loss: 0.4501 - val_acc: 0.7884\n",
      "Epoch 6/8\n",
      "1152000/1152000 [==============================] - 588s 510us/step - loss: 0.4663 - acc: 0.7754 - val_loss: 0.4490 - val_acc: 0.7886\n",
      "Epoch 7/8\n",
      "1152000/1152000 [==============================] - 591s 513us/step - loss: 0.4653 - acc: 0.7760 - val_loss: 0.4496 - val_acc: 0.7894\n",
      "Epoch 8/8\n",
      "1152000/1152000 [==============================] - 588s 510us/step - loss: 0.4642 - acc: 0.7770 - val_loss: 0.4470 - val_acc: 0.7897\n",
      "CPU times: user 1h 42min 6s, sys: 4min 54s, total: 1h 47min 1s\n",
      "Wall time: 1h 18min 48s\n"
     ]
    }
   ],
   "source": [
    "%%time\n",
    "history = model.fit(x_train, y_train,\n",
    "                    batch_size=BATCH_SIZE,\n",
    "                    epochs=EPOCHS,\n",
    "                    validation_split=0.1,\n",
    "                    verbose=1,\n",
    "                    callbacks=callbacks)"
   ]
  },
  {
   "cell_type": "markdown",
   "metadata": {
    "_uuid": "267258196d96796ac69a7b8c466314bcf5d6ee42"
   },
   "source": [
    "### Evaluate"
   ]
  },
  {
   "cell_type": "code",
   "execution_count": 37,
   "metadata": {
    "_uuid": "98ecd8f1b8b74594c3ea775dd68a094e92458022",
    "execution": {
     "iopub.execute_input": "2023-03-16T14:25:48.442234Z",
     "iopub.status.busy": "2023-03-16T14:25:48.441975Z",
     "iopub.status.idle": "2023-03-16T14:26:48.741358Z",
     "shell.execute_reply": "2023-03-16T14:26:48.740639Z",
     "shell.execute_reply.started": "2023-03-16T14:25:48.442186Z"
    }
   },
   "outputs": [
    {
     "name": "stdout",
     "output_type": "stream",
     "text": [
      "320000/320000 [==============================] - 60s 188us/step\n",
      "\n",
      "ACCURACY: 0.78980625\n",
      "LOSS: 0.44618075828552245\n",
      "CPU times: user 1min 21s, sys: 5.33 s, total: 1min 26s\n",
      "Wall time: 1min\n"
     ]
    }
   ],
   "source": [
    "%%time\n",
    "score = model.evaluate(x_test, y_test, batch_size=BATCH_SIZE)\n",
    "print()\n",
    "print(\"ACCURACY:\",score[1])\n",
    "print(\"LOSS:\",score[0])"
   ]
  },
  {
   "cell_type": "code",
   "execution_count": 38,
   "metadata": {
    "_uuid": "40c72cd1e9d6c4fd799cbba7c813765ac4039dfc",
    "execution": {
     "iopub.execute_input": "2023-03-16T14:26:48.742589Z",
     "iopub.status.busy": "2023-03-16T14:26:48.742310Z",
     "iopub.status.idle": "2023-03-16T14:26:49.220905Z",
     "shell.execute_reply": "2023-03-16T14:26:49.219835Z",
     "shell.execute_reply.started": "2023-03-16T14:26:48.742540Z"
    }
   },
   "outputs": [
    {
     "data": {
      "image/png": "[encoded data removed]",
      "text/plain": [
       "<Figure size 432x288 with 1 Axes>"
      ]
     },
     "metadata": {},
     "output_type": "display_data"
    },
    {
     "data": {
      "image/png": "[encoded data removed]",
      "text/plain": [
       "<Figure size 432x288 with 1 Axes>"
      ]
     },
     "metadata": {},
     "output_type": "display_data"
    }
   ],
   "source": [
    "acc = history.history['acc']\n",
    "val_acc = history.history['val_acc']\n",
    "loss = history.history['loss']\n",
    "val_loss = history.history['val_loss']\n",
    " \n",
    "epochs = range(len(acc))\n",
    " \n",
    "plt.plot(epochs, acc, 'b', label='Training acc')\n",
    "plt.plot(epochs, val_acc, 'r', label='Validation acc')\n",
    "plt.title('Training and validation accuracy')\n",
    "plt.legend()\n",
    " \n",
    "plt.figure()\n",
    " \n",
    "plt.plot(epochs, loss, 'b', label='Training loss')\n",
    "plt.plot(epochs, val_loss, 'r', label='Validation loss')\n",
    "plt.title('Training and validation loss')\n",
    "plt.legend()\n",
    " \n",
    "plt.show()"
   ]
  },
  {
   "cell_type": "markdown",
   "metadata": {
    "_uuid": "6bdfc0f6a6af5bebc0271d83dd7432c91001409b"
   },
   "source": [
    "### Predict"
   ]
  },
  {
   "cell_type": "code",
   "execution_count": 39,
   "metadata": {
    "_uuid": "f0b0fa3d4b1bb14b3f5e3d169a369f3ebef29ae1",
    "execution": {
     "iopub.execute_input": "2023-03-16T14:26:49.228918Z",
     "iopub.status.busy": "2023-03-16T14:26:49.226106Z",
     "iopub.status.idle": "2023-03-16T14:26:49.237779Z",
     "shell.execute_reply": "2023-03-16T14:26:49.236602Z",
     "shell.execute_reply.started": "2023-03-16T14:26:49.228843Z"
    }
   },
   "outputs": [],
   "source": [
    "def decode_sentiment(score, include_neutral=True):\n",
    "    if include_neutral:        \n",
    "        label = NEUTRAL\n",
    "        if score <= SENTIMENT_THRESHOLDS[0]:\n",
    "            label = NEGATIVE\n",
    "        elif score >= SENTIMENT_THRESHOLDS[1]:\n",
    "            label = POSITIVE\n",
    "\n",
    "        return label\n",
    "    else:\n",
    "        return NEGATIVE if score < 0.5 else POSITIVE"
   ]
  },
  {
   "cell_type": "code",
   "execution_count": 40,
   "metadata": {
    "_uuid": "ed4086d651f2f8cbed11d3c909a8873607d29a06",
    "execution": {
     "iopub.execute_input": "2023-03-16T14:26:49.239823Z",
     "iopub.status.busy": "2023-03-16T14:26:49.239241Z",
     "iopub.status.idle": "2023-03-16T14:26:49.252591Z",
     "shell.execute_reply": "2023-03-16T14:26:49.251429Z",
     "shell.execute_reply.started": "2023-03-16T14:26:49.239774Z"
    }
   },
   "outputs": [],
   "source": [
    "def predict(text, include_neutral=True):\n",
    "    start_at = time.time()\n",
    "    # Tokenize text\n",
    "    x_test = pad_sequences(tokenizer.texts_to_sequences([text]), maxlen=SEQUENCE_LENGTH)\n",
    "    # Predict\n",
    "    score = model.predict([x_test])[0]\n",
    "    # Decode sentiment\n",
    "    label = decode_sentiment(score, include_neutral=include_neutral)\n",
    "\n",
    "    return {\"label\": label, \"score\": float(score),\n",
    "       \"elapsed_time\": time.time()-start_at}  "
   ]
  },
  {
   "cell_type": "code",
   "execution_count": 41,
   "metadata": {
    "_uuid": "ca38b1e6c9b5acfed7467de2cf02a78333108872",
    "execution": {
     "iopub.execute_input": "2023-03-16T14:26:49.254745Z",
     "iopub.status.busy": "2023-03-16T14:26:49.254150Z",
     "iopub.status.idle": "2023-03-16T14:26:49.585949Z",
     "shell.execute_reply": "2023-03-16T14:26:49.585329Z",
     "shell.execute_reply.started": "2023-03-16T14:26:49.254696Z"
    }
   },
   "outputs": [
    {
     "data": {
      "text/plain": [
       "{'label': 'POSITIVE',\n",
       " 'score': 0.9767731428146362,\n",
       " 'elapsed_time': 0.32244062423706055}"
      ]
     },
     "execution_count": 41,
     "metadata": {},
     "output_type": "execute_result"
    }
   ],
   "source": [
    "predict(\"I love the music\")"
   ]
  },
  {
   "cell_type": "code",
   "execution_count": 42,
   "metadata": {
    "_uuid": "0e5fe647533be0148850de349fea6ef6f71303d1",
    "execution": {
     "iopub.execute_input": "2023-03-16T14:26:49.587132Z",
     "iopub.status.busy": "2023-03-16T14:26:49.586960Z",
     "iopub.status.idle": "2023-03-16T14:26:49.766410Z",
     "shell.execute_reply": "2023-03-16T14:26:49.765621Z",
     "shell.execute_reply.started": "2023-03-16T14:26:49.587103Z"
    }
   },
   "outputs": [
    {
     "data": {
      "text/plain": [
       "{'label': 'NEGATIVE',\n",
       " 'score': 0.007443530485033989,\n",
       " 'elapsed_time': 0.1733567714691162}"
      ]
     },
     "execution_count": 42,
     "metadata": {},
     "output_type": "execute_result"
    }
   ],
   "source": [
    "predict(\"I hate the rain\")"
   ]
  },
  {
   "cell_type": "code",
   "execution_count": 43,
   "metadata": {
    "_uuid": "37064dffcc8920d34ccd54fac7c8b50e583a8269",
    "execution": {
     "iopub.execute_input": "2023-03-16T14:26:49.767906Z",
     "iopub.status.busy": "2023-03-16T14:26:49.767628Z",
     "iopub.status.idle": "2023-03-16T14:26:49.942061Z",
     "shell.execute_reply": "2023-03-16T14:26:49.941233Z",
     "shell.execute_reply.started": "2023-03-16T14:26:49.767859Z"
    }
   },
   "outputs": [
    {
     "data": {
      "text/plain": [
       "{'label': 'NEGATIVE',\n",
       " 'score': 0.30140966176986694,\n",
       " 'elapsed_time': 0.16974854469299316}"
      ]
     },
     "execution_count": 43,
     "metadata": {},
     "output_type": "execute_result"
    }
   ],
   "source": [
    "predict(\"i don't know what i'm doing\")"
   ]
  },
  {
   "cell_type": "markdown",
   "metadata": {
    "_uuid": "3ee72e47f84b6dbc32e02a783de5ec1661f157e1"
   },
   "source": [
    "### Confusion Matrix"
   ]
  },
  {
   "cell_type": "code",
   "execution_count": 44,
   "metadata": {
    "_uuid": "0e920173eb05f04aecdd735bc5dff0f5be5f8d15",
    "execution": {
     "iopub.execute_input": "2023-03-16T14:26:49.943476Z",
     "iopub.status.busy": "2023-03-16T14:26:49.943210Z",
     "iopub.status.idle": "2023-03-16T14:27:11.098072Z",
     "shell.execute_reply": "2023-03-16T14:27:11.097251Z",
     "shell.execute_reply.started": "2023-03-16T14:26:49.943432Z"
    }
   },
   "outputs": [
    {
     "name": "stdout",
     "output_type": "stream",
     "text": [
      "320000/320000 [==============================] - 21s 65us/step\n",
      "CPU times: user 13.2 s, sys: 1.15 s, total: 14.4 s\n",
      "Wall time: 21.1 s\n"
     ]
    }
   ],
   "source": [
    "%%time\n",
    "y_pred_1d = []\n",
    "y_test_1d = list(df_test.target)\n",
    "scores = model.predict(x_test, verbose=1, batch_size=8000)\n",
    "y_pred_1d = [decode_sentiment(score, include_neutral=False) for score in scores]"
   ]
  },
  {
   "cell_type": "code",
   "execution_count": 45,
   "metadata": {
    "_uuid": "b3575191bb425ab871f3f41e83812ee84bb7e595",
    "execution": {
     "iopub.execute_input": "2023-03-16T14:27:11.099671Z",
     "iopub.status.busy": "2023-03-16T14:27:11.099375Z",
     "iopub.status.idle": "2023-03-16T14:27:11.108720Z",
     "shell.execute_reply": "2023-03-16T14:27:11.108090Z",
     "shell.execute_reply.started": "2023-03-16T14:27:11.099621Z"
    }
   },
   "outputs": [],
   "source": [
    "def plot_confusion_matrix(cm, classes,\n",
    "                          title='Confusion matrix',\n",
    "                          cmap=plt.cm.Blues):\n",
    "    \"\"\"\n",
    "    This function prints and plots the confusion matrix.\n",
    "    Normalization can be applied by setting `normalize=True`.\n",
    "    \"\"\"\n",
    "\n",
    "    cm = cm.astype('float') / cm.sum(axis=1)[:, np.newaxis]\n",
    "\n",
    "    plt.imshow(cm, interpolation='nearest', cmap=cmap)\n",
    "    plt.title(title, fontsize=30)\n",
    "    plt.colorbar()\n",
    "    tick_marks = np.arange(len(classes))\n",
    "    plt.xticks(tick_marks, classes, rotation=90, fontsize=22)\n",
    "    plt.yticks(tick_marks, classes, fontsize=22)\n",
    "\n",
    "    fmt = '.2f'\n",
    "    thresh = cm.max() / 2.\n",
    "    for i, j in itertools.product(range(cm.shape[0]), range(cm.shape[1])):\n",
    "        plt.text(j, i, format(cm[i, j], fmt),\n",
    "                 horizontalalignment=\"center\",\n",
    "                 color=\"white\" if cm[i, j] > thresh else \"black\")\n",
    "\n",
    "    plt.ylabel('True label', fontsize=25)\n",
    "    plt.xlabel('Predicted label', fontsize=25)"
   ]
  },
  {
   "cell_type": "code",
   "execution_count": 46,
   "metadata": {
    "_uuid": "a57dc6f6211c144491a70f533225edfa95a2dc66",
    "execution": {
     "iopub.execute_input": "2023-03-16T14:27:11.110672Z",
     "iopub.status.busy": "2023-03-16T14:27:11.110144Z",
     "iopub.status.idle": "2023-03-16T14:27:12.354068Z",
     "shell.execute_reply": "2023-03-16T14:27:12.353278Z",
     "shell.execute_reply.started": "2023-03-16T14:27:11.110440Z"
    }
   },
   "outputs": [
    {
     "data": {
      "image/png": "[encoded data removed]",
      "text/plain": [
       "<Figure size 864x864 with 2 Axes>"
      ]
     },
     "metadata": {},
     "output_type": "display_data"
    },
    {
     "name": "stdout",
     "output_type": "stream",
     "text": [
      "CPU times: user 1.33 s, sys: 229 ms, total: 1.56 s\n",
      "Wall time: 1.23 s\n"
     ]
    }
   ],
   "source": [
    "%%time\n",
    "\n",
    "cnf_matrix = confusion_matrix(y_test_1d, y_pred_1d)\n",
    "plt.figure(figsize=(12,12))\n",
    "plot_confusion_matrix(cnf_matrix, classes=df_train.target.unique(), title=\"Confusion matrix\")\n",
    "plt.show()"
   ]
  },
  {
   "cell_type": "markdown",
   "metadata": {
    "_uuid": "e23b957348dcc084249d3cc7538b972da471c2cd"
   },
   "source": [
    "### Classification Report"
   ]
  },
  {
   "cell_type": "code",
   "execution_count": 47,
   "metadata": {
    "_uuid": "a7fe05b7caa1c984ff1deb0be2f7c6bc043df9f5",
    "execution": {
     "iopub.execute_input": "2023-03-16T14:27:12.355910Z",
     "iopub.status.busy": "2023-03-16T14:27:12.355376Z",
     "iopub.status.idle": "2023-03-16T14:27:14.506116Z",
     "shell.execute_reply": "2023-03-16T14:27:14.505260Z",
     "shell.execute_reply.started": "2023-03-16T14:27:12.355858Z"
    }
   },
   "outputs": [
    {
     "name": "stdout",
     "output_type": "stream",
     "text": [
      "              precision    recall  f1-score   support\n",
      "\n",
      "    NEGATIVE       0.79      0.78      0.79    159494\n",
      "    POSITIVE       0.79      0.80      0.79    160506\n",
      "\n",
      "   micro avg       0.79      0.79      0.79    320000\n",
      "   macro avg       0.79      0.79      0.79    320000\n",
      "weighted avg       0.79      0.79      0.79    320000\n",
      "\n"
     ]
    }
   ],
   "source": [
    "print(classification_report(y_test_1d, y_pred_1d))"
   ]
  },
  {
   "cell_type": "markdown",
   "metadata": {
    "_uuid": "4eb300f0c6693a618587c7dcf32f77f5416cbfb9"
   },
   "source": [
    "### Accuracy Score"
   ]
  },
  {
   "cell_type": "code",
   "execution_count": 48,
   "metadata": {
    "_uuid": "5cf76e6e09f8a60ed25947932b94c772eda44d23",
    "execution": {
     "iopub.execute_input": "2023-03-16T14:27:14.507825Z",
     "iopub.status.busy": "2023-03-16T14:27:14.507353Z",
     "iopub.status.idle": "2023-03-16T14:27:14.800998Z",
     "shell.execute_reply": "2023-03-16T14:27:14.800354Z",
     "shell.execute_reply.started": "2023-03-16T14:27:14.507604Z"
    }
   },
   "outputs": [
    {
     "data": {
      "text/plain": [
       "0.78980625"
      ]
     },
     "execution_count": 48,
     "metadata": {},
     "output_type": "execute_result"
    }
   ],
   "source": [
    "accuracy_score(y_test_1d, y_pred_1d)"
   ]
  },
  {
   "cell_type": "markdown",
   "metadata": {
    "_uuid": "4f014c32f3833db282e1a075c526604f34e3158c"
   },
   "source": [
    "### Save model"
   ]
  },
  {
   "cell_type": "code",
   "execution_count": 49,
   "metadata": {
    "_uuid": "3b2b3ad5b592977b404acfa1c9ad303a62837255",
    "execution": {
     "iopub.execute_input": "2023-03-16T14:27:14.802531Z",
     "iopub.status.busy": "2023-03-16T14:27:14.802250Z",
     "iopub.status.idle": "2023-03-16T14:27:16.670411Z",
     "shell.execute_reply": "2023-03-16T14:27:16.669587Z",
     "shell.execute_reply.started": "2023-03-16T14:27:14.802466Z"
    }
   },
   "outputs": [
    {
     "name": "stderr",
     "output_type": "stream",
     "text": [
      "2023-03-16 14:27:15,184 : INFO : saving Word2Vec object under model.w2v, separately None\n",
      "2023-03-16 14:27:15,185 : INFO : not storing attribute vectors_norm\n",
      "2023-03-16 14:27:15,188 : INFO : not storing attribute cum_table\n",
      "2023-03-16 14:27:16,017 : INFO : saved model.w2v\n"
     ]
    }
   ],
   "source": [
    "model.save(KERAS_MODEL)\n",
    "w2v_model.save(WORD2VEC_MODEL)\n",
    "pickle.dump(tokenizer, open(TOKENIZER_MODEL, \"wb\"), protocol=0)\n",
    "pickle.dump(encoder, open(ENCODER_MODEL, \"wb\"), protocol=0)"
   ]
  },
  {
   "cell_type": "code",
   "execution_count": null,
   "metadata": {
    "_uuid": "cc363c54782894757f5ea8820c6a170f2e16ef93"
   },
   "outputs": [],
   "source": []
  },
  {
   "cell_type": "code",
   "execution_count": null,
   "metadata": {},
   "outputs": [],
   "source": []
  }
 ],
 "metadata": {
  "kernelspec": {
   "display_name": "Python 3 (ipykernel)",
   "language": "python",
   "name": "python3"
  },
  "language_info": {
   "codemirror_mode": {
    "name": "ipython",
    "version": 3
   },
   "file_extension": ".py",
   "mimetype": "text/x-python",
   "name": "python",
   "nbconvert_exporter": "python",
   "pygments_lexer": "ipython3",
   "version": "3.8.16"
  }
 },
 "nbformat": 4,
 "nbformat_minor": 4
}
